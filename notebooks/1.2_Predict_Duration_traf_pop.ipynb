{
 "cells": [
  {
   "cell_type": "markdown",
   "metadata": {},
   "source": [
    "# Regression modeling with Traffic + Population Data"
   ]
  },
  {
   "cell_type": "code",
   "execution_count": 2,
   "metadata": {
    "ExecuteTime": {
     "end_time": "2020-06-10T16:43:34.851948Z",
     "start_time": "2020-06-10T16:43:32.805599Z"
    }
   },
   "outputs": [],
   "source": [
    "from datetime import datetime, timedelta\n",
    "import pandas as pd\n",
    "import numpy as np\n",
    "import statsmodels.api as sm\n",
    "import statsmodels.formula.api as smf\n",
    "import patsy\n",
    "import pprint\n",
    "from sklearn.metrics import mean_squared_error\n",
    "from sklearn.metrics import accuracy_score\n",
    "from math import sqrt\n",
    "from sklearn import ensemble\n",
    "from sklearn.inspection import permutation_importance\n",
    "\n",
    "import seaborn as sns\n",
    "import matplotlib.pyplot as plt\n",
    "from sklearn.model_selection import train_test_split, KFold, GridSearchCV\n",
    "from sklearn.preprocessing import StandardScaler, PolynomialFeatures\n",
    "from sklearn.pipeline import Pipeline\n",
    "from sklearn.linear_model import LinearRegression, Lasso, LassoCV, Ridge, RidgeCV\n",
    "from sklearn.metrics import r2_score, explained_variance_score\n",
    "import xgboost as xgb\n",
    "import uuid \n",
    "%matplotlib inline\n"
   ]
  },
  {
   "cell_type": "code",
   "execution_count": 3,
   "metadata": {
    "ExecuteTime": {
     "end_time": "2020-06-10T16:43:34.857785Z",
     "start_time": "2020-06-10T16:43:34.853884Z"
    }
   },
   "outputs": [],
   "source": [
    "pd.set_option('display.max_rows', 20)\n",
    "pd.set_option('display.float_format', '{:.2f}'.format)\n",
    "np.set_printoptions(suppress=True)"
   ]
  },
  {
   "cell_type": "code",
   "execution_count": 4,
   "metadata": {
    "ExecuteTime": {
     "end_time": "2020-06-10T16:43:35.780475Z",
     "start_time": "2020-06-10T16:43:34.859751Z"
    }
   },
   "outputs": [],
   "source": [
    "df = pd.read_csv(\"./data/traffic_pop_data.csv\")"
   ]
  },
  {
   "cell_type": "code",
   "execution_count": 5,
   "metadata": {
    "ExecuteTime": {
     "end_time": "2020-06-10T16:43:35.844848Z",
     "start_time": "2020-06-10T16:43:35.781449Z"
    },
    "scrolled": false
   },
   "outputs": [
    {
     "data": {
      "text/html": [
       "<div>\n",
       "<style scoped>\n",
       "    .dataframe tbody tr th:only-of-type {\n",
       "        vertical-align: middle;\n",
       "    }\n",
       "\n",
       "    .dataframe tbody tr th {\n",
       "        vertical-align: top;\n",
       "    }\n",
       "\n",
       "    .dataframe thead th {\n",
       "        text-align: right;\n",
       "    }\n",
       "</style>\n",
       "<table border=\"1\" class=\"dataframe\">\n",
       "  <thead>\n",
       "    <tr style=\"text-align: right;\">\n",
       "      <th></th>\n",
       "      <th>Severity</th>\n",
       "      <th>StartTime(UTC)</th>\n",
       "      <th>LocationLat</th>\n",
       "      <th>LocationLng</th>\n",
       "      <th>ZipCode</th>\n",
       "      <th>Duration</th>\n",
       "      <th>irs_estimated_population_2015</th>\n",
       "      <th>County</th>\n",
       "      <th>Population Estimate (as of July 1) - 2018 - Both Sexes; Median age (years)</th>\n",
       "      <th>Population Estimate (as of July 1) - 2018 - Male; Median age (years)</th>\n",
       "      <th>Population Estimate (as of July 1) - 2018 - Female; Median age (years)</th>\n",
       "      <th>Density(/sqmi)</th>\n",
       "    </tr>\n",
       "  </thead>\n",
       "  <tbody>\n",
       "    <tr>\n",
       "      <th>0</th>\n",
       "      <td>1</td>\n",
       "      <td>2016-11-30 23:35:00</td>\n",
       "      <td>47.01</td>\n",
       "      <td>-122.91</td>\n",
       "      <td>98501</td>\n",
       "      <td>80</td>\n",
       "      <td>37370</td>\n",
       "      <td>Thurston</td>\n",
       "      <td>39.10</td>\n",
       "      <td>37.70</td>\n",
       "      <td>40.50</td>\n",
       "      <td>335.30</td>\n",
       "    </tr>\n",
       "    <tr>\n",
       "      <th>1</th>\n",
       "      <td>2</td>\n",
       "      <td>2016-12-01 00:52:00</td>\n",
       "      <td>47.61</td>\n",
       "      <td>-122.33</td>\n",
       "      <td>98104</td>\n",
       "      <td>12</td>\n",
       "      <td>8990</td>\n",
       "      <td>King</td>\n",
       "      <td>36.90</td>\n",
       "      <td>36.20</td>\n",
       "      <td>37.70</td>\n",
       "      <td>870.90</td>\n",
       "    </tr>\n",
       "    <tr>\n",
       "      <th>2</th>\n",
       "      <td>1</td>\n",
       "      <td>2016-12-01 01:08:00</td>\n",
       "      <td>47.96</td>\n",
       "      <td>-122.20</td>\n",
       "      <td>98203</td>\n",
       "      <td>18</td>\n",
       "      <td>32440</td>\n",
       "      <td>Snohomish</td>\n",
       "      <td>38.00</td>\n",
       "      <td>37.20</td>\n",
       "      <td>38.80</td>\n",
       "      <td>334.80</td>\n",
       "    </tr>\n",
       "    <tr>\n",
       "      <th>3</th>\n",
       "      <td>1</td>\n",
       "      <td>2016-12-01 01:02:00</td>\n",
       "      <td>47.56</td>\n",
       "      <td>-122.19</td>\n",
       "      <td>98006</td>\n",
       "      <td>22</td>\n",
       "      <td>39630</td>\n",
       "      <td>King</td>\n",
       "      <td>36.90</td>\n",
       "      <td>36.20</td>\n",
       "      <td>37.70</td>\n",
       "      <td>870.90</td>\n",
       "    </tr>\n",
       "    <tr>\n",
       "      <th>4</th>\n",
       "      <td>1</td>\n",
       "      <td>2016-12-01 01:19:00</td>\n",
       "      <td>47.62</td>\n",
       "      <td>-122.33</td>\n",
       "      <td>98101</td>\n",
       "      <td>12</td>\n",
       "      <td>10910</td>\n",
       "      <td>King</td>\n",
       "      <td>36.90</td>\n",
       "      <td>36.20</td>\n",
       "      <td>37.70</td>\n",
       "      <td>870.90</td>\n",
       "    </tr>\n",
       "  </tbody>\n",
       "</table>\n",
       "</div>"
      ],
      "text/plain": [
       "   Severity       StartTime(UTC)  LocationLat  LocationLng  ZipCode  Duration  \\\n",
       "0         1  2016-11-30 23:35:00        47.01      -122.91    98501        80   \n",
       "1         2  2016-12-01 00:52:00        47.61      -122.33    98104        12   \n",
       "2         1  2016-12-01 01:08:00        47.96      -122.20    98203        18   \n",
       "3         1  2016-12-01 01:02:00        47.56      -122.19    98006        22   \n",
       "4         1  2016-12-01 01:19:00        47.62      -122.33    98101        12   \n",
       "\n",
       "   irs_estimated_population_2015     County  \\\n",
       "0                          37370   Thurston   \n",
       "1                           8990       King   \n",
       "2                          32440  Snohomish   \n",
       "3                          39630       King   \n",
       "4                          10910       King   \n",
       "\n",
       "   Population Estimate (as of July 1) - 2018 - Both Sexes; Median age (years)  \\\n",
       "0                                              39.10                            \n",
       "1                                              36.90                            \n",
       "2                                              38.00                            \n",
       "3                                              36.90                            \n",
       "4                                              36.90                            \n",
       "\n",
       "   Population Estimate (as of July 1) - 2018 - Male; Median age (years)  \\\n",
       "0                                              37.70                      \n",
       "1                                              36.20                      \n",
       "2                                              37.20                      \n",
       "3                                              36.20                      \n",
       "4                                              36.20                      \n",
       "\n",
       "   Population Estimate (as of July 1) - 2018 - Female; Median age (years)  \\\n",
       "0                                              40.50                        \n",
       "1                                              37.70                        \n",
       "2                                              38.80                        \n",
       "3                                              37.70                        \n",
       "4                                              37.70                        \n",
       "\n",
       "   Density(/sqmi)  \n",
       "0          335.30  \n",
       "1          870.90  \n",
       "2          334.80  \n",
       "3          870.90  \n",
       "4          870.90  "
      ]
     },
     "execution_count": 5,
     "metadata": {},
     "output_type": "execute_result"
    }
   ],
   "source": [
    "df.head()"
   ]
  },
  {
   "cell_type": "code",
   "execution_count": 6,
   "metadata": {
    "ExecuteTime": {
     "end_time": "2020-06-10T16:44:04.489253Z",
     "start_time": "2020-06-10T16:44:04.459017Z"
    }
   },
   "outputs": [],
   "source": [
    "df_prune = df.copy()"
   ]
  },
  {
   "cell_type": "code",
   "execution_count": 7,
   "metadata": {
    "ExecuteTime": {
     "end_time": "2020-06-10T16:44:04.765820Z",
     "start_time": "2020-06-10T16:44:04.696568Z"
    }
   },
   "outputs": [
    {
     "name": "stdout",
     "output_type": "stream",
     "text": [
      "<class 'pandas.core.frame.DataFrame'>\n",
      "RangeIndex: 557498 entries, 0 to 557497\n",
      "Data columns (total 12 columns):\n",
      " #   Column                                                                      Non-Null Count   Dtype  \n",
      "---  ------                                                                      --------------   -----  \n",
      " 0   Severity                                                                    557498 non-null  int64  \n",
      " 1   StartTime(UTC)                                                              557498 non-null  object \n",
      " 2   LocationLat                                                                 557498 non-null  float64\n",
      " 3   LocationLng                                                                 557498 non-null  float64\n",
      " 4   ZipCode                                                                     557498 non-null  int64  \n",
      " 5   Duration                                                                    557498 non-null  int64  \n",
      " 6   irs_estimated_population_2015                                               557498 non-null  int64  \n",
      " 7   County                                                                      557498 non-null  object \n",
      " 8   Population Estimate (as of July 1) - 2018 - Both Sexes; Median age (years)  557498 non-null  float64\n",
      " 9   Population Estimate (as of July 1) - 2018 - Male; Median age (years)        557498 non-null  float64\n",
      " 10  Population Estimate (as of July 1) - 2018 - Female; Median age (years)      557498 non-null  float64\n",
      " 11  Density(/sqmi)                                                              557498 non-null  float64\n",
      "dtypes: float64(6), int64(4), object(2)\n",
      "memory usage: 51.0+ MB\n"
     ]
    }
   ],
   "source": [
    "df_prune.info()"
   ]
  },
  {
   "cell_type": "code",
   "execution_count": 8,
   "metadata": {
    "ExecuteTime": {
     "end_time": "2020-06-10T16:44:08.214603Z",
     "start_time": "2020-06-10T16:44:08.208750Z"
    }
   },
   "outputs": [],
   "source": [
    "def Mon(x):\n",
    "    return x.split(\" \")[0].split('-')[1]\n",
    "def Day(x):\n",
    "    return x.split(\" \")[0].split('-')[2]\n",
    "def Hour(x):\n",
    "    return x.split(\" \")[1].split(':')[0]\n",
    "def Minute(x):\n",
    "    return x.split(\" \")[1].split(':')[1]"
   ]
  },
  {
   "cell_type": "code",
   "execution_count": 9,
   "metadata": {
    "ExecuteTime": {
     "end_time": "2020-06-10T16:44:10.143907Z",
     "start_time": "2020-06-10T16:44:08.434060Z"
    }
   },
   "outputs": [],
   "source": [
    "df_prune['StartMonth'] = df_prune['StartTime(UTC)'].apply(lambda x: Mon(x)).astype(int)\n",
    "df_prune['StartDay'] = df_prune['StartTime(UTC)'].apply(lambda x: Day(x)).astype(int)\n",
    "df_prune['StartHour'] = df_prune['StartTime(UTC)'].apply(lambda x: Hour(x)).astype(int)\n",
    "df_prune['StartMinute'] = df_prune['StartTime(UTC)'].apply(lambda x: Minute(x)).astype(int)"
   ]
  },
  {
   "cell_type": "code",
   "execution_count": 10,
   "metadata": {
    "ExecuteTime": {
     "end_time": "2020-06-10T16:44:17.192887Z",
     "start_time": "2020-06-10T16:44:14.465698Z"
    }
   },
   "outputs": [],
   "source": [
    "df_prune['StartTime(UTC)'] = pd.to_datetime(df_prune['StartTime(UTC)'])\n",
    "\n",
    "def get_dayofweek(x):\n",
    "    return x.dayofweek\n",
    "df_prune['DayOfWeek'] = df_prune['StartTime(UTC)'].apply(lambda x: get_dayofweek(x)).astype(int)"
   ]
  },
  {
   "cell_type": "code",
   "execution_count": 12,
   "metadata": {
    "ExecuteTime": {
     "end_time": "2020-06-10T16:45:23.520887Z",
     "start_time": "2020-06-10T16:45:23.507215Z"
    }
   },
   "outputs": [
    {
     "data": {
      "text/html": [
       "<div>\n",
       "<style scoped>\n",
       "    .dataframe tbody tr th:only-of-type {\n",
       "        vertical-align: middle;\n",
       "    }\n",
       "\n",
       "    .dataframe tbody tr th {\n",
       "        vertical-align: top;\n",
       "    }\n",
       "\n",
       "    .dataframe thead th {\n",
       "        text-align: right;\n",
       "    }\n",
       "</style>\n",
       "<table border=\"1\" class=\"dataframe\">\n",
       "  <thead>\n",
       "    <tr style=\"text-align: right;\">\n",
       "      <th></th>\n",
       "      <th>Severity</th>\n",
       "      <th>StartTime(UTC)</th>\n",
       "      <th>LocationLat</th>\n",
       "      <th>LocationLng</th>\n",
       "      <th>ZipCode</th>\n",
       "      <th>Duration</th>\n",
       "      <th>irs_estimated_population_2015</th>\n",
       "      <th>County</th>\n",
       "      <th>Population Estimate (as of July 1) - 2018 - Both Sexes; Median age (years)</th>\n",
       "      <th>Population Estimate (as of July 1) - 2018 - Male; Median age (years)</th>\n",
       "      <th>Population Estimate (as of July 1) - 2018 - Female; Median age (years)</th>\n",
       "      <th>Density(/sqmi)</th>\n",
       "      <th>StartMonth</th>\n",
       "      <th>StartDay</th>\n",
       "      <th>StartHour</th>\n",
       "      <th>StartMinute</th>\n",
       "      <th>DayOfWeek</th>\n",
       "    </tr>\n",
       "  </thead>\n",
       "  <tbody>\n",
       "    <tr>\n",
       "      <th>0</th>\n",
       "      <td>1</td>\n",
       "      <td>2016-11-30 23:35:00</td>\n",
       "      <td>47.01</td>\n",
       "      <td>-122.91</td>\n",
       "      <td>98501</td>\n",
       "      <td>80</td>\n",
       "      <td>37370</td>\n",
       "      <td>Thurston</td>\n",
       "      <td>39.10</td>\n",
       "      <td>37.70</td>\n",
       "      <td>40.50</td>\n",
       "      <td>335.30</td>\n",
       "      <td>11</td>\n",
       "      <td>30</td>\n",
       "      <td>23</td>\n",
       "      <td>35</td>\n",
       "      <td>2</td>\n",
       "    </tr>\n",
       "    <tr>\n",
       "      <th>1</th>\n",
       "      <td>2</td>\n",
       "      <td>2016-12-01 00:52:00</td>\n",
       "      <td>47.61</td>\n",
       "      <td>-122.33</td>\n",
       "      <td>98104</td>\n",
       "      <td>12</td>\n",
       "      <td>8990</td>\n",
       "      <td>King</td>\n",
       "      <td>36.90</td>\n",
       "      <td>36.20</td>\n",
       "      <td>37.70</td>\n",
       "      <td>870.90</td>\n",
       "      <td>12</td>\n",
       "      <td>1</td>\n",
       "      <td>0</td>\n",
       "      <td>52</td>\n",
       "      <td>3</td>\n",
       "    </tr>\n",
       "  </tbody>\n",
       "</table>\n",
       "</div>"
      ],
      "text/plain": [
       "   Severity      StartTime(UTC)  LocationLat  LocationLng  ZipCode  Duration  \\\n",
       "0         1 2016-11-30 23:35:00        47.01      -122.91    98501        80   \n",
       "1         2 2016-12-01 00:52:00        47.61      -122.33    98104        12   \n",
       "\n",
       "   irs_estimated_population_2015    County  \\\n",
       "0                          37370  Thurston   \n",
       "1                           8990      King   \n",
       "\n",
       "   Population Estimate (as of July 1) - 2018 - Both Sexes; Median age (years)  \\\n",
       "0                                              39.10                            \n",
       "1                                              36.90                            \n",
       "\n",
       "   Population Estimate (as of July 1) - 2018 - Male; Median age (years)  \\\n",
       "0                                              37.70                      \n",
       "1                                              36.20                      \n",
       "\n",
       "   Population Estimate (as of July 1) - 2018 - Female; Median age (years)  \\\n",
       "0                                              40.50                        \n",
       "1                                              37.70                        \n",
       "\n",
       "   Density(/sqmi)  StartMonth  StartDay  StartHour  StartMinute  DayOfWeek  \n",
       "0          335.30          11        30         23           35          2  \n",
       "1          870.90          12         1          0           52          3  "
      ]
     },
     "execution_count": 12,
     "metadata": {},
     "output_type": "execute_result"
    }
   ],
   "source": [
    "df_prune.head(2)"
   ]
  },
  {
   "cell_type": "markdown",
   "metadata": {},
   "source": [
    "### Basic EDA (Monthly, Weekly, Daily, Hourly congestion Charts)"
   ]
  },
  {
   "cell_type": "code",
   "execution_count": 16,
   "metadata": {
    "ExecuteTime": {
     "end_time": "2020-06-10T16:49:40.179222Z",
     "start_time": "2020-06-10T16:49:40.100219Z"
    }
   },
   "outputs": [],
   "source": [
    "df_monthly = df_prune.groupby('StartMonth')['Duration'].mean().reset_index()\n",
    "df_weekly = df_prune.groupby('DayOfWeek')['Duration'].mean().reset_index()\n",
    "df_daily = df_prune.groupby('StartDay')['Duration'].mean().reset_index()\n",
    "df_hourly = df_prune.groupby('StartHour')['Duration'].mean().reset_index()"
   ]
  },
  {
   "cell_type": "code",
   "execution_count": 31,
   "metadata": {
    "ExecuteTime": {
     "end_time": "2020-06-10T17:02:10.753901Z",
     "start_time": "2020-06-10T17:02:10.607597Z"
    }
   },
   "outputs": [
    {
     "data": {
      "text/plain": [
       "Text(0.5, 0, 'Month')"
      ]
     },
     "execution_count": 31,
     "metadata": {},
     "output_type": "execute_result"
    },
    {
     "data": {
      "image/png": "[encoded data removed]",
      "text/plain": [
       "<Figure size 1080x576 with 1 Axes>"
      ]
     },
     "metadata": {
      "needs_background": "light"
     },
     "output_type": "display_data"
    }
   ],
   "source": [
    "plt.figure(figsize=(15,8))\n",
    "plt.title('Avg Monthly Congestion Duration', pad = 20, fontdict={'size':14})\n",
    "plt.plot(df_monthly['StartMonth'], df_monthly['Duration'])\n",
    "plt.scatter(df_monthly['StartMonth'], df_monthly['Duration'])\n",
    "plt.ylabel('Congestion Duration')\n",
    "plt.xlabel('Month')"
   ]
  },
  {
   "cell_type": "code",
   "execution_count": 33,
   "metadata": {
    "ExecuteTime": {
     "end_time": "2020-06-10T17:03:19.502949Z",
     "start_time": "2020-06-10T17:03:19.347867Z"
    }
   },
   "outputs": [
    {
     "data": {
      "text/plain": [
       "Text(0.5, 0, 'Day')"
      ]
     },
     "execution_count": 33,
     "metadata": {},
     "output_type": "execute_result"
    },
    {
     "data": {
      "image/png": "[encoded data removed]",
      "text/plain": [
       "<Figure size 1080x576 with 1 Axes>"
      ]
     },
     "metadata": {
      "needs_background": "light"
     },
     "output_type": "display_data"
    }
   ],
   "source": [
    "plt.figure(figsize=(15,8))\n",
    "plt.title('Avg Daily Congestion Duration', pad = 20, fontdict={'size':14})\n",
    "plt.plot(df_daily['StartDay'], df_daily['Duration'])\n",
    "plt.scatter(df_daily['StartDay'], df_daily['Duration'])\n",
    "plt.ylabel('Congestion Duration')\n",
    "plt.xlabel('Day')"
   ]
  },
  {
   "cell_type": "code",
   "execution_count": 32,
   "metadata": {
    "ExecuteTime": {
     "end_time": "2020-06-10T17:02:26.643798Z",
     "start_time": "2020-06-10T17:02:26.486765Z"
    },
    "scrolled": false
   },
   "outputs": [
    {
     "data": {
      "text/plain": [
       "Text(0.5, 0, 'Weekday')"
      ]
     },
     "execution_count": 32,
     "metadata": {},
     "output_type": "execute_result"
    },
    {
     "data": {
      "image/png": "[encoded data removed]",
      "text/plain": [
       "<Figure size 1080x576 with 1 Axes>"
      ]
     },
     "metadata": {
      "needs_background": "light"
     },
     "output_type": "display_data"
    }
   ],
   "source": [
    "plt.figure(figsize=(15,8))\n",
    "plt.title('Avg Weekly Congestion Duration', pad = 20, fontdict={'size':14})\n",
    "plt.plot(df_weekly['DayOfWeek'], df_weekly['Duration'])\n",
    "plt.scatter(df_weekly['DayOfWeek'], df_weekly['Duration'])\n",
    "plt.ylabel('Congestion Duration')\n",
    "plt.xlabel('Weekday')"
   ]
  },
  {
   "cell_type": "code",
   "execution_count": 34,
   "metadata": {
    "ExecuteTime": {
     "end_time": "2020-06-10T17:04:49.560578Z",
     "start_time": "2020-06-10T17:04:49.404520Z"
    }
   },
   "outputs": [
    {
     "data": {
      "text/plain": [
       "Text(0.5, 0, 'Hour')"
      ]
     },
     "execution_count": 34,
     "metadata": {},
     "output_type": "execute_result"
    },
    {
     "data": {
      "image/png": "[encoded data removed]",
      "text/plain": [
       "<Figure size 1080x576 with 1 Axes>"
      ]
     },
     "metadata": {
      "needs_background": "light"
     },
     "output_type": "display_data"
    }
   ],
   "source": [
    "plt.figure(figsize=(15,8))\n",
    "plt.title('Avg Monthly Congestion Duration', pad = 20, fontdict={'size':14})\n",
    "plt.plot(df_hourly['StartHour'], df_hourly['Duration'])\n",
    "plt.scatter(df_hourly['StartHour'], df_hourly['Duration'])\n",
    "plt.ylabel('Congestion Duration')\n",
    "plt.xlabel('Hour')"
   ]
  },
  {
   "cell_type": "code",
   "execution_count": 12,
   "metadata": {
    "ExecuteTime": {
     "end_time": "2020-06-05T17:33:18.944702Z",
     "start_time": "2020-06-05T17:33:18.889122Z"
    }
   },
   "outputs": [],
   "source": [
    "df_prune.drop('StartTime(UTC)', inplace=True, axis = 1)"
   ]
  },
  {
   "cell_type": "code",
   "execution_count": 13,
   "metadata": {
    "ExecuteTime": {
     "end_time": "2020-06-05T17:33:18.995441Z",
     "start_time": "2020-06-05T17:33:18.946652Z"
    }
   },
   "outputs": [
    {
     "data": {
      "text/plain": [
       "0"
      ]
     },
     "execution_count": 13,
     "metadata": {},
     "output_type": "execute_result"
    }
   ],
   "source": [
    "df_prune.isnull().sum().sum()"
   ]
  },
  {
   "cell_type": "code",
   "execution_count": 14,
   "metadata": {
    "ExecuteTime": {
     "end_time": "2020-06-05T17:33:19.001273Z",
     "start_time": "2020-06-05T17:33:18.996412Z"
    }
   },
   "outputs": [
    {
     "data": {
      "text/plain": [
       "557498"
      ]
     },
     "execution_count": 14,
     "metadata": {},
     "output_type": "execute_result"
    }
   ],
   "source": [
    "len(df_prune)"
   ]
  },
  {
   "cell_type": "code",
   "execution_count": 15,
   "metadata": {
    "ExecuteTime": {
     "end_time": "2020-06-05T17:33:19.485333Z",
     "start_time": "2020-06-05T17:33:19.374591Z"
    }
   },
   "outputs": [],
   "source": [
    "df_prune.dropna(inplace=True)"
   ]
  },
  {
   "cell_type": "code",
   "execution_count": 16,
   "metadata": {
    "ExecuteTime": {
     "end_time": "2020-06-05T17:33:19.671611Z",
     "start_time": "2020-06-05T17:33:19.574075Z"
    }
   },
   "outputs": [],
   "source": [
    "from sklearn import preprocessing\n",
    "\n",
    "le = preprocessing.LabelEncoder()\n",
    "df_prune['County'] = le.fit_transform(df_prune['County'])\n"
   ]
  },
  {
   "cell_type": "code",
   "execution_count": 17,
   "metadata": {
    "ExecuteTime": {
     "end_time": "2020-06-05T17:33:19.751200Z",
     "start_time": "2020-06-05T17:33:19.738910Z"
    },
    "scrolled": true
   },
   "outputs": [
    {
     "data": {
      "text/html": [
       "<div>\n",
       "<style scoped>\n",
       "    .dataframe tbody tr th:only-of-type {\n",
       "        vertical-align: middle;\n",
       "    }\n",
       "\n",
       "    .dataframe tbody tr th {\n",
       "        vertical-align: top;\n",
       "    }\n",
       "\n",
       "    .dataframe thead th {\n",
       "        text-align: right;\n",
       "    }\n",
       "</style>\n",
       "<table border=\"1\" class=\"dataframe\">\n",
       "  <thead>\n",
       "    <tr style=\"text-align: right;\">\n",
       "      <th></th>\n",
       "      <th>Severity</th>\n",
       "      <th>LocationLat</th>\n",
       "      <th>LocationLng</th>\n",
       "      <th>ZipCode</th>\n",
       "      <th>Duration</th>\n",
       "      <th>irs_estimated_population_2015</th>\n",
       "      <th>County</th>\n",
       "      <th>Population Estimate (as of July 1) - 2018 - Both Sexes; Median age (years)</th>\n",
       "      <th>Population Estimate (as of July 1) - 2018 - Male; Median age (years)</th>\n",
       "      <th>Population Estimate (as of July 1) - 2018 - Female; Median age (years)</th>\n",
       "      <th>Density(/sqmi)</th>\n",
       "      <th>StartMonth</th>\n",
       "      <th>StartDay</th>\n",
       "      <th>StartHour</th>\n",
       "      <th>StartMinute</th>\n",
       "      <th>DayOfWeek</th>\n",
       "    </tr>\n",
       "  </thead>\n",
       "  <tbody>\n",
       "    <tr>\n",
       "      <th>0</th>\n",
       "      <td>1</td>\n",
       "      <td>47.01</td>\n",
       "      <td>-122.91</td>\n",
       "      <td>98501</td>\n",
       "      <td>80</td>\n",
       "      <td>37370</td>\n",
       "      <td>32</td>\n",
       "      <td>39.10</td>\n",
       "      <td>37.70</td>\n",
       "      <td>40.50</td>\n",
       "      <td>335.30</td>\n",
       "      <td>11</td>\n",
       "      <td>30</td>\n",
       "      <td>23</td>\n",
       "      <td>35</td>\n",
       "      <td>2</td>\n",
       "    </tr>\n",
       "    <tr>\n",
       "      <th>1</th>\n",
       "      <td>2</td>\n",
       "      <td>47.61</td>\n",
       "      <td>-122.33</td>\n",
       "      <td>98104</td>\n",
       "      <td>12</td>\n",
       "      <td>8990</td>\n",
       "      <td>16</td>\n",
       "      <td>36.90</td>\n",
       "      <td>36.20</td>\n",
       "      <td>37.70</td>\n",
       "      <td>870.90</td>\n",
       "      <td>12</td>\n",
       "      <td>1</td>\n",
       "      <td>0</td>\n",
       "      <td>52</td>\n",
       "      <td>3</td>\n",
       "    </tr>\n",
       "    <tr>\n",
       "      <th>2</th>\n",
       "      <td>1</td>\n",
       "      <td>47.96</td>\n",
       "      <td>-122.20</td>\n",
       "      <td>98203</td>\n",
       "      <td>18</td>\n",
       "      <td>32440</td>\n",
       "      <td>29</td>\n",
       "      <td>38.00</td>\n",
       "      <td>37.20</td>\n",
       "      <td>38.80</td>\n",
       "      <td>334.80</td>\n",
       "      <td>12</td>\n",
       "      <td>1</td>\n",
       "      <td>1</td>\n",
       "      <td>8</td>\n",
       "      <td>3</td>\n",
       "    </tr>\n",
       "    <tr>\n",
       "      <th>3</th>\n",
       "      <td>1</td>\n",
       "      <td>47.56</td>\n",
       "      <td>-122.19</td>\n",
       "      <td>98006</td>\n",
       "      <td>22</td>\n",
       "      <td>39630</td>\n",
       "      <td>16</td>\n",
       "      <td>36.90</td>\n",
       "      <td>36.20</td>\n",
       "      <td>37.70</td>\n",
       "      <td>870.90</td>\n",
       "      <td>12</td>\n",
       "      <td>1</td>\n",
       "      <td>1</td>\n",
       "      <td>2</td>\n",
       "      <td>3</td>\n",
       "    </tr>\n",
       "    <tr>\n",
       "      <th>4</th>\n",
       "      <td>1</td>\n",
       "      <td>47.62</td>\n",
       "      <td>-122.33</td>\n",
       "      <td>98101</td>\n",
       "      <td>12</td>\n",
       "      <td>10910</td>\n",
       "      <td>16</td>\n",
       "      <td>36.90</td>\n",
       "      <td>36.20</td>\n",
       "      <td>37.70</td>\n",
       "      <td>870.90</td>\n",
       "      <td>12</td>\n",
       "      <td>1</td>\n",
       "      <td>1</td>\n",
       "      <td>19</td>\n",
       "      <td>3</td>\n",
       "    </tr>\n",
       "  </tbody>\n",
       "</table>\n",
       "</div>"
      ],
      "text/plain": [
       "   Severity  LocationLat  LocationLng  ZipCode  Duration  \\\n",
       "0         1        47.01      -122.91    98501        80   \n",
       "1         2        47.61      -122.33    98104        12   \n",
       "2         1        47.96      -122.20    98203        18   \n",
       "3         1        47.56      -122.19    98006        22   \n",
       "4         1        47.62      -122.33    98101        12   \n",
       "\n",
       "   irs_estimated_population_2015  County  \\\n",
       "0                          37370      32   \n",
       "1                           8990      16   \n",
       "2                          32440      29   \n",
       "3                          39630      16   \n",
       "4                          10910      16   \n",
       "\n",
       "   Population Estimate (as of July 1) - 2018 - Both Sexes; Median age (years)  \\\n",
       "0                                              39.10                            \n",
       "1                                              36.90                            \n",
       "2                                              38.00                            \n",
       "3                                              36.90                            \n",
       "4                                              36.90                            \n",
       "\n",
       "   Population Estimate (as of July 1) - 2018 - Male; Median age (years)  \\\n",
       "0                                              37.70                      \n",
       "1                                              36.20                      \n",
       "2                                              37.20                      \n",
       "3                                              36.20                      \n",
       "4                                              36.20                      \n",
       "\n",
       "   Population Estimate (as of July 1) - 2018 - Female; Median age (years)  \\\n",
       "0                                              40.50                        \n",
       "1                                              37.70                        \n",
       "2                                              38.80                        \n",
       "3                                              37.70                        \n",
       "4                                              37.70                        \n",
       "\n",
       "   Density(/sqmi)  StartMonth  StartDay  StartHour  StartMinute  DayOfWeek  \n",
       "0          335.30          11        30         23           35          2  \n",
       "1          870.90          12         1          0           52          3  \n",
       "2          334.80          12         1          1            8          3  \n",
       "3          870.90          12         1          1            2          3  \n",
       "4          870.90          12         1          1           19          3  "
      ]
     },
     "execution_count": 17,
     "metadata": {},
     "output_type": "execute_result"
    }
   ],
   "source": [
    "df_prune.head()"
   ]
  },
  {
   "cell_type": "code",
   "execution_count": 18,
   "metadata": {
    "ExecuteTime": {
     "end_time": "2020-06-05T17:33:21.128115Z",
     "start_time": "2020-06-05T17:33:21.114443Z"
    }
   },
   "outputs": [],
   "source": [
    "# (month:label) --- (1-3 : 0), (4-6 : 1), (7-9 : 2), (10-12 : 3)\n",
    "df_prune['Season'] = np.where((df_prune['StartMonth']<=3), 0, \n",
    "                                  np.where((df_prune['StartMonth']>3) & (df_prune['StartMonth']<=6), 1,\n",
    "                                          np.where((df_prune['StartMonth']>6) & (df_prune['StartMonth']<=9), 2, 3))\n",
    "                                  )"
   ]
  },
  {
   "cell_type": "code",
   "execution_count": 19,
   "metadata": {
    "ExecuteTime": {
     "end_time": "2020-06-05T17:33:21.324510Z",
     "start_time": "2020-06-05T17:33:21.309879Z"
    }
   },
   "outputs": [],
   "source": [
    "# (day:label) --- (1-7 : 0), (8-15 : 1), (16-23 : 2), (24-28+ : 3)\n",
    "df_prune['WeekofMonth'] = np.where((df_prune['StartDay']<=7), 0, \n",
    "                                  np.where((df_prune['StartDay']>8) & (df_prune['StartDay']<=15), 1,\n",
    "                                          np.where((df_prune['StartDay']>16) & (df_prune['StartDay']<=23), 2, 3))\n",
    "                                  )"
   ]
  },
  {
   "cell_type": "code",
   "execution_count": 20,
   "metadata": {
    "ExecuteTime": {
     "end_time": "2020-06-05T17:33:21.505927Z",
     "start_time": "2020-06-05T17:33:21.491296Z"
    }
   },
   "outputs": [],
   "source": [
    "# (hour:label) --- (1-6 : 0), (7-12 : 1), (13-18 : 2), (19-24 : 3)\n",
    "df_prune['HourOfDay'] = np.where((df_prune['StartHour']<=7), 0, \n",
    "                                  np.where((df_prune['StartHour']>8) & (df_prune['StartHour']<=15), 1,\n",
    "                                          np.where((df_prune['StartHour']>16) & (df_prune['StartHour']<=23), 2, 3))\n",
    "                                  )"
   ]
  },
  {
   "cell_type": "code",
   "execution_count": 21,
   "metadata": {
    "ExecuteTime": {
     "end_time": "2020-06-05T17:33:21.693196Z",
     "start_time": "2020-06-05T17:33:21.677599Z"
    }
   },
   "outputs": [],
   "source": [
    "# (minute:label) --- (1-15 : 0), (16-30 : 1), (31-45 : 2), (46-60 : 3)\n",
    "df_prune['MinuteOfHour'] = np.where((df_prune['StartMinute']<=7), 0, \n",
    "                                  np.where((df_prune['StartMinute']>8) & (df_prune['StartMinute']<=15), 1,\n",
    "                                          np.where((df_prune['StartMinute']>16) & (df_prune['StartMinute']<=23), 2, 3))\n",
    "                                  )"
   ]
  },
  {
   "cell_type": "code",
   "execution_count": 22,
   "metadata": {
    "ExecuteTime": {
     "end_time": "2020-06-05T17:33:23.130569Z",
     "start_time": "2020-06-05T17:33:23.079866Z"
    }
   },
   "outputs": [],
   "source": [
    "df_prune.drop(['irs_estimated_population_2015', \n",
    "               'Population Estimate (as of July 1) - 2018 - Male; Median age (years)', \n",
    "               'Population Estimate (as of July 1) - 2018 - Female; Median age (years)', \n",
    "               'StartMonth', \n",
    "               'StartDay', \n",
    "               'StartHour', \n",
    "               'StartMinute',\n",
    "              'County'], \n",
    "              axis = 1,\n",
    "              inplace=True)"
   ]
  },
  {
   "cell_type": "code",
   "execution_count": 23,
   "metadata": {
    "ExecuteTime": {
     "end_time": "2020-06-05T17:33:23.684573Z",
     "start_time": "2020-06-05T17:33:23.673868Z"
    },
    "scrolled": true
   },
   "outputs": [
    {
     "data": {
      "text/html": [
       "<div>\n",
       "<style scoped>\n",
       "    .dataframe tbody tr th:only-of-type {\n",
       "        vertical-align: middle;\n",
       "    }\n",
       "\n",
       "    .dataframe tbody tr th {\n",
       "        vertical-align: top;\n",
       "    }\n",
       "\n",
       "    .dataframe thead th {\n",
       "        text-align: right;\n",
       "    }\n",
       "</style>\n",
       "<table border=\"1\" class=\"dataframe\">\n",
       "  <thead>\n",
       "    <tr style=\"text-align: right;\">\n",
       "      <th></th>\n",
       "      <th>Severity</th>\n",
       "      <th>LocationLat</th>\n",
       "      <th>LocationLng</th>\n",
       "      <th>ZipCode</th>\n",
       "      <th>Duration</th>\n",
       "      <th>Population Estimate (as of July 1) - 2018 - Both Sexes; Median age (years)</th>\n",
       "      <th>Density(/sqmi)</th>\n",
       "      <th>DayOfWeek</th>\n",
       "      <th>Season</th>\n",
       "      <th>WeekofMonth</th>\n",
       "      <th>HourOfDay</th>\n",
       "      <th>MinuteOfHour</th>\n",
       "    </tr>\n",
       "  </thead>\n",
       "  <tbody>\n",
       "    <tr>\n",
       "      <th>0</th>\n",
       "      <td>1</td>\n",
       "      <td>47.01</td>\n",
       "      <td>-122.91</td>\n",
       "      <td>98501</td>\n",
       "      <td>80</td>\n",
       "      <td>39.10</td>\n",
       "      <td>335.30</td>\n",
       "      <td>2</td>\n",
       "      <td>3</td>\n",
       "      <td>3</td>\n",
       "      <td>2</td>\n",
       "      <td>3</td>\n",
       "    </tr>\n",
       "    <tr>\n",
       "      <th>1</th>\n",
       "      <td>2</td>\n",
       "      <td>47.61</td>\n",
       "      <td>-122.33</td>\n",
       "      <td>98104</td>\n",
       "      <td>12</td>\n",
       "      <td>36.90</td>\n",
       "      <td>870.90</td>\n",
       "      <td>3</td>\n",
       "      <td>3</td>\n",
       "      <td>0</td>\n",
       "      <td>0</td>\n",
       "      <td>3</td>\n",
       "    </tr>\n",
       "    <tr>\n",
       "      <th>2</th>\n",
       "      <td>1</td>\n",
       "      <td>47.96</td>\n",
       "      <td>-122.20</td>\n",
       "      <td>98203</td>\n",
       "      <td>18</td>\n",
       "      <td>38.00</td>\n",
       "      <td>334.80</td>\n",
       "      <td>3</td>\n",
       "      <td>3</td>\n",
       "      <td>0</td>\n",
       "      <td>0</td>\n",
       "      <td>3</td>\n",
       "    </tr>\n",
       "    <tr>\n",
       "      <th>3</th>\n",
       "      <td>1</td>\n",
       "      <td>47.56</td>\n",
       "      <td>-122.19</td>\n",
       "      <td>98006</td>\n",
       "      <td>22</td>\n",
       "      <td>36.90</td>\n",
       "      <td>870.90</td>\n",
       "      <td>3</td>\n",
       "      <td>3</td>\n",
       "      <td>0</td>\n",
       "      <td>0</td>\n",
       "      <td>0</td>\n",
       "    </tr>\n",
       "    <tr>\n",
       "      <th>4</th>\n",
       "      <td>1</td>\n",
       "      <td>47.62</td>\n",
       "      <td>-122.33</td>\n",
       "      <td>98101</td>\n",
       "      <td>12</td>\n",
       "      <td>36.90</td>\n",
       "      <td>870.90</td>\n",
       "      <td>3</td>\n",
       "      <td>3</td>\n",
       "      <td>0</td>\n",
       "      <td>0</td>\n",
       "      <td>2</td>\n",
       "    </tr>\n",
       "  </tbody>\n",
       "</table>\n",
       "</div>"
      ],
      "text/plain": [
       "   Severity  LocationLat  LocationLng  ZipCode  Duration  \\\n",
       "0         1        47.01      -122.91    98501        80   \n",
       "1         2        47.61      -122.33    98104        12   \n",
       "2         1        47.96      -122.20    98203        18   \n",
       "3         1        47.56      -122.19    98006        22   \n",
       "4         1        47.62      -122.33    98101        12   \n",
       "\n",
       "   Population Estimate (as of July 1) - 2018 - Both Sexes; Median age (years)  \\\n",
       "0                                              39.10                            \n",
       "1                                              36.90                            \n",
       "2                                              38.00                            \n",
       "3                                              36.90                            \n",
       "4                                              36.90                            \n",
       "\n",
       "   Density(/sqmi)  DayOfWeek  Season  WeekofMonth  HourOfDay  MinuteOfHour  \n",
       "0          335.30          2       3            3          2             3  \n",
       "1          870.90          3       3            0          0             3  \n",
       "2          334.80          3       3            0          0             3  \n",
       "3          870.90          3       3            0          0             0  \n",
       "4          870.90          3       3            0          0             2  "
      ]
     },
     "execution_count": 23,
     "metadata": {},
     "output_type": "execute_result"
    }
   ],
   "source": [
    "df_prune.head()"
   ]
  },
  {
   "cell_type": "code",
   "execution_count": 340,
   "metadata": {
    "code_folding": []
   },
   "outputs": [],
   "source": [
    "# df_prune['rec_id'] = [uuid.uuid4() for _ in range(len(df_prune.index))]\n",
    "# df_prune.drop('rec_id', axis = 1, inplace=True)"
   ]
  },
  {
   "cell_type": "code",
   "execution_count": 335,
   "metadata": {},
   "outputs": [],
   "source": [
    "df_data,  df_target= df_prune.drop('Duration', axis = 1), df_prune['Duration']"
   ]
  },
  {
   "cell_type": "code",
   "execution_count": 280,
   "metadata": {},
   "outputs": [],
   "source": [
    "# df_data.rename(columns={'index_': 'index1'}, inplace=True)\n",
    "# df_target.rename(columns={'index__': 'index2'}, inplace=True)"
   ]
  },
  {
   "cell_type": "code",
   "execution_count": 268,
   "metadata": {},
   "outputs": [],
   "source": [
    "import featuretools as ft"
   ]
  },
  {
   "cell_type": "code",
   "execution_count": 345,
   "metadata": {},
   "outputs": [],
   "source": [
    "es.entity_from_dataframe(entity_id='data',\n",
    "                         dataframe=df_data,\n",
    "                         make_index=True,\n",
    "                         index='index')\n",
    "\n",
    "feature_matrix, feature_defs = ft.dfs(\n",
    "    entityset=es,\n",
    "    target_entity='data',\n",
    "    trans_primitives=['add_numeric', 'multiply_numeric'])"
   ]
  },
  {
   "cell_type": "code",
   "execution_count": null,
   "metadata": {},
   "outputs": [],
   "source": []
  },
  {
   "cell_type": "code",
   "execution_count": 24,
   "metadata": {
    "ExecuteTime": {
     "end_time": "2020-06-05T17:33:50.479764Z",
     "start_time": "2020-06-05T17:33:50.464158Z"
    }
   },
   "outputs": [],
   "source": [
    "def RSquare(df, col):\n",
    "    X, y = df.drop(col,axis=1), df[col]\n",
    "\n",
    "    X, X_test, y, y_test = train_test_split(X, y, test_size=.2, random_state=10) #hold out 20% of the data for final testing\n",
    "\n",
    "    #this helps with the way kf will generate indices below\n",
    "    X, y = np.array(X), np.array(y)\n",
    "    \n",
    "    kf = KFold(n_splits=5, shuffle=True, random_state = 50)\n",
    "    cv_lm_r2s, cv_lm_reg_r2s, cv_lm_poly_r2s, cv_lasso_r2s = [], [], [], [] #collect the validation results for both models\n",
    "\n",
    "    for train_ind, val_ind in kf.split(X,y):\n",
    "\n",
    "        X_train, y_train = X[train_ind], y[train_ind]\n",
    "        X_val, y_val = X[val_ind], y[val_ind] \n",
    "\n",
    "        #simple linear regression\n",
    "        lm = LinearRegression()\n",
    "        lm_reg = Ridge(alpha=1)\n",
    "        lm_poly = LinearRegression()\n",
    "\n",
    "        lm.fit(X_train, y_train)\n",
    "        cv_lm_r2s.append(lm.score(X_val, y_val))\n",
    "#         cv_lm_r2s.append(lm.score(X_tra, y_tra))\n",
    "\n",
    "        #ridge with feature scaling\n",
    "        scaler = StandardScaler()\n",
    "        X_train_scaled = scaler.fit_transform(X_train)\n",
    "        X_val_scaled = scaler.transform(X_val)\n",
    "        lm_reg.fit(X_train_scaled, y_train)\n",
    "        cv_lm_reg_r2s.append(lm_reg.score(X_val_scaled, y_val))\n",
    "\n",
    "        poly = PolynomialFeatures(degree=2) \n",
    "        X_train_poly = poly.fit_transform(X_train)\n",
    "        X_val_poly = poly.fit_transform(X_val)\n",
    "        lm_poly.fit(X_train_poly, y_train)\n",
    "        cv_lm_poly_r2s.append(lm_poly.score(X_val_poly, y_val))\n",
    "        \n",
    "        #Lasso\n",
    "        std = StandardScaler()\n",
    "        std.fit(X_train)\n",
    "        \n",
    "        X_tr = std.transform(X_train)\n",
    "        X_te = std.transform(X_test)\n",
    "        \n",
    "        X_val_lasso = std.transform(X_val)\n",
    "        \n",
    "        alphavec = 10**np.linspace(-10,10,1000)\n",
    "\n",
    "        lasso_model = LassoCV(alphas = alphavec, cv=5)\n",
    "        lasso_model.fit(X_tr, y_train)\n",
    "        cv_lasso_r2s.append(lasso_model.score(X_val_lasso, y_val))\n",
    "        \n",
    "        test_set_pred = lasso_model.predict(X_te)\n",
    "        \n",
    "        column = df.drop(col,axis=1)\n",
    "        to_print = list(zip(column.columns, lasso_model.coef_))\n",
    "        pp = pprint.PrettyPrinter(indent = 1)\n",
    "    \n",
    "        rms = sqrt(mean_squared_error(y_test, test_set_pred))\n",
    "        \n",
    "    print('Simple regression scores: ', cv_lm_r2s, '\\n')\n",
    "    print('Ridge scores: ', cv_lm_reg_r2s, '\\n')\n",
    "    print('Poly scores: ', cv_lm_poly_r2s, '\\n')\n",
    "    print('Lasso scores: ', cv_lasso_r2s, '\\n')\n",
    "\n",
    "    print(f'Simple mean cv r^2: {np.mean(cv_lm_r2s):.3f} +- {np.std(cv_lm_r2s):.3f}')\n",
    "    print(f'Ridge mean cv r^2: {np.mean(cv_lm_reg_r2s):.3f} +- {np.std(cv_lm_reg_r2s):.3f}')\n",
    "    print(f'Poly mean cv r^2: {np.mean(cv_lm_poly_r2s):.3f} +- {np.std(cv_lm_poly_r2s):.3f}', '\\n')\n",
    "    \n",
    "    print('lasso_model.alpha_:', lasso_model.alpha_)\n",
    "    print(f'Lasso cv r^2: {r2_score(y_test, test_set_pred):.3f} +- {np.std(cv_lasso_r2s):.3f}', '\\n')\n",
    "    \n",
    "    print(f'MAE: {mae(y_test, test_set_pred)}', '\\n')\n",
    "    print('RMSE:', rms, '\\n')\n",
    "    mse = mean_squared_error(y_test, test_set_pred)\n",
    "    print('MSE:', mse, '\\n')\n",
    "    \n",
    "    print('Lasso Coef:')\n",
    "    pp.pprint (to_print)"
   ]
  },
  {
   "cell_type": "code",
   "execution_count": 25,
   "metadata": {
    "ExecuteTime": {
     "end_time": "2020-06-05T17:33:50.664148Z",
     "start_time": "2020-06-05T17:33:50.660246Z"
    }
   },
   "outputs": [],
   "source": [
    "# 'Mean absolute error'\n",
    "def mae(y_true, y_pred):\n",
    "    return np.mean(np.abs(y_pred - y_true)) "
   ]
  },
  {
   "cell_type": "code",
   "execution_count": 26,
   "metadata": {
    "ExecuteTime": {
     "end_time": "2020-06-05T17:35:12.898475Z",
     "start_time": "2020-06-05T17:33:50.859759Z"
    }
   },
   "outputs": [
    {
     "name": "stdout",
     "output_type": "stream",
     "text": [
      "Simple regression scores:  [0.0028833462703916624, 0.007196193816731422, 0.036282369050016694, 0.003899547354281885, 0.00437110112990613] \n",
      "\n",
      "Ridge scores:  [0.0028833493569134783, 0.007196192382589062, 0.03628237112478505, 0.003899545772016344, 0.004371099750834162] \n",
      "\n",
      "Poly scores:  [0.006162448751992011, 0.013382638813181578, 0.06105176238544974, 0.007637782353376531, 0.008388147175776406] \n",
      "\n",
      "Lasso scores:  [0.002883346270699305, 0.00719619381659975, 0.03628365224654673, 0.003899547354263233, 0.004371083294577249] \n",
      "\n",
      "Simple mean cv r^2: 0.011 +- 0.013\n",
      "Ridge mean cv r^2: 0.011 +- 0.013\n",
      "Poly mean cv r^2: 0.019 +- 0.021 \n",
      "\n",
      "lasso_model.alpha_: 0.00015352750287804211\n",
      "Lasso cv r^2: 0.009 +- 0.013 \n",
      "\n",
      "MAE: 23.069860804260774 \n",
      "\n",
      "RMSE: 90.01595379303683 \n",
      "\n",
      "MSE: 8102.871937270141 \n",
      "\n",
      "Lasso Coef:\n",
      "[('Severity', 3.286212112578117),\n",
      " ('LocationLat', 0.6340096526302406),\n",
      " ('LocationLng', -3.8284430476809015),\n",
      " ('ZipCode', 3.8314834084068408),\n",
      " ('Population Estimate (as of July 1) - 2018 - Both Sexes; Median age (years)',\n",
      "  -0.31311593743284655),\n",
      " ('Density(/sqmi)', 5.372009686737072),\n",
      " ('DayOfWeek', -1.1211495155704845),\n",
      " ('Season', 2.6047630349927857),\n",
      " ('WeekofMonth', 0.22016570498615898),\n",
      " ('HourOfDay', 5.13175490467507),\n",
      " ('MinuteOfHour', 0.21555811780736128)]\n"
     ]
    }
   ],
   "source": [
    "RSquare(df_prune, 'Duration')"
   ]
  },
  {
   "cell_type": "markdown",
   "metadata": {},
   "source": [
    "## Split dataset"
   ]
  },
  {
   "cell_type": "code",
   "execution_count": 65,
   "metadata": {
    "ExecuteTime": {
     "end_time": "2020-06-05T19:34:52.853644Z",
     "start_time": "2020-06-05T19:34:52.702100Z"
    }
   },
   "outputs": [],
   "source": [
    "X, y = df_prune.drop('Duration',axis=1), df_prune['Duration']\n",
    "X_train, X_test, y_train, y_test = train_test_split(\n",
    "    X, y, test_size=0.1, random_state=13)"
   ]
  },
  {
   "cell_type": "code",
   "execution_count": 66,
   "metadata": {
    "ExecuteTime": {
     "end_time": "2020-06-05T19:34:52.884872Z",
     "start_time": "2020-06-05T19:34:52.879003Z"
    }
   },
   "outputs": [],
   "source": [
    "def train_validate_test_split(df, train_percent=.6, validate_percent=.2, seed=None):\n",
    "    np.random.seed(seed)\n",
    "    perm = np.random.permutation(df.index)\n",
    "    m = len(df.index)\n",
    "    train_end = int(train_percent * m)\n",
    "    validate_end = int(validate_percent * m) + train_end\n",
    "    train = df.iloc[perm[:train_end]]\n",
    "    validate = df.iloc[perm[train_end:validate_end]]\n",
    "    test = df.iloc[perm[validate_end:]]\n",
    "    return train, validate, test"
   ]
  },
  {
   "cell_type": "code",
   "execution_count": 67,
   "metadata": {
    "ExecuteTime": {
     "end_time": "2020-06-05T19:34:53.189539Z",
     "start_time": "2020-06-05T19:34:53.033479Z"
    }
   },
   "outputs": [],
   "source": [
    "train, validate, test = train_validate_test_split(df_prune)\n",
    "X_train, y_train = train.drop('Duration',axis=1), train['Duration']\n",
    "X_validate, y_validate = validate.drop('Duration',axis=1), validate['Duration']\n",
    "X_test, y_test = test.drop('Duration',axis=1), test['Duration']"
   ]
  },
  {
   "cell_type": "code",
   "execution_count": 36,
   "metadata": {
    "ExecuteTime": {
     "end_time": "2020-06-10T23:46:29.727658Z",
     "start_time": "2020-06-10T23:46:23.589825Z"
    }
   },
   "outputs": [],
   "source": [
    "df_prune.to_csv('./data/df_prune.csv', index=False)"
   ]
  },
  {
   "cell_type": "markdown",
   "metadata": {},
   "source": [
    "## Gradient Boosting"
   ]
  },
  {
   "cell_type": "code",
   "execution_count": 30,
   "metadata": {
    "ExecuteTime": {
     "end_time": "2020-06-05T17:35:13.195816Z",
     "start_time": "2020-06-05T17:35:13.191914Z"
    }
   },
   "outputs": [],
   "source": [
    "params = {'n_estimators': 1000,\n",
    "          'max_depth': 5,\n",
    "          'min_samples_split': 10,\n",
    "          'learning_rate': 0.01,\n",
    "          'loss': 'ls'}"
   ]
  },
  {
   "cell_type": "code",
   "execution_count": 31,
   "metadata": {
    "ExecuteTime": {
     "end_time": "2020-06-05T17:45:26.518898Z",
     "start_time": "2020-06-05T17:35:13.196791Z"
    }
   },
   "outputs": [
    {
     "name": "stdout",
     "output_type": "stream",
     "text": [
      "The mean squared error (MSE) on test set: 8591.6720\n",
      "The R^2 on test set: 0.3858\n"
     ]
    }
   ],
   "source": [
    "reg = ensemble.GradientBoostingRegressor(**params)\n",
    "reg.fit(X_train, y_train)\n",
    "\n",
    "mse = mean_squared_error(y_validate, reg.predict(X_validate))\n",
    "r2 = r2_score(y_validate, reg.predict(X_validate))\n",
    "print(\"The mean squared error (MSE) on test set: {:.4f}\".format(mse))\n",
    "print(\"The R^2 on test set: {:.4f}\".format(r2))"
   ]
  },
  {
   "cell_type": "code",
   "execution_count": 32,
   "metadata": {
    "ExecuteTime": {
     "end_time": "2020-06-05T17:45:32.192797Z",
     "start_time": "2020-06-05T17:45:26.519856Z"
    }
   },
   "outputs": [
    {
     "data": {
      "image/png": "[encoded data removed]",
      "text/plain": [
       "<Figure size 432x432 with 1 Axes>"
      ]
     },
     "metadata": {
      "needs_background": "light"
     },
     "output_type": "display_data"
    }
   ],
   "source": [
    "test_score = np.zeros((params['n_estimators'],), dtype=np.float64)\n",
    "for i, y_pred in enumerate(reg.staged_predict(X_validate)):\n",
    "    test_score[i] = reg.loss_(y_validate, y_pred)\n",
    "\n",
    "fig = plt.figure(figsize=(6, 6))\n",
    "plt.subplot(1, 1, 1)\n",
    "plt.title('Deviance')\n",
    "plt.plot(np.arange(params['n_estimators']) + 1, reg.train_score_, 'b-',\n",
    "         label='Training Set Deviance')\n",
    "plt.plot(np.arange(params['n_estimators']) + 1, test_score, 'r-',\n",
    "         label='Validation Set Deviance')\n",
    "plt.legend(loc='upper right')\n",
    "plt.xlabel('Boosting Iterations')\n",
    "plt.ylabel('Deviance')\n",
    "fig.tight_layout()\n",
    "plt.show()"
   ]
  },
  {
   "cell_type": "code",
   "execution_count": 33,
   "metadata": {
    "ExecuteTime": {
     "end_time": "2020-06-05T17:45:32.201575Z",
     "start_time": "2020-06-05T17:45:32.194748Z"
    }
   },
   "outputs": [],
   "source": [
    "from sklearn.experimental import enable_hist_gradient_boosting  # noqa\n",
    "from sklearn.ensemble import HistGradientBoostingRegressor"
   ]
  },
  {
   "cell_type": "code",
   "execution_count": 127,
   "metadata": {},
   "outputs": [],
   "source": [
    "param_grid={\n",
    "    'max_iter' :[100,200], \n",
    "    'min_samples_leaf' : [5, 20, 40], \n",
    "    'max_leaf_nodes' :[100, 200, 300], \n",
    "    'l2_regularization' : [0.1, 0.5, 0.9], \n",
    "    'verbose' : [1]\n",
    "    }\n",
    "n_jobs=2"
   ]
  },
  {
   "cell_type": "code",
   "execution_count": 128,
   "metadata": {},
   "outputs": [],
   "source": [
    "def GradientBooster(param_grid, n_jobs): \n",
    "    estimator = HistGradientBoostingRegressor()\n",
    "    cv = ShuffleSplit(train_size = 0.8, n_splits=10, test_size=0.2,)\n",
    "    reg = GridSearchCV(estimator=estimator, cv=cv, param_grid=param_grid, n_jobs=n_jobs)\n",
    "    reg.fit(X_train, y_train)\n",
    "\n",
    "    print (\"Best Estimator learned through GridSearch\") \n",
    "    print (classifier.best_estimator_ )\n",
    "    return cv, classifier.best_estimator_"
   ]
  },
  {
   "cell_type": "code",
   "execution_count": null,
   "metadata": {},
   "outputs": [],
   "source": [
    "cv,best_est=GradientBooster(param_grid, n_jobs)"
   ]
  },
  {
   "cell_type": "code",
   "execution_count": 70,
   "metadata": {
    "ExecuteTime": {
     "end_time": "2020-06-05T19:36:06.594180Z",
     "start_time": "2020-06-05T19:35:53.903041Z"
    },
    "scrolled": true
   },
   "outputs": [
    {
     "name": "stdout",
     "output_type": "stream",
     "text": [
      "Binning 0.029 GB of training data: 0.207 s\n",
      "Fitting gradient boosted rounds:\n",
      "[1/100] 1 tree, 300 leaves, max depth = 19, in 0.109s\n",
      "[2/100] 1 tree, 300 leaves, max depth = 21, in 0.125s\n",
      "[3/100] 1 tree, 300 leaves, max depth = 19, in 0.118s\n",
      "[4/100] 1 tree, 300 leaves, max depth = 20, in 0.124s\n",
      "[5/100] 1 tree, 300 leaves, max depth = 22, in 0.114s\n",
      "[6/100] 1 tree, 300 leaves, max depth = 25, in 0.119s\n",
      "[7/100] 1 tree, 300 leaves, max depth = 21, in 0.133s\n",
      "[8/100] 1 tree, 300 leaves, max depth = 20, in 0.118s\n",
      "[9/100] 1 tree, 300 leaves, max depth = 23, in 0.123s\n",
      "[10/100] 1 tree, 300 leaves, max depth = 22, in 0.118s\n",
      "[11/100] 1 tree, 300 leaves, max depth = 22, in 0.121s\n",
      "[12/100] 1 tree, 300 leaves, max depth = 21, in 0.117s\n",
      "[13/100] 1 tree, 300 leaves, max depth = 24, in 0.126s\n",
      "[14/100] 1 tree, 300 leaves, max depth = 22, in 0.120s\n",
      "[15/100] 1 tree, 300 leaves, max depth = 23, in 0.126s\n",
      "[16/100] 1 tree, 300 leaves, max depth = 19, in 0.129s\n",
      "[17/100] 1 tree, 300 leaves, max depth = 22, in 0.134s\n",
      "[18/100] 1 tree, 300 leaves, max depth = 21, in 0.115s\n",
      "[19/100] 1 tree, 300 leaves, max depth = 27, in 0.444s\n",
      "[20/100] 1 tree, 300 leaves, max depth = 20, in 0.113s\n",
      "[21/100] 1 tree, 300 leaves, max depth = 23, in 0.123s\n",
      "[22/100] 1 tree, 300 leaves, max depth = 23, in 0.109s\n",
      "[23/100] 1 tree, 300 leaves, max depth = 26, in 0.124s\n",
      "[24/100] 1 tree, 300 leaves, max depth = 20, in 0.127s\n",
      "[25/100] 1 tree, 300 leaves, max depth = 20, in 0.122s\n",
      "[26/100] 1 tree, 300 leaves, max depth = 20, in 0.131s\n",
      "[27/100] 1 tree, 300 leaves, max depth = 22, in 0.135s\n",
      "[28/100] 1 tree, 300 leaves, max depth = 16, in 0.146s\n",
      "[29/100] 1 tree, 300 leaves, max depth = 21, in 0.126s\n",
      "[30/100] 1 tree, 300 leaves, max depth = 24, in 0.111s\n",
      "[31/100] 1 tree, 300 leaves, max depth = 21, in 0.115s\n",
      "[32/100] 1 tree, 300 leaves, max depth = 21, in 0.118s\n",
      "[33/100] 1 tree, 300 leaves, max depth = 21, in 0.127s\n",
      "[34/100] 1 tree, 300 leaves, max depth = 20, in 0.125s\n",
      "[35/100] 1 tree, 300 leaves, max depth = 19, in 0.107s\n",
      "[36/100] 1 tree, 300 leaves, max depth = 20, in 0.117s\n",
      "[37/100] 1 tree, 300 leaves, max depth = 23, in 0.107s\n",
      "[38/100] 1 tree, 300 leaves, max depth = 23, in 0.128s\n",
      "[39/100] 1 tree, 300 leaves, max depth = 19, in 0.114s\n",
      "[40/100] 1 tree, 300 leaves, max depth = 27, in 0.114s\n",
      "[41/100] 1 tree, 300 leaves, max depth = 25, in 0.099s\n",
      "[42/100] 1 tree, 300 leaves, max depth = 33, in 0.111s\n",
      "[43/100] 1 tree, 300 leaves, max depth = 22, in 0.111s\n",
      "[44/100] 1 tree, 300 leaves, max depth = 18, in 0.123s\n",
      "[45/100] 1 tree, 300 leaves, max depth = 20, in 0.108s\n",
      "[46/100] 1 tree, 300 leaves, max depth = 20, in 0.107s\n",
      "[47/100] 1 tree, 300 leaves, max depth = 20, in 0.115s\n",
      "[48/100] 1 tree, 300 leaves, max depth = 25, in 0.121s\n",
      "[49/100] 1 tree, 300 leaves, max depth = 22, in 0.117s\n",
      "[50/100] 1 tree, 300 leaves, max depth = 19, in 0.114s\n",
      "[51/100] 1 tree, 300 leaves, max depth = 25, in 0.115s\n",
      "[52/100] 1 tree, 300 leaves, max depth = 21, in 0.113s\n",
      "[53/100] 1 tree, 300 leaves, max depth = 27, in 0.109s\n",
      "[54/100] 1 tree, 300 leaves, max depth = 25, in 0.124s\n",
      "[55/100] 1 tree, 300 leaves, max depth = 19, in 0.104s\n",
      "[56/100] 1 tree, 300 leaves, max depth = 22, in 0.112s\n",
      "[57/100] 1 tree, 300 leaves, max depth = 24, in 0.104s\n",
      "[58/100] 1 tree, 300 leaves, max depth = 21, in 0.109s\n",
      "[59/100] 1 tree, 300 leaves, max depth = 19, in 0.104s\n",
      "[60/100] 1 tree, 300 leaves, max depth = 25, in 0.105s\n",
      "[61/100] 1 tree, 300 leaves, max depth = 19, in 0.106s\n",
      "[62/100] 1 tree, 300 leaves, max depth = 21, in 0.113s\n",
      "[63/100] 1 tree, 300 leaves, max depth = 18, in 0.101s\n",
      "[64/100] 1 tree, 300 leaves, max depth = 29, in 0.107s\n",
      "[65/100] 1 tree, 300 leaves, max depth = 22, in 0.114s\n",
      "[66/100] 1 tree, 300 leaves, max depth = 28, in 0.113s\n",
      "[67/100] 1 tree, 300 leaves, max depth = 23, in 0.100s\n",
      "[68/100] 1 tree, 300 leaves, max depth = 20, in 0.106s\n",
      "[69/100] 1 tree, 300 leaves, max depth = 24, in 0.103s\n",
      "[70/100] 1 tree, 300 leaves, max depth = 21, in 0.105s\n",
      "[71/100] 1 tree, 300 leaves, max depth = 21, in 0.105s\n",
      "[72/100] 1 tree, 300 leaves, max depth = 19, in 0.115s\n",
      "[73/100] 1 tree, 300 leaves, max depth = 20, in 0.100s\n",
      "[74/100] 1 tree, 300 leaves, max depth = 22, in 0.108s\n",
      "[75/100] 1 tree, 300 leaves, max depth = 22, in 0.107s\n",
      "[76/100] 1 tree, 300 leaves, max depth = 23, in 0.572s\n",
      "[77/100] 1 tree, 300 leaves, max depth = 21, in 0.103s\n",
      "[78/100] 1 tree, 300 leaves, max depth = 27, in 0.108s\n",
      "[79/100] 1 tree, 300 leaves, max depth = 19, in 0.102s\n",
      "[80/100] 1 tree, 300 leaves, max depth = 23, in 0.104s\n",
      "[81/100] 1 tree, 300 leaves, max depth = 19, in 0.109s\n",
      "[82/100] 1 tree, 300 leaves, max depth = 17, in 0.114s\n",
      "[83/100] 1 tree, 300 leaves, max depth = 20, in 0.112s\n",
      "[84/100] 1 tree, 300 leaves, max depth = 20, in 0.115s\n",
      "[85/100] 1 tree, 300 leaves, max depth = 35, in 0.096s\n",
      "[86/100] 1 tree, 300 leaves, max depth = 26, in 0.111s\n",
      "[87/100] 1 tree, 300 leaves, max depth = 23, in 0.099s\n",
      "[88/100] 1 tree, 300 leaves, max depth = 19, in 0.113s\n",
      "[89/100] 1 tree, 300 leaves, max depth = 26, in 0.101s\n",
      "[90/100] 1 tree, 300 leaves, max depth = 24, in 0.108s\n",
      "[91/100] 1 tree, 300 leaves, max depth = 21, in 0.101s\n",
      "[92/100] 1 tree, 300 leaves, max depth = 19, in 0.111s\n",
      "[93/100] 1 tree, 300 leaves, max depth = 21, in 0.113s\n",
      "[94/100] 1 tree, 300 leaves, max depth = 23, in 0.131s\n",
      "[95/100] 1 tree, 300 leaves, max depth = 16, in 0.098s\n",
      "[96/100] 1 tree, 300 leaves, max depth = 23, in 0.105s\n",
      "[97/100] 1 tree, 300 leaves, max depth = 24, in 0.092s\n",
      "[98/100] 1 tree, 300 leaves, max depth = 23, in 0.110s\n",
      "[99/100] 1 tree, 300 leaves, max depth = 21, in 0.099s\n",
      "[100/100] 1 tree, 300 leaves, max depth = 18, in 0.103s\n",
      "Fit 100 trees in 12.417 s, (30000 total leaves)\n",
      "Time spent computing histograms: 5.698s\n",
      "Time spent finding best splits:  1.107s\n",
      "Time spent applying splits:      3.342s\n",
      "Time spent predicting:           0.094s\n"
     ]
    },
    {
     "data": {
      "text/plain": [
       "0.29438108143727226"
      ]
     },
     "execution_count": 70,
     "metadata": {},
     "output_type": "execute_result"
    }
   ],
   "source": [
    "est = HistGradientBoostingRegressor(max_iter =100, \n",
    "                                    min_samples_leaf = 24, \n",
    "                                    max_leaf_nodes =300, \n",
    "                                    l2_regularization = 0.5, \n",
    "                                    verbose=1,).fit(X_train, y_train)\n",
    "est.score(X_validate, y_validate)"
   ]
  },
  {
   "cell_type": "code",
   "execution_count": 35,
   "metadata": {
    "ExecuteTime": {
     "end_time": "2020-06-05T17:45:43.628233Z",
     "start_time": "2020-06-05T17:45:43.615553Z"
    }
   },
   "outputs": [],
   "source": [
    "from sklearn.impute import SimpleImputer\n",
    "from sklearn.inspection import permutation_importance\n",
    "from sklearn.compose import ColumnTransformer"
   ]
  },
  {
   "cell_type": "code",
   "execution_count": 36,
   "metadata": {
    "ExecuteTime": {
     "end_time": "2020-06-05T17:46:07.065367Z",
     "start_time": "2020-06-05T17:45:43.630183Z"
    }
   },
   "outputs": [
    {
     "data": {
      "image/png": "[encoded data removed]",
      "text/plain": [
       "<Figure size 1080x720 with 1 Axes>"
      ]
     },
     "metadata": {
      "needs_background": "light"
     },
     "output_type": "display_data"
    }
   ],
   "source": [
    "result = permutation_importance(est, X_validate, y_validate, n_repeats=10,\n",
    "                                random_state=42, n_jobs=1)\n",
    "sorted_idx = result.importances_mean.argsort()\n",
    "\n",
    "fig, ax = plt.subplots(figsize=(15, 10))\n",
    "ax.boxplot(result.importances[sorted_idx].T,\n",
    "           vert=False, labels=X_test.columns[sorted_idx])\n",
    "ax.set_title(\"Permutation Importances (validation set)\")\n",
    "fig.tight_layout()\n",
    "plt.show()"
   ]
  },
  {
   "cell_type": "code",
   "execution_count": 37,
   "metadata": {
    "ExecuteTime": {
     "end_time": "2020-06-05T17:46:25.068318Z",
     "start_time": "2020-06-05T17:46:07.066338Z"
    }
   },
   "outputs": [
    {
     "name": "stderr",
     "output_type": "stream",
     "text": [
      "F:\\Anaconda\\lib\\site-packages\\sklearn\\utils\\deprecation.py:144: FutureWarning: The sklearn.metrics.scorer module is  deprecated in version 0.22 and will be removed in version 0.24. The corresponding classes / functions should instead be imported from sklearn.metrics. Anything that cannot be imported from sklearn.metrics is now part of the private API.\n",
      "  warnings.warn(message, FutureWarning)\n",
      "F:\\Anaconda\\lib\\site-packages\\sklearn\\utils\\deprecation.py:144: FutureWarning: The sklearn.feature_selection.base module is  deprecated in version 0.22 and will be removed in version 0.24. The corresponding classes / functions should instead be imported from sklearn.feature_selection. Anything that cannot be imported from sklearn.feature_selection is now part of the private API.\n",
      "  warnings.warn(message, FutureWarning)\n",
      "Using TensorFlow backend.\n"
     ]
    },
    {
     "data": {
      "text/html": [
       "\n",
       "    <style>\n",
       "    table.eli5-weights tr:hover {\n",
       "        filter: brightness(85%);\n",
       "    }\n",
       "</style>\n",
       "\n",
       "\n",
       "\n",
       "    \n",
       "\n",
       "    \n",
       "\n",
       "    \n",
       "\n",
       "    \n",
       "\n",
       "    \n",
       "\n",
       "    \n",
       "\n",
       "\n",
       "    \n",
       "\n",
       "    \n",
       "\n",
       "    \n",
       "\n",
       "    \n",
       "\n",
       "    \n",
       "\n",
       "    \n",
       "\n",
       "\n",
       "    \n",
       "\n",
       "    \n",
       "\n",
       "    \n",
       "\n",
       "    \n",
       "\n",
       "    \n",
       "        <table class=\"eli5-weights eli5-feature-importances\" style=\"border-collapse: collapse; border: none; margin-top: 0em; table-layout: auto;\">\n",
       "    <thead>\n",
       "    <tr style=\"border: none;\">\n",
       "        <th style=\"padding: 0 1em 0 0.5em; text-align: right; border: none;\">Weight</th>\n",
       "        <th style=\"padding: 0 0.5em 0 0.5em; text-align: left; border: none;\">Feature</th>\n",
       "    </tr>\n",
       "    </thead>\n",
       "    <tbody>\n",
       "    \n",
       "        <tr style=\"background-color: hsl(120, 100.00%, 80.00%); border: none;\">\n",
       "            <td style=\"padding: 0 1em 0 0.5em; text-align: right; border: none;\">\n",
       "                0.3341\n",
       "                \n",
       "                    &plusmn; 0.0814\n",
       "                \n",
       "            </td>\n",
       "            <td style=\"padding: 0 0.5em 0 0.5em; text-align: left; border: none;\">\n",
       "                LocationLng\n",
       "            </td>\n",
       "        </tr>\n",
       "    \n",
       "        <tr style=\"background-color: hsl(120, 100.00%, 80.77%); border: none;\">\n",
       "            <td style=\"padding: 0 1em 0 0.5em; text-align: right; border: none;\">\n",
       "                0.3158\n",
       "                \n",
       "                    &plusmn; 0.1995\n",
       "                \n",
       "            </td>\n",
       "            <td style=\"padding: 0 0.5em 0 0.5em; text-align: left; border: none;\">\n",
       "                DayOfWeek\n",
       "            </td>\n",
       "        </tr>\n",
       "    \n",
       "        <tr style=\"background-color: hsl(120, 100.00%, 83.11%); border: none;\">\n",
       "            <td style=\"padding: 0 1em 0 0.5em; text-align: right; border: none;\">\n",
       "                0.2623\n",
       "                \n",
       "                    &plusmn; 0.1209\n",
       "                \n",
       "            </td>\n",
       "            <td style=\"padding: 0 0.5em 0 0.5em; text-align: left; border: none;\">\n",
       "                LocationLat\n",
       "            </td>\n",
       "        </tr>\n",
       "    \n",
       "        <tr style=\"background-color: hsl(120, 100.00%, 85.62%); border: none;\">\n",
       "            <td style=\"padding: 0 1em 0 0.5em; text-align: right; border: none;\">\n",
       "                0.2086\n",
       "                \n",
       "                    &plusmn; 0.0412\n",
       "                \n",
       "            </td>\n",
       "            <td style=\"padding: 0 0.5em 0 0.5em; text-align: left; border: none;\">\n",
       "                Severity\n",
       "            </td>\n",
       "        </tr>\n",
       "    \n",
       "        <tr style=\"background-color: hsl(120, 100.00%, 86.57%); border: none;\">\n",
       "            <td style=\"padding: 0 1em 0 0.5em; text-align: right; border: none;\">\n",
       "                0.1892\n",
       "                \n",
       "                    &plusmn; 0.0919\n",
       "                \n",
       "            </td>\n",
       "            <td style=\"padding: 0 0.5em 0 0.5em; text-align: left; border: none;\">\n",
       "                WeekofMonth\n",
       "            </td>\n",
       "        </tr>\n",
       "    \n",
       "        <tr style=\"background-color: hsl(120, 100.00%, 89.11%); border: none;\">\n",
       "            <td style=\"padding: 0 1em 0 0.5em; text-align: right; border: none;\">\n",
       "                0.1402\n",
       "                \n",
       "                    &plusmn; 0.0651\n",
       "                \n",
       "            </td>\n",
       "            <td style=\"padding: 0 0.5em 0 0.5em; text-align: left; border: none;\">\n",
       "                HourOfDay\n",
       "            </td>\n",
       "        </tr>\n",
       "    \n",
       "        <tr style=\"background-color: hsl(120, 100.00%, 90.04%); border: none;\">\n",
       "            <td style=\"padding: 0 1em 0 0.5em; text-align: right; border: none;\">\n",
       "                0.1233\n",
       "                \n",
       "                    &plusmn; 0.0870\n",
       "                \n",
       "            </td>\n",
       "            <td style=\"padding: 0 0.5em 0 0.5em; text-align: left; border: none;\">\n",
       "                Season\n",
       "            </td>\n",
       "        </tr>\n",
       "    \n",
       "        <tr style=\"background-color: hsl(120, 100.00%, 91.97%); border: none;\">\n",
       "            <td style=\"padding: 0 1em 0 0.5em; text-align: right; border: none;\">\n",
       "                0.0907\n",
       "                \n",
       "                    &plusmn; 0.0528\n",
       "                \n",
       "            </td>\n",
       "            <td style=\"padding: 0 0.5em 0 0.5em; text-align: left; border: none;\">\n",
       "                MinuteOfHour\n",
       "            </td>\n",
       "        </tr>\n",
       "    \n",
       "        <tr style=\"background-color: hsl(120, 100.00%, 94.30%); border: none;\">\n",
       "            <td style=\"padding: 0 1em 0 0.5em; text-align: right; border: none;\">\n",
       "                0.0555\n",
       "                \n",
       "                    &plusmn; 0.0237\n",
       "                \n",
       "            </td>\n",
       "            <td style=\"padding: 0 0.5em 0 0.5em; text-align: left; border: none;\">\n",
       "                ZipCode\n",
       "            </td>\n",
       "        </tr>\n",
       "    \n",
       "        <tr style=\"background-color: hsl(120, 100.00%, 96.98%); border: none;\">\n",
       "            <td style=\"padding: 0 1em 0 0.5em; text-align: right; border: none;\">\n",
       "                0.0224\n",
       "                \n",
       "                    &plusmn; 0.0505\n",
       "                \n",
       "            </td>\n",
       "            <td style=\"padding: 0 0.5em 0 0.5em; text-align: left; border: none;\">\n",
       "                Population Estimate (as of July 1) - 2018 - Both Sexes; Median age (years)\n",
       "            </td>\n",
       "        </tr>\n",
       "    \n",
       "        <tr style=\"background-color: hsl(120, 100.00%, 97.50%); border: none;\">\n",
       "            <td style=\"padding: 0 1em 0 0.5em; text-align: right; border: none;\">\n",
       "                0.0172\n",
       "                \n",
       "                    &plusmn; 0.0191\n",
       "                \n",
       "            </td>\n",
       "            <td style=\"padding: 0 0.5em 0 0.5em; text-align: left; border: none;\">\n",
       "                Density(/sqmi)\n",
       "            </td>\n",
       "        </tr>\n",
       "    \n",
       "    \n",
       "    </tbody>\n",
       "</table>\n",
       "    \n",
       "\n",
       "    \n",
       "\n",
       "\n",
       "    \n",
       "\n",
       "    \n",
       "\n",
       "    \n",
       "\n",
       "    \n",
       "\n",
       "    \n",
       "\n",
       "    \n",
       "\n",
       "\n",
       "\n"
      ],
      "text/plain": [
       "<IPython.core.display.HTML object>"
      ]
     },
     "execution_count": 37,
     "metadata": {},
     "output_type": "execute_result"
    }
   ],
   "source": [
    "import eli5\n",
    "from eli5.sklearn import PermutationImportance\n",
    "\n",
    "perm = PermutationImportance(est, random_state=1).fit(X_validate, y_validate)\n",
    "eli5.show_weights(perm, feature_names = X_validate.columns.tolist())"
   ]
  },
  {
   "cell_type": "code",
   "execution_count": 38,
   "metadata": {
    "ExecuteTime": {
     "end_time": "2020-06-05T17:46:25.092234Z",
     "start_time": "2020-06-05T17:46:25.069294Z"
    }
   },
   "outputs": [
    {
     "data": {
      "text/html": [
       "<div>\n",
       "<style scoped>\n",
       "    .dataframe tbody tr th:only-of-type {\n",
       "        vertical-align: middle;\n",
       "    }\n",
       "\n",
       "    .dataframe tbody tr th {\n",
       "        vertical-align: top;\n",
       "    }\n",
       "\n",
       "    .dataframe thead th {\n",
       "        text-align: right;\n",
       "    }\n",
       "</style>\n",
       "<table border=\"1\" class=\"dataframe\">\n",
       "  <thead>\n",
       "    <tr style=\"text-align: right;\">\n",
       "      <th></th>\n",
       "      <th>Severity</th>\n",
       "      <th>LocationLat</th>\n",
       "      <th>LocationLng</th>\n",
       "      <th>ZipCode</th>\n",
       "      <th>Population Estimate (as of July 1) - 2018 - Both Sexes; Median age (years)</th>\n",
       "      <th>Density(/sqmi)</th>\n",
       "      <th>DayOfWeek</th>\n",
       "      <th>Season</th>\n",
       "      <th>WeekofMonth</th>\n",
       "      <th>HourOfDay</th>\n",
       "      <th>MinuteOfHour</th>\n",
       "    </tr>\n",
       "  </thead>\n",
       "  <tbody>\n",
       "    <tr>\n",
       "      <th>507453</th>\n",
       "      <td>2</td>\n",
       "      <td>47.29</td>\n",
       "      <td>-122.31</td>\n",
       "      <td>98003</td>\n",
       "      <td>36.90</td>\n",
       "      <td>870.90</td>\n",
       "      <td>4</td>\n",
       "      <td>3</td>\n",
       "      <td>2</td>\n",
       "      <td>2</td>\n",
       "      <td>3</td>\n",
       "    </tr>\n",
       "    <tr>\n",
       "      <th>242096</th>\n",
       "      <td>1</td>\n",
       "      <td>47.65</td>\n",
       "      <td>-122.32</td>\n",
       "      <td>98102</td>\n",
       "      <td>36.90</td>\n",
       "      <td>870.90</td>\n",
       "      <td>5</td>\n",
       "      <td>1</td>\n",
       "      <td>2</td>\n",
       "      <td>2</td>\n",
       "      <td>3</td>\n",
       "    </tr>\n",
       "    <tr>\n",
       "      <th>500659</th>\n",
       "      <td>1</td>\n",
       "      <td>47.43</td>\n",
       "      <td>-122.28</td>\n",
       "      <td>98188</td>\n",
       "      <td>36.90</td>\n",
       "      <td>870.90</td>\n",
       "      <td>6</td>\n",
       "      <td>3</td>\n",
       "      <td>0</td>\n",
       "      <td>2</td>\n",
       "      <td>3</td>\n",
       "    </tr>\n",
       "    <tr>\n",
       "      <th>458675</th>\n",
       "      <td>1</td>\n",
       "      <td>47.11</td>\n",
       "      <td>-118.58</td>\n",
       "      <td>99169</td>\n",
       "      <td>28.60</td>\n",
       "      <td>9.80</td>\n",
       "      <td>3</td>\n",
       "      <td>0</td>\n",
       "      <td>1</td>\n",
       "      <td>0</td>\n",
       "      <td>3</td>\n",
       "    </tr>\n",
       "    <tr>\n",
       "      <th>154109</th>\n",
       "      <td>3</td>\n",
       "      <td>47.62</td>\n",
       "      <td>-122.33</td>\n",
       "      <td>98102</td>\n",
       "      <td>36.90</td>\n",
       "      <td>870.90</td>\n",
       "      <td>3</td>\n",
       "      <td>3</td>\n",
       "      <td>3</td>\n",
       "      <td>2</td>\n",
       "      <td>3</td>\n",
       "    </tr>\n",
       "    <tr>\n",
       "      <th>...</th>\n",
       "      <td>...</td>\n",
       "      <td>...</td>\n",
       "      <td>...</td>\n",
       "      <td>...</td>\n",
       "      <td>...</td>\n",
       "      <td>...</td>\n",
       "      <td>...</td>\n",
       "      <td>...</td>\n",
       "      <td>...</td>\n",
       "      <td>...</td>\n",
       "      <td>...</td>\n",
       "    </tr>\n",
       "    <tr>\n",
       "      <th>12304</th>\n",
       "      <td>1</td>\n",
       "      <td>47.67</td>\n",
       "      <td>-117.18</td>\n",
       "      <td>99037</td>\n",
       "      <td>37.60</td>\n",
       "      <td>267.80</td>\n",
       "      <td>1</td>\n",
       "      <td>3</td>\n",
       "      <td>3</td>\n",
       "      <td>2</td>\n",
       "      <td>3</td>\n",
       "    </tr>\n",
       "    <tr>\n",
       "      <th>431675</th>\n",
       "      <td>2</td>\n",
       "      <td>47.55</td>\n",
       "      <td>-122.13</td>\n",
       "      <td>98006</td>\n",
       "      <td>36.90</td>\n",
       "      <td>870.90</td>\n",
       "      <td>3</td>\n",
       "      <td>1</td>\n",
       "      <td>2</td>\n",
       "      <td>0</td>\n",
       "      <td>3</td>\n",
       "    </tr>\n",
       "    <tr>\n",
       "      <th>403562</th>\n",
       "      <td>3</td>\n",
       "      <td>46.25</td>\n",
       "      <td>-119.08</td>\n",
       "      <td>99301</td>\n",
       "      <td>30.30</td>\n",
       "      <td>66.80</td>\n",
       "      <td>4</td>\n",
       "      <td>1</td>\n",
       "      <td>2</td>\n",
       "      <td>1</td>\n",
       "      <td>3</td>\n",
       "    </tr>\n",
       "    <tr>\n",
       "      <th>231616</th>\n",
       "      <td>3</td>\n",
       "      <td>47.79</td>\n",
       "      <td>-122.32</td>\n",
       "      <td>98043</td>\n",
       "      <td>38.00</td>\n",
       "      <td>334.80</td>\n",
       "      <td>2</td>\n",
       "      <td>1</td>\n",
       "      <td>0</td>\n",
       "      <td>2</td>\n",
       "      <td>3</td>\n",
       "    </tr>\n",
       "    <tr>\n",
       "      <th>306562</th>\n",
       "      <td>2</td>\n",
       "      <td>47.92</td>\n",
       "      <td>-122.23</td>\n",
       "      <td>98203</td>\n",
       "      <td>38.00</td>\n",
       "      <td>334.80</td>\n",
       "      <td>1</td>\n",
       "      <td>3</td>\n",
       "      <td>2</td>\n",
       "      <td>2</td>\n",
       "      <td>3</td>\n",
       "    </tr>\n",
       "  </tbody>\n",
       "</table>\n",
       "<p>111499 rows × 11 columns</p>\n",
       "</div>"
      ],
      "text/plain": [
       "        Severity  LocationLat  LocationLng  ZipCode  \\\n",
       "507453         2        47.29      -122.31    98003   \n",
       "242096         1        47.65      -122.32    98102   \n",
       "500659         1        47.43      -122.28    98188   \n",
       "458675         1        47.11      -118.58    99169   \n",
       "154109         3        47.62      -122.33    98102   \n",
       "...          ...          ...          ...      ...   \n",
       "12304          1        47.67      -117.18    99037   \n",
       "431675         2        47.55      -122.13    98006   \n",
       "403562         3        46.25      -119.08    99301   \n",
       "231616         3        47.79      -122.32    98043   \n",
       "306562         2        47.92      -122.23    98203   \n",
       "\n",
       "        Population Estimate (as of July 1) - 2018 - Both Sexes; Median age (years)  \\\n",
       "507453                                              36.90                            \n",
       "242096                                              36.90                            \n",
       "500659                                              36.90                            \n",
       "458675                                              28.60                            \n",
       "154109                                              36.90                            \n",
       "...                                                   ...                            \n",
       "12304                                               37.60                            \n",
       "431675                                              36.90                            \n",
       "403562                                              30.30                            \n",
       "231616                                              38.00                            \n",
       "306562                                              38.00                            \n",
       "\n",
       "        Density(/sqmi)  DayOfWeek  Season  WeekofMonth  HourOfDay  \\\n",
       "507453          870.90          4       3            2          2   \n",
       "242096          870.90          5       1            2          2   \n",
       "500659          870.90          6       3            0          2   \n",
       "458675            9.80          3       0            1          0   \n",
       "154109          870.90          3       3            3          2   \n",
       "...                ...        ...     ...          ...        ...   \n",
       "12304           267.80          1       3            3          2   \n",
       "431675          870.90          3       1            2          0   \n",
       "403562           66.80          4       1            2          1   \n",
       "231616          334.80          2       1            0          2   \n",
       "306562          334.80          1       3            2          2   \n",
       "\n",
       "        MinuteOfHour  \n",
       "507453             3  \n",
       "242096             3  \n",
       "500659             3  \n",
       "458675             3  \n",
       "154109             3  \n",
       "...              ...  \n",
       "12304              3  \n",
       "431675             3  \n",
       "403562             3  \n",
       "231616             3  \n",
       "306562             3  \n",
       "\n",
       "[111499 rows x 11 columns]"
      ]
     },
     "execution_count": 38,
     "metadata": {},
     "output_type": "execute_result"
    }
   ],
   "source": [
    "X_validate"
   ]
  },
  {
   "cell_type": "markdown",
   "metadata": {},
   "source": [
    "est.predict([[3, 47.70, -122.60, 5, 30, 20, 43]])"
   ]
  },
  {
   "cell_type": "code",
   "execution_count": 39,
   "metadata": {
    "ExecuteTime": {
     "end_time": "2020-06-05T17:46:25.319200Z",
     "start_time": "2020-06-05T17:46:25.094184Z"
    }
   },
   "outputs": [
    {
     "name": "stdout",
     "output_type": "stream",
     "text": [
      "The mean squared error (MSE) on test set: 9095.8213\n"
     ]
    }
   ],
   "source": [
    "mse = mean_squared_error(y_validate, est.predict(X_validate))\n",
    "print(\"The mean squared error (MSE) on test set: {:.4f}\".format(mse))"
   ]
  },
  {
   "cell_type": "code",
   "execution_count": 40,
   "metadata": {
    "ExecuteTime": {
     "end_time": "2020-06-05T17:46:25.325053Z",
     "start_time": "2020-06-05T17:46:25.321151Z"
    }
   },
   "outputs": [
    {
     "name": "stdout",
     "output_type": "stream",
     "text": [
      "RMSE: 95.37201510148417 \n",
      "\n"
     ]
    }
   ],
   "source": [
    "rms = sqrt(mse)\n",
    "print('RMSE:', rms, '\\n')"
   ]
  },
  {
   "cell_type": "markdown",
   "metadata": {},
   "source": [
    "##### xgboost"
   ]
  },
  {
   "cell_type": "code",
   "execution_count": 68,
   "metadata": {
    "ExecuteTime": {
     "end_time": "2020-06-05T19:35:13.744465Z",
     "start_time": "2020-06-05T19:35:01.957983Z"
    }
   },
   "outputs": [
    {
     "name": "stdout",
     "output_type": "stream",
     "text": [
      "[12:35:02] WARNING: src/objective/regression_obj.cu:152: reg:linear is now deprecated in favor of reg:squarederror.\n"
     ]
    },
    {
     "data": {
      "text/plain": [
       "XGBRegressor(base_score=0.5, booster='gbtree', colsample_bylevel=1,\n",
       "             colsample_bynode=1, colsample_bytree=1, gamma=0,\n",
       "             importance_type='gain', learning_rate=0.1, max_delta_step=0,\n",
       "             max_depth=3, min_child_weight=1, missing=None, n_estimators=100,\n",
       "             n_jobs=1, nthread=None, objective='reg:linear', random_state=0,\n",
       "             reg_alpha=0, reg_lambda=1, scale_pos_weight=1, seed=None,\n",
       "             silent=None, subsample=1, verbosity=1)"
      ]
     },
     "execution_count": 68,
     "metadata": {},
     "output_type": "execute_result"
    }
   ],
   "source": [
    "boost = xgb.XGBRegressor()\n",
    "boost.fit(X_train,y_train)"
   ]
  },
  {
   "cell_type": "code",
   "execution_count": 1,
   "metadata": {
    "ExecuteTime": {
     "end_time": "2020-06-06T04:38:23.633227Z",
     "start_time": "2020-06-06T04:38:23.550253Z"
    }
   },
   "outputs": [
    {
     "ename": "NameError",
     "evalue": "name 'boost' is not defined",
     "output_type": "error",
     "traceback": [
      "\u001b[1;31m---------------------------------------------------------------------------\u001b[0m",
      "\u001b[1;31mNameError\u001b[0m                                 Traceback (most recent call last)",
      "\u001b[1;32m<ipython-input-1-bb8a34f7501d>\u001b[0m in \u001b[0;36m<module>\u001b[1;34m\u001b[0m\n\u001b[1;32m----> 1\u001b[1;33m \u001b[0mpredictions\u001b[0m \u001b[1;33m=\u001b[0m \u001b[0mboost\u001b[0m\u001b[1;33m.\u001b[0m\u001b[0mpredict\u001b[0m\u001b[1;33m(\u001b[0m\u001b[0mX_validate\u001b[0m\u001b[1;33m)\u001b[0m\u001b[1;33m\u001b[0m\u001b[1;33m\u001b[0m\u001b[0m\n\u001b[0m\u001b[0;32m      2\u001b[0m \u001b[0mprint\u001b[0m\u001b[1;33m(\u001b[0m\u001b[0mr2_score\u001b[0m\u001b[1;33m(\u001b[0m\u001b[0mpredictions\u001b[0m\u001b[1;33m,\u001b[0m\u001b[0my_validate\u001b[0m\u001b[1;33m)\u001b[0m\u001b[1;33m)\u001b[0m\u001b[1;33m\u001b[0m\u001b[1;33m\u001b[0m\u001b[0m\n",
      "\u001b[1;31mNameError\u001b[0m: name 'boost' is not defined"
     ]
    }
   ],
   "source": [
    "predictions = boost.predict(X_validate)\n",
    "print(r2_score(predictions,y_validate))"
   ]
  },
  {
   "cell_type": "code",
   "execution_count": null,
   "metadata": {},
   "outputs": [],
   "source": []
  },
  {
   "cell_type": "code",
   "execution_count": 57,
   "metadata": {
    "ExecuteTime": {
     "end_time": "2020-06-05T19:26:26.583314Z",
     "start_time": "2020-06-05T19:25:34.488266Z"
    }
   },
   "outputs": [
    {
     "name": "stdout",
     "output_type": "stream",
     "text": [
      "Fitting 2 folds for each of 1 candidates, totalling 2 fits\n"
     ]
    },
    {
     "name": "stderr",
     "output_type": "stream",
     "text": [
      "[Parallel(n_jobs=5)]: Using backend LokyBackend with 5 concurrent workers.\n",
      "[Parallel(n_jobs=5)]: Done   2 out of   2 | elapsed:   21.3s remaining:    0.0s\n",
      "[Parallel(n_jobs=5)]: Done   2 out of   2 | elapsed:   21.3s finished\n"
     ]
    },
    {
     "name": "stdout",
     "output_type": "stream",
     "text": [
      "0.21405518419013247\n",
      "{'colsample_bytree': 0.7, 'learning_rate': 0.03, 'max_depth': 5, 'min_child_weight': 4, 'n_estimators': 500, 'nthread': 4, 'objective': 'reg:linear', 'silent': 1, 'subsample': 0.7}\n"
     ]
    }
   ],
   "source": [
    "xgb1 = xgb.XGBRegressor()\n",
    "\n",
    "parameters = {'nthread':[4], #when use hyperthread, xgboost may become slower\n",
    "              'objective':['reg:squarederror'],\n",
    "              'learning_rate': [.03], #so called `eta` value\n",
    "              'max_depth': [5],\n",
    "              'min_child_weight': [4],\n",
    "              'silent': [1],\n",
    "              'subsample': [0.7],\n",
    "              'colsample_bytree': [0.7],\n",
    "              'n_estimators': [500]}\n",
    "\n",
    "xgb_grid = GridSearchCV(xgb1,\n",
    "                        parameters,\n",
    "                        cv = 2,\n",
    "                        n_jobs = 5,\n",
    "                        verbose=True)\n",
    "\n",
    "xgb_grid.fit(X_train,y_train)\n",
    "\n",
    "print(xgb_grid.best_score_)\n",
    "print(xgb_grid.best_params_)"
   ]
  },
  {
   "cell_type": "code",
   "execution_count": null,
   "metadata": {},
   "outputs": [],
   "source": []
  },
  {
   "cell_type": "markdown",
   "metadata": {},
   "source": [
    "## Supervised Deep Neural Networks"
   ]
  },
  {
   "cell_type": "code",
   "execution_count": 41,
   "metadata": {
    "ExecuteTime": {
     "end_time": "2020-06-05T17:46:25.499876Z",
     "start_time": "2020-06-05T17:46:25.326548Z"
    }
   },
   "outputs": [],
   "source": [
    "from sklearn.preprocessing import StandardScaler  # doctest: +SKIP\n",
    "scaler = StandardScaler()  # doctest: +SKIP\n",
    "# Don't cheat - fit only on training data\n",
    "scaler.fit(X_train)  # doctest: +SKIP\n",
    "X_train = scaler.transform(X_train)  # doctest: +SKIP\n",
    "# apply same transformation to test data\n",
    "X_test = scaler.transform(X_validate)  # doctest: +SKIP"
   ]
  },
  {
   "cell_type": "code",
   "execution_count": 42,
   "metadata": {
    "ExecuteTime": {
     "end_time": "2020-06-05T17:46:25.511407Z",
     "start_time": "2020-06-05T17:46:25.500841Z"
    }
   },
   "outputs": [],
   "source": [
    "from sklearn.neural_network import MLPRegressor"
   ]
  },
  {
   "cell_type": "code",
   "execution_count": 43,
   "metadata": {
    "ExecuteTime": {
     "end_time": "2020-06-05T17:49:50.508281Z",
     "start_time": "2020-06-05T17:46:25.512372Z"
    }
   },
   "outputs": [
    {
     "name": "stdout",
     "output_type": "stream",
     "text": [
      "Iteration 1, loss = 7276.19657434\n",
      "Validation score: 0.001787\n",
      "Iteration 2, loss = 7004.45597307\n",
      "Validation score: 0.005503\n",
      "Iteration 3, loss = 6988.44186803\n",
      "Validation score: 0.006727\n",
      "Iteration 4, loss = 6979.86067782\n",
      "Validation score: 0.007489\n",
      "Iteration 5, loss = 6973.70542595\n",
      "Validation score: 0.008015\n",
      "Iteration 6, loss = 6970.22485760\n",
      "Validation score: 0.008204\n",
      "Iteration 7, loss = 6967.49884022\n",
      "Validation score: 0.008659\n",
      "Iteration 8, loss = 6965.46695799\n",
      "Validation score: 0.008529\n",
      "Iteration 9, loss = 6962.70690205\n",
      "Validation score: 0.008708\n",
      "Iteration 10, loss = 6962.51862720\n",
      "Validation score: 0.009051\n",
      "Iteration 11, loss = 6959.95208094\n",
      "Validation score: 0.009167\n",
      "Iteration 12, loss = 6959.14146910\n",
      "Validation score: 0.009291\n",
      "Iteration 13, loss = 6958.14878118\n",
      "Validation score: 0.009329\n",
      "Iteration 14, loss = 6956.88487081\n",
      "Validation score: 0.009451\n",
      "Iteration 15, loss = 6956.17472184\n",
      "Validation score: 0.009598\n",
      "Iteration 16, loss = 6954.81604772\n",
      "Validation score: 0.009654\n",
      "Iteration 17, loss = 6954.27610402\n",
      "Validation score: 0.009568\n",
      "Iteration 18, loss = 6953.08288696\n",
      "Validation score: 0.009615\n",
      "Iteration 19, loss = 6952.46990804\n",
      "Validation score: 0.009443\n",
      "Iteration 20, loss = 6951.14794384\n",
      "Validation score: 0.009921\n",
      "Iteration 21, loss = 6950.38556942\n",
      "Validation score: 0.009991\n",
      "Iteration 22, loss = 6949.04224733\n",
      "Validation score: 0.010086\n",
      "Iteration 23, loss = 6948.80355833\n",
      "Validation score: 0.010165\n",
      "Iteration 24, loss = 6947.54784474\n",
      "Validation score: 0.010056\n",
      "Iteration 25, loss = 6946.87071352\n",
      "Validation score: 0.010029\n",
      "Iteration 26, loss = 6945.98696032\n",
      "Validation score: 0.009939\n",
      "Iteration 27, loss = 6945.31252405\n",
      "Validation score: 0.010405\n",
      "Iteration 28, loss = 6944.27175295\n",
      "Validation score: 0.010298\n",
      "Iteration 29, loss = 6944.09156191\n",
      "Validation score: 0.010374\n",
      "Iteration 30, loss = 6942.83049219\n",
      "Validation score: 0.010399\n",
      "Iteration 31, loss = 6942.21133205\n",
      "Validation score: 0.010251\n",
      "Iteration 32, loss = 6942.20055947\n",
      "Validation score: 0.010604\n",
      "Iteration 33, loss = 6941.64058127\n",
      "Validation score: 0.010498\n",
      "Iteration 34, loss = 6940.68238664\n",
      "Validation score: 0.010654\n",
      "Iteration 35, loss = 6940.39106065\n",
      "Validation score: 0.010753\n",
      "Iteration 36, loss = 6939.03695088\n",
      "Validation score: 0.010783\n",
      "Iteration 37, loss = 6938.43950325\n",
      "Validation score: 0.010757\n",
      "Iteration 38, loss = 6938.06376272\n",
      "Validation score: 0.010897\n",
      "Iteration 39, loss = 6937.60715405\n",
      "Validation score: 0.010942\n",
      "Iteration 40, loss = 6936.65175359\n",
      "Validation score: 0.011083\n",
      "Iteration 41, loss = 6936.59419302\n",
      "Validation score: 0.011098\n",
      "Iteration 42, loss = 6935.75892708\n",
      "Validation score: 0.011001\n",
      "Iteration 43, loss = 6935.13174958\n",
      "Validation score: 0.011179\n",
      "Iteration 44, loss = 6934.52233283\n",
      "Validation score: 0.011227\n",
      "Iteration 45, loss = 6933.75933417\n",
      "Validation score: 0.011275\n",
      "Iteration 46, loss = 6933.37259764\n",
      "Validation score: 0.011258\n",
      "Iteration 47, loss = 6931.64527738\n",
      "Validation score: 0.011292\n",
      "Iteration 48, loss = 6931.71184386\n",
      "Validation score: 0.011341\n",
      "Iteration 49, loss = 6931.70669897\n",
      "Validation score: 0.011355\n",
      "Iteration 50, loss = 6931.25936473\n",
      "Validation score: 0.011502\n",
      "Iteration 51, loss = 6930.52450375\n",
      "Validation score: 0.011584\n",
      "Iteration 52, loss = 6929.64748439\n",
      "Validation score: 0.011437\n",
      "Iteration 53, loss = 6929.82277957\n",
      "Validation score: 0.011779\n",
      "Iteration 54, loss = 6929.27003503\n",
      "Validation score: 0.011748\n",
      "Iteration 55, loss = 6928.36380470\n",
      "Validation score: 0.011798\n",
      "Iteration 56, loss = 6927.99887677\n",
      "Validation score: 0.011616\n",
      "Iteration 57, loss = 6927.30234347\n",
      "Validation score: 0.011876\n",
      "Iteration 58, loss = 6926.57339267\n",
      "Validation score: 0.012091\n",
      "Iteration 59, loss = 6926.73753826\n",
      "Validation score: 0.012067\n",
      "Iteration 60, loss = 6925.95192139\n",
      "Validation score: 0.011825\n",
      "Iteration 61, loss = 6925.09623770\n",
      "Validation score: 0.012017\n",
      "Iteration 62, loss = 6925.09194917\n",
      "Validation score: 0.012219\n",
      "Iteration 63, loss = 6924.33771384\n",
      "Validation score: 0.012249\n",
      "Iteration 64, loss = 6924.09007640\n",
      "Validation score: 0.012317\n",
      "Iteration 65, loss = 6923.84709188\n",
      "Validation score: 0.012157\n",
      "Iteration 66, loss = 6922.97717378\n",
      "Validation score: 0.012159\n",
      "Iteration 67, loss = 6922.59469526\n",
      "Validation score: 0.012212\n",
      "Iteration 68, loss = 6922.01766359\n",
      "Validation score: 0.012124\n",
      "Iteration 69, loss = 6921.62825463\n",
      "Validation score: 0.012315\n",
      "Iteration 70, loss = 6920.60237925\n",
      "Validation score: 0.012072\n",
      "Iteration 71, loss = 6921.20049705\n",
      "Validation score: 0.012721\n",
      "Iteration 72, loss = 6920.05033591\n",
      "Validation score: 0.012494\n",
      "Iteration 73, loss = 6919.47793805\n",
      "Validation score: 0.012479\n",
      "Iteration 74, loss = 6919.09383132\n",
      "Validation score: 0.012614\n",
      "Iteration 75, loss = 6918.58513909\n",
      "Validation score: 0.012510\n",
      "Iteration 76, loss = 6918.48643713\n",
      "Validation score: 0.012706\n",
      "Iteration 77, loss = 6917.72189564\n",
      "Validation score: 0.012598\n",
      "Iteration 78, loss = 6916.80657876\n",
      "Validation score: 0.012824\n",
      "Iteration 79, loss = 6916.28829207\n",
      "Validation score: 0.012719\n",
      "Iteration 80, loss = 6916.42609064\n",
      "Validation score: 0.012727\n",
      "Iteration 81, loss = 6915.41103563\n",
      "Validation score: 0.012797\n",
      "Iteration 82, loss = 6915.41502120\n",
      "Validation score: 0.012803\n",
      "Iteration 83, loss = 6914.19231979\n",
      "Validation score: 0.012818\n",
      "Iteration 84, loss = 6914.24835085\n",
      "Validation score: 0.012717\n",
      "Iteration 85, loss = 6914.12539916\n",
      "Validation score: 0.012865\n",
      "Iteration 86, loss = 6913.42819421\n",
      "Validation score: 0.012955\n",
      "Iteration 87, loss = 6911.96149201\n",
      "Validation score: 0.012850\n",
      "Iteration 88, loss = 6912.52482566\n",
      "Validation score: 0.013095\n",
      "Iteration 89, loss = 6911.80818268\n",
      "Validation score: 0.013339\n",
      "Iteration 90, loss = 6911.75577761\n",
      "Validation score: 0.013465\n",
      "Iteration 91, loss = 6910.92383220\n",
      "Validation score: 0.013153\n",
      "Iteration 92, loss = 6911.10996937\n",
      "Validation score: 0.013140\n",
      "Iteration 93, loss = 6910.95514250\n",
      "Validation score: 0.013174\n",
      "Iteration 94, loss = 6909.65980334\n",
      "Validation score: 0.013274\n",
      "Iteration 95, loss = 6910.16476977\n",
      "Validation score: 0.013111\n",
      "Iteration 96, loss = 6909.11006051\n",
      "Validation score: 0.013240\n",
      "Iteration 97, loss = 6908.45988189\n",
      "Validation score: 0.013172\n",
      "Iteration 98, loss = 6907.98561251\n",
      "Validation score: 0.013532\n",
      "Iteration 99, loss = 6908.24018573\n",
      "Validation score: 0.013257\n",
      "Iteration 100, loss = 6907.24400963\n",
      "Validation score: 0.013621\n",
      "Iteration 101, loss = 6907.61892259\n",
      "Validation score: 0.013781\n",
      "Iteration 102, loss = 6906.74027080\n",
      "Validation score: 0.013659\n",
      "Iteration 103, loss = 6905.96579662\n",
      "Validation score: 0.013679\n",
      "Iteration 104, loss = 6906.22058886\n",
      "Validation score: 0.013779\n",
      "Iteration 105, loss = 6905.52133705\n",
      "Validation score: 0.013785\n",
      "Iteration 106, loss = 6905.15402487\n",
      "Validation score: 0.013672\n",
      "Iteration 107, loss = 6904.91357519\n",
      "Validation score: 0.013483\n",
      "Iteration 108, loss = 6904.65405620\n",
      "Validation score: 0.012802\n",
      "Iteration 109, loss = 6903.91518799\n",
      "Validation score: 0.013864\n",
      "Iteration 110, loss = 6903.84856727\n",
      "Validation score: 0.013255\n",
      "Iteration 111, loss = 6903.41264201\n",
      "Validation score: 0.013608\n",
      "Iteration 112, loss = 6903.52849041\n",
      "Validation score: 0.013988\n",
      "Iteration 113, loss = 6902.87663377\n",
      "Validation score: 0.013917\n",
      "Iteration 114, loss = 6902.21416913\n",
      "Validation score: 0.013336\n",
      "Iteration 115, loss = 6901.53374466\n",
      "Validation score: 0.013757\n",
      "Iteration 116, loss = 6902.18951095\n",
      "Validation score: 0.014073\n",
      "Iteration 117, loss = 6900.70105342\n",
      "Validation score: 0.012878\n",
      "Iteration 118, loss = 6901.27820653\n",
      "Validation score: 0.013082\n",
      "Iteration 119, loss = 6900.80959398\n",
      "Validation score: 0.013907\n",
      "Iteration 120, loss = 6900.84572145\n",
      "Validation score: 0.013981\n",
      "Iteration 121, loss = 6899.00815858\n",
      "Validation score: 0.014202\n",
      "Iteration 122, loss = 6899.35455158\n",
      "Validation score: 0.013667\n",
      "Iteration 123, loss = 6899.57767587\n",
      "Validation score: 0.013192\n",
      "Iteration 124, loss = 6898.86877634\n",
      "Validation score: 0.014224\n",
      "Iteration 125, loss = 6898.61371220\n",
      "Validation score: 0.014166\n",
      "Iteration 126, loss = 6898.19301447\n",
      "Validation score: 0.014150\n",
      "Iteration 127, loss = 6897.45170691\n",
      "Validation score: 0.014267\n",
      "Iteration 128, loss = 6898.02926922\n",
      "Validation score: 0.014041\n",
      "Iteration 129, loss = 6896.43360753\n",
      "Validation score: 0.014281\n",
      "Iteration 130, loss = 6896.95885089\n",
      "Validation score: 0.014490\n",
      "Iteration 131, loss = 6896.38917651\n",
      "Validation score: 0.014503\n",
      "Iteration 132, loss = 6895.77037888\n",
      "Validation score: 0.014113\n"
     ]
    },
    {
     "name": "stdout",
     "output_type": "stream",
     "text": [
      "Iteration 133, loss = 6895.56270178\n",
      "Validation score: 0.014365\n",
      "Iteration 134, loss = 6894.86259859\n",
      "Validation score: 0.014317\n",
      "Iteration 135, loss = 6894.79241150\n",
      "Validation score: 0.014379\n",
      "Iteration 136, loss = 6894.95005461\n",
      "Validation score: 0.014083\n",
      "Iteration 137, loss = 6894.18769000\n",
      "Validation score: 0.014438\n",
      "Iteration 138, loss = 6893.91809239\n",
      "Validation score: 0.014620\n",
      "Iteration 139, loss = 6893.34544386\n",
      "Validation score: 0.014240\n",
      "Iteration 140, loss = 6893.08854133\n",
      "Validation score: 0.014738\n",
      "Iteration 141, loss = 6892.75064653\n",
      "Validation score: 0.014511\n",
      "Iteration 142, loss = 6892.82164048\n",
      "Validation score: 0.014425\n",
      "Iteration 143, loss = 6891.94831914\n",
      "Validation score: 0.014304\n",
      "Iteration 144, loss = 6891.97642230\n",
      "Validation score: 0.014678\n",
      "Iteration 145, loss = 6892.08268841\n",
      "Validation score: 0.014644\n",
      "Iteration 146, loss = 6892.32791084\n",
      "Validation score: 0.014550\n",
      "Iteration 147, loss = 6891.32598754\n",
      "Validation score: 0.014551\n",
      "Iteration 148, loss = 6890.60251860\n",
      "Validation score: 0.014777\n",
      "Iteration 149, loss = 6890.01268998\n",
      "Validation score: 0.014937\n",
      "Iteration 150, loss = 6890.63609620\n",
      "Validation score: 0.014581\n",
      "Iteration 151, loss = 6889.89136483\n",
      "Validation score: 0.014289\n",
      "Iteration 152, loss = 6888.37335515\n",
      "Validation score: 0.014644\n",
      "Iteration 153, loss = 6889.04984557\n",
      "Validation score: 0.014718\n",
      "Iteration 154, loss = 6889.05034055\n",
      "Validation score: 0.014778\n",
      "Iteration 155, loss = 6888.36892239\n",
      "Validation score: 0.014950\n",
      "Iteration 156, loss = 6888.25532554\n",
      "Validation score: 0.014379\n",
      "Iteration 157, loss = 6888.46512843\n",
      "Validation score: 0.014654\n",
      "Iteration 158, loss = 6887.87502632\n",
      "Validation score: 0.014730\n",
      "Iteration 159, loss = 6888.05360544\n",
      "Validation score: 0.014958\n",
      "Iteration 160, loss = 6888.03857363\n",
      "Validation score: 0.014785\n",
      "Validation score did not improve more than tol=0.000100 for 10 consecutive epochs. Stopping.\n"
     ]
    },
    {
     "ename": "ValueError",
     "evalue": "Found input variables with inconsistent numbers of samples: [111501, 111499]",
     "output_type": "error",
     "traceback": [
      "\u001b[1;31m---------------------------------------------------------------------------\u001b[0m",
      "\u001b[1;31mValueError\u001b[0m                                Traceback (most recent call last)",
      "\u001b[1;32m<ipython-input-43-c21f97ae67bd>\u001b[0m in \u001b[0;36m<module>\u001b[1;34m\u001b[0m\n\u001b[0;32m      1\u001b[0m \u001b[0mregr\u001b[0m \u001b[1;33m=\u001b[0m \u001b[0mMLPRegressor\u001b[0m\u001b[1;33m(\u001b[0m\u001b[0mrandom_state\u001b[0m\u001b[1;33m=\u001b[0m\u001b[1;36m1\u001b[0m\u001b[1;33m,\u001b[0m \u001b[0mmax_iter\u001b[0m\u001b[1;33m=\u001b[0m\u001b[1;36m500\u001b[0m\u001b[1;33m,\u001b[0m \u001b[0mearly_stopping\u001b[0m\u001b[1;33m=\u001b[0m\u001b[1;32mTrue\u001b[0m\u001b[1;33m,\u001b[0m \u001b[0mverbose\u001b[0m\u001b[1;33m=\u001b[0m\u001b[1;32mTrue\u001b[0m\u001b[1;33m)\u001b[0m\u001b[1;33m.\u001b[0m\u001b[0mfit\u001b[0m\u001b[1;33m(\u001b[0m\u001b[0mX_train\u001b[0m\u001b[1;33m,\u001b[0m \u001b[0my_train\u001b[0m\u001b[1;33m)\u001b[0m\u001b[1;33m\u001b[0m\u001b[1;33m\u001b[0m\u001b[0m\n\u001b[1;32m----> 2\u001b[1;33m \u001b[0mregr\u001b[0m\u001b[1;33m.\u001b[0m\u001b[0mscore\u001b[0m\u001b[1;33m(\u001b[0m\u001b[0mX_test\u001b[0m\u001b[1;33m,\u001b[0m \u001b[0my_test\u001b[0m\u001b[1;33m)\u001b[0m\u001b[1;33m\u001b[0m\u001b[1;33m\u001b[0m\u001b[0m\n\u001b[0m",
      "\u001b[1;32mF:\\Anaconda\\lib\\site-packages\\sklearn\\base.py\u001b[0m in \u001b[0;36mscore\u001b[1;34m(self, X, y, sample_weight)\u001b[0m\n\u001b[0;32m    422\u001b[0m         \u001b[0my_pred\u001b[0m \u001b[1;33m=\u001b[0m \u001b[0mself\u001b[0m\u001b[1;33m.\u001b[0m\u001b[0mpredict\u001b[0m\u001b[1;33m(\u001b[0m\u001b[0mX\u001b[0m\u001b[1;33m)\u001b[0m\u001b[1;33m\u001b[0m\u001b[1;33m\u001b[0m\u001b[0m\n\u001b[0;32m    423\u001b[0m         \u001b[1;31m# XXX: Remove the check in 0.23\u001b[0m\u001b[1;33m\u001b[0m\u001b[1;33m\u001b[0m\u001b[1;33m\u001b[0m\u001b[0m\n\u001b[1;32m--> 424\u001b[1;33m         \u001b[0my_type\u001b[0m\u001b[1;33m,\u001b[0m \u001b[0m_\u001b[0m\u001b[1;33m,\u001b[0m \u001b[0m_\u001b[0m\u001b[1;33m,\u001b[0m \u001b[0m_\u001b[0m \u001b[1;33m=\u001b[0m \u001b[0m_check_reg_targets\u001b[0m\u001b[1;33m(\u001b[0m\u001b[0my\u001b[0m\u001b[1;33m,\u001b[0m \u001b[0my_pred\u001b[0m\u001b[1;33m,\u001b[0m \u001b[1;32mNone\u001b[0m\u001b[1;33m)\u001b[0m\u001b[1;33m\u001b[0m\u001b[1;33m\u001b[0m\u001b[0m\n\u001b[0m\u001b[0;32m    425\u001b[0m         \u001b[1;32mif\u001b[0m \u001b[0my_type\u001b[0m \u001b[1;33m==\u001b[0m \u001b[1;34m'continuous-multioutput'\u001b[0m\u001b[1;33m:\u001b[0m\u001b[1;33m\u001b[0m\u001b[1;33m\u001b[0m\u001b[0m\n\u001b[0;32m    426\u001b[0m             warnings.warn(\"The default value of multioutput (not exposed in \"\n",
      "\u001b[1;32mF:\\Anaconda\\lib\\site-packages\\sklearn\\metrics\\_regression.py\u001b[0m in \u001b[0;36m_check_reg_targets\u001b[1;34m(y_true, y_pred, multioutput, dtype)\u001b[0m\n\u001b[0;32m     82\u001b[0m \u001b[1;33m\u001b[0m\u001b[0m\n\u001b[0;32m     83\u001b[0m     \"\"\"\n\u001b[1;32m---> 84\u001b[1;33m     \u001b[0mcheck_consistent_length\u001b[0m\u001b[1;33m(\u001b[0m\u001b[0my_true\u001b[0m\u001b[1;33m,\u001b[0m \u001b[0my_pred\u001b[0m\u001b[1;33m)\u001b[0m\u001b[1;33m\u001b[0m\u001b[1;33m\u001b[0m\u001b[0m\n\u001b[0m\u001b[0;32m     85\u001b[0m     \u001b[0my_true\u001b[0m \u001b[1;33m=\u001b[0m \u001b[0mcheck_array\u001b[0m\u001b[1;33m(\u001b[0m\u001b[0my_true\u001b[0m\u001b[1;33m,\u001b[0m \u001b[0mensure_2d\u001b[0m\u001b[1;33m=\u001b[0m\u001b[1;32mFalse\u001b[0m\u001b[1;33m,\u001b[0m \u001b[0mdtype\u001b[0m\u001b[1;33m=\u001b[0m\u001b[0mdtype\u001b[0m\u001b[1;33m)\u001b[0m\u001b[1;33m\u001b[0m\u001b[1;33m\u001b[0m\u001b[0m\n\u001b[0;32m     86\u001b[0m     \u001b[0my_pred\u001b[0m \u001b[1;33m=\u001b[0m \u001b[0mcheck_array\u001b[0m\u001b[1;33m(\u001b[0m\u001b[0my_pred\u001b[0m\u001b[1;33m,\u001b[0m \u001b[0mensure_2d\u001b[0m\u001b[1;33m=\u001b[0m\u001b[1;32mFalse\u001b[0m\u001b[1;33m,\u001b[0m \u001b[0mdtype\u001b[0m\u001b[1;33m=\u001b[0m\u001b[0mdtype\u001b[0m\u001b[1;33m)\u001b[0m\u001b[1;33m\u001b[0m\u001b[1;33m\u001b[0m\u001b[0m\n",
      "\u001b[1;32mF:\\Anaconda\\lib\\site-packages\\sklearn\\utils\\validation.py\u001b[0m in \u001b[0;36mcheck_consistent_length\u001b[1;34m(*arrays)\u001b[0m\n\u001b[0;32m    210\u001b[0m     \u001b[1;32mif\u001b[0m \u001b[0mlen\u001b[0m\u001b[1;33m(\u001b[0m\u001b[0muniques\u001b[0m\u001b[1;33m)\u001b[0m \u001b[1;33m>\u001b[0m \u001b[1;36m1\u001b[0m\u001b[1;33m:\u001b[0m\u001b[1;33m\u001b[0m\u001b[1;33m\u001b[0m\u001b[0m\n\u001b[0;32m    211\u001b[0m         raise ValueError(\"Found input variables with inconsistent numbers of\"\n\u001b[1;32m--> 212\u001b[1;33m                          \" samples: %r\" % [int(l) for l in lengths])\n\u001b[0m\u001b[0;32m    213\u001b[0m \u001b[1;33m\u001b[0m\u001b[0m\n\u001b[0;32m    214\u001b[0m \u001b[1;33m\u001b[0m\u001b[0m\n",
      "\u001b[1;31mValueError\u001b[0m: Found input variables with inconsistent numbers of samples: [111501, 111499]"
     ]
    }
   ],
   "source": [
    "regr = MLPRegressor(random_state=1, max_iter=500, early_stopping=True, verbose=True).fit(X_train, y_train)"
   ]
  },
  {
   "cell_type": "code",
   "execution_count": 48,
   "metadata": {
    "ExecuteTime": {
     "end_time": "2020-06-05T18:03:11.603145Z",
     "start_time": "2020-06-05T18:03:11.499231Z"
    }
   },
   "outputs": [
    {
     "data": {
      "text/plain": [
       "0.0202006760231207"
      ]
     },
     "execution_count": 48,
     "metadata": {},
     "output_type": "execute_result"
    }
   ],
   "source": [
    "regr.score(X_test, y_validate)"
   ]
  },
  {
   "cell_type": "markdown",
   "metadata": {},
   "source": [
    "## Keras"
   ]
  },
  {
   "cell_type": "code",
   "execution_count": 37,
   "metadata": {
    "scrolled": true
   },
   "outputs": [
    {
     "name": "stderr",
     "output_type": "stream",
     "text": [
      "Using TensorFlow backend.\n"
     ]
    }
   ],
   "source": [
    "from keras.callbacks import ModelCheckpoint\n",
    "from keras.models import Sequential\n",
    "from keras.layers import Dense, Activation, Flatten"
   ]
  },
  {
   "cell_type": "code",
   "execution_count": 38,
   "metadata": {},
   "outputs": [],
   "source": [
    "import tensorflow as tf"
   ]
  },
  {
   "cell_type": "code",
   "execution_count": 24,
   "metadata": {},
   "outputs": [
    {
     "name": "stdout",
     "output_type": "stream",
     "text": [
      "Visible devices cannot be modified after being initialized\n"
     ]
    }
   ],
   "source": [
    "gpus = tf.config.experimental.list_physical_devices('GPU')\n",
    "if gpus:\n",
    "  # Restrict TensorFlow to only use the first GPU\n",
    "  try:\n",
    "    tf.config.experimental.set_visible_devices(gpus[0], 'GPU')\n",
    "    logical_gpus = tf.config.experimental.list_logical_devices('GPU')\n",
    "    print(len(gpus), \"Physical GPUs,\", len(logical_gpus), \"Logical GPU\")\n",
    "  except RuntimeError as e:\n",
    "    # Visible devices must be set before GPUs have been initialized\n",
    "    print(e)"
   ]
  },
  {
   "cell_type": "code",
   "execution_count": 20,
   "metadata": {},
   "outputs": [],
   "source": [
    "if 'session' in locals() and session is not None:\n",
    "    print('Close interactive session')\n",
    "    session.close()"
   ]
  },
  {
   "cell_type": "code",
   "execution_count": 15,
   "metadata": {},
   "outputs": [
    {
     "name": "stderr",
     "output_type": "stream",
     "text": [
      "F:\\Anaconda\\lib\\site-packages\\pandas\\core\\frame.py:3997: SettingWithCopyWarning: \n",
      "A value is trying to be set on a copy of a slice from a DataFrame\n",
      "\n",
      "See the caveats in the documentation: https://pandas.pydata.org/pandas-docs/stable/user_guide/indexing.html#returning-a-view-versus-a-copy\n",
      "  errors=errors,\n"
     ]
    }
   ],
   "source": [
    "train, test = train_test_split(df_prune, test_size = 0.2)\n",
    "target = train.Duration\n",
    "train.drop(['Duration'],axis = 1 , inplace = True)"
   ]
  },
  {
   "cell_type": "code",
   "execution_count": 16,
   "metadata": {},
   "outputs": [],
   "source": [
    "# X, y = df_prune.drop('Duration',axis=1), df_prune['Duration']\n",
    "# train, test = train_test_split(X, test_size = 0.2)"
   ]
  },
  {
   "cell_type": "markdown",
   "metadata": {},
   "source": [
    "##### Do not run the line below, it's too GPU intensive to run on local machine"
   ]
  },
  {
   "cell_type": "code",
   "execution_count": null,
   "metadata": {},
   "outputs": [],
   "source": [
    "NN_model = Sequential()\n",
    "\n",
    "# The Input Layer :\n",
    "NN_model.add(Dense(128, kernel_initializer='normal',input_dim = train.shape[1], activation='relu'))\n",
    "\n",
    "# The Hidden Layers :\n",
    "NN_model.add(Dense(256, kernel_initializer='normal',activation='relu'))\n",
    "NN_model.add(Dense(256, kernel_initializer='normal',activation='relu'))\n",
    "NN_model.add(Dense(256, kernel_initializer='normal',activation='relu'))\n",
    "\n",
    "# The Output Layer :\n",
    "NN_model.add(Dense(1, kernel_initializer='normal',activation='linear'))\n",
    "\n",
    "# Compile the network :\n",
    "NN_model.compile(loss='mean_absolute_error', optimizer='adam', metrics=['mean_absolute_error'])\n",
    "NN_model.summary()"
   ]
  },
  {
   "cell_type": "code",
   "execution_count": 18,
   "metadata": {},
   "outputs": [],
   "source": [
    "checkpoint_name = 'Weights-{epoch:03d}--{val_loss:.5f}.hdf5' \n",
    "checkpoint = ModelCheckpoint(checkpoint_name, monitor='val_loss', verbose = 1, save_best_only = True, mode ='auto')\n",
    "callbacks_list = [checkpoint]"
   ]
  },
  {
   "cell_type": "code",
   "execution_count": null,
   "metadata": {},
   "outputs": [],
   "source": [
    "NN_model.fit(train, target, epochs=50, batch_size=10, validation_split = 0.2, callbacks=callbacks_list)"
   ]
  },
  {
   "cell_type": "code",
   "execution_count": null,
   "metadata": {},
   "outputs": [],
   "source": [
    "# Weights-488--18.80487.hdf5"
   ]
  },
  {
   "cell_type": "code",
   "execution_count": null,
   "metadata": {},
   "outputs": [],
   "source": [
    "wights_file = './models/Weights-488--18.80487.hdf5'\n",
    "NN_model.load_weights(wights_file) # load it\n",
    "NN_model.compile(loss='mean_absolute_error', optimizer='adam', metrics=['mean_absolute_error'])"
   ]
  },
  {
   "cell_type": "markdown",
   "metadata": {},
   "source": [
    "Epoch 00499: val_loss did not improve from 18.80487\n",
    "Epoch 500/500\n",
    "357619/357619 [==============================] - 10s 29us/step - loss: 18.3375 - mean_absolute_error: 18.3375 - val_loss: 18.8967 - val_mean_absolute_error: 18.8967"
   ]
  },
  {
   "cell_type": "markdown",
   "metadata": {},
   "source": [
    "r2_score(test.Duration, predictions)\n",
    "\n",
    "0.0007101090759975559"
   ]
  },
  {
   "cell_type": "markdown",
   "metadata": {},
   "source": [
    "# Conclusion"
   ]
  },
  {
   "cell_type": "markdown",
   "metadata": {},
   "source": [
    "##### Best Model is Gradient Boosting"
   ]
  },
  {
   "cell_type": "code",
   "execution_count": 18,
   "metadata": {},
   "outputs": [],
   "source": [
    "import pickle"
   ]
  },
  {
   "cell_type": "code",
   "execution_count": 28,
   "metadata": {},
   "outputs": [],
   "source": [
    "pickle.dump(est, open(\"./models/GB_Duration.pickle.dat\", \"wb\"))"
   ]
  },
  {
   "cell_type": "code",
   "execution_count": 19,
   "metadata": {},
   "outputs": [],
   "source": [
    "# load model from file\n",
    "loaded_model = pickle.load(open(\"./models/GB_Duration.pickle.dat\", \"rb\"))"
   ]
  },
  {
   "cell_type": "code",
   "execution_count": 20,
   "metadata": {},
   "outputs": [],
   "source": [
    "chk_anomaly = pd.DataFrame(loaded_model.predict(X_test))"
   ]
  },
  {
   "cell_type": "code",
   "execution_count": 24,
   "metadata": {},
   "outputs": [
    {
     "data": {
      "text/plain": [
       "55879"
      ]
     },
     "execution_count": 24,
     "metadata": {},
     "output_type": "execute_result"
    }
   ],
   "source": [
    "len(chk_anomaly)"
   ]
  },
  {
   "cell_type": "code",
   "execution_count": 23,
   "metadata": {},
   "outputs": [
    {
     "data": {
      "text/html": [
       "<div>\n",
       "<style scoped>\n",
       "    .dataframe tbody tr th:only-of-type {\n",
       "        vertical-align: middle;\n",
       "    }\n",
       "\n",
       "    .dataframe tbody tr th {\n",
       "        vertical-align: top;\n",
       "    }\n",
       "\n",
       "    .dataframe thead th {\n",
       "        text-align: right;\n",
       "    }\n",
       "</style>\n",
       "<table border=\"1\" class=\"dataframe\">\n",
       "  <thead>\n",
       "    <tr style=\"text-align: right;\">\n",
       "      <th></th>\n",
       "      <th>0</th>\n",
       "    </tr>\n",
       "  </thead>\n",
       "  <tbody>\n",
       "    <tr>\n",
       "      <th>4</th>\n",
       "      <td>142.54</td>\n",
       "    </tr>\n",
       "    <tr>\n",
       "      <th>109</th>\n",
       "      <td>171.13</td>\n",
       "    </tr>\n",
       "    <tr>\n",
       "      <th>376</th>\n",
       "      <td>125.20</td>\n",
       "    </tr>\n",
       "    <tr>\n",
       "      <th>417</th>\n",
       "      <td>124.53</td>\n",
       "    </tr>\n",
       "    <tr>\n",
       "      <th>421</th>\n",
       "      <td>164.82</td>\n",
       "    </tr>\n",
       "    <tr>\n",
       "      <th>...</th>\n",
       "      <td>...</td>\n",
       "    </tr>\n",
       "    <tr>\n",
       "      <th>55307</th>\n",
       "      <td>142.12</td>\n",
       "    </tr>\n",
       "    <tr>\n",
       "      <th>55487</th>\n",
       "      <td>136.19</td>\n",
       "    </tr>\n",
       "    <tr>\n",
       "      <th>55543</th>\n",
       "      <td>174.27</td>\n",
       "    </tr>\n",
       "    <tr>\n",
       "      <th>55605</th>\n",
       "      <td>167.92</td>\n",
       "    </tr>\n",
       "    <tr>\n",
       "      <th>55804</th>\n",
       "      <td>123.25</td>\n",
       "    </tr>\n",
       "  </tbody>\n",
       "</table>\n",
       "<p>740 rows × 1 columns</p>\n",
       "</div>"
      ],
      "text/plain": [
       "           0\n",
       "4     142.54\n",
       "109   171.13\n",
       "376   125.20\n",
       "417   124.53\n",
       "421   164.82\n",
       "...      ...\n",
       "55307 142.12\n",
       "55487 136.19\n",
       "55543 174.27\n",
       "55605 167.92\n",
       "55804 123.25\n",
       "\n",
       "[740 rows x 1 columns]"
      ]
     },
     "execution_count": 23,
     "metadata": {},
     "output_type": "execute_result"
    }
   ],
   "source": [
    "chk_anomaly[chk_anomaly[0] >= 123]"
   ]
  },
  {
   "cell_type": "code",
   "execution_count": null,
   "metadata": {},
   "outputs": [],
   "source": []
  }
 ],
 "metadata": {
  "kernelspec": {
   "display_name": "Python 3",
   "language": "python",
   "name": "python3"
  },
  "language_info": {
   "codemirror_mode": {
    "name": "ipython",
    "version": 3
   },
   "file_extension": ".py",
   "mimetype": "text/x-python",
   "name": "python",
   "nbconvert_exporter": "python",
   "pygments_lexer": "ipython3",
   "version": "3.7.7"
  },
  "toc": {
   "base_numbering": 1,
   "nav_menu": {},
   "number_sections": true,
   "sideBar": true,
   "skip_h1_title": false,
   "title_cell": "Table of Contents",
   "title_sidebar": "Contents",
   "toc_cell": false,
   "toc_position": {},
   "toc_section_display": true,
   "toc_window_display": true
  }
 },
 "nbformat": 4,
 "nbformat_minor": 4
}
