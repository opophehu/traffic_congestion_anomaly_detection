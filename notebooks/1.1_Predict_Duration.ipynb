{
 "cells": [
  {
   "cell_type": "markdown",
   "metadata": {},
   "source": [
    "# Regression modeling using only Traffic Data"
   ]
  },
  {
   "cell_type": "code",
   "execution_count": 1,
   "metadata": {
    "ExecuteTime": {
     "end_time": "2020-06-06T23:33:45.339706Z",
     "start_time": "2020-06-06T23:33:42.354916Z"
    }
   },
   "outputs": [],
   "source": [
    "from datetime import datetime, timedelta\n",
    "import pandas as pd\n",
    "import numpy as np\n",
    "import statsmodels.api as sm\n",
    "import statsmodels.formula.api as smf\n",
    "import patsy\n",
    "import pprint\n",
    "from sklearn.metrics import mean_squared_error\n",
    "from sklearn.metrics import accuracy_score\n",
    "from math import sqrt\n",
    "from sklearn import ensemble\n",
    "from sklearn.inspection import permutation_importance\n",
    "\n",
    "import seaborn as sns\n",
    "import matplotlib.pyplot as plt\n",
    "from sklearn.model_selection import train_test_split, KFold\n",
    "from sklearn.preprocessing import StandardScaler, PolynomialFeatures\n",
    "from sklearn.pipeline import Pipeline\n",
    "from sklearn.linear_model import LinearRegression, Lasso, LassoCV, Ridge, RidgeCV\n",
    "from sklearn.metrics import r2_score\n",
    "import xgboost as xgb\n",
    "%matplotlib inline\n"
   ]
  },
  {
   "cell_type": "code",
   "execution_count": 2,
   "metadata": {
    "ExecuteTime": {
     "end_time": "2020-06-06T23:33:45.345546Z",
     "start_time": "2020-06-06T23:33:45.341645Z"
    }
   },
   "outputs": [],
   "source": [
    "pd.set_option('display.max_rows', 20)\n",
    "pd.set_option('display.float_format', '{:.2f}'.format)\n",
    "np.set_printoptions(suppress=True)"
   ]
  },
  {
   "cell_type": "code",
   "execution_count": 3,
   "metadata": {
    "ExecuteTime": {
     "end_time": "2020-06-06T23:33:46.217640Z",
     "start_time": "2020-06-06T23:33:45.347497Z"
    }
   },
   "outputs": [],
   "source": [
    "df = pd.read_csv(\"./data/WA_cngstn.csv\")"
   ]
  },
  {
   "cell_type": "code",
   "execution_count": 4,
   "metadata": {
    "ExecuteTime": {
     "end_time": "2020-06-06T23:33:46.282989Z",
     "start_time": "2020-06-06T23:33:46.219590Z"
    }
   },
   "outputs": [
    {
     "data": {
      "text/html": [
       "<div>\n",
       "<style scoped>\n",
       "    .dataframe tbody tr th:only-of-type {\n",
       "        vertical-align: middle;\n",
       "    }\n",
       "\n",
       "    .dataframe tbody tr th {\n",
       "        vertical-align: top;\n",
       "    }\n",
       "\n",
       "    .dataframe thead th {\n",
       "        text-align: right;\n",
       "    }\n",
       "</style>\n",
       "<table border=\"1\" class=\"dataframe\">\n",
       "  <thead>\n",
       "    <tr style=\"text-align: right;\">\n",
       "      <th></th>\n",
       "      <th>Type</th>\n",
       "      <th>Severity</th>\n",
       "      <th>TMC</th>\n",
       "      <th>StartTime(UTC)</th>\n",
       "      <th>EndTime(UTC)</th>\n",
       "      <th>LocationLat</th>\n",
       "      <th>LocationLng</th>\n",
       "      <th>Distance(mi)</th>\n",
       "      <th>Side</th>\n",
       "      <th>ZipCode</th>\n",
       "      <th>IsAnomaly</th>\n",
       "      <th>Duration</th>\n",
       "    </tr>\n",
       "  </thead>\n",
       "  <tbody>\n",
       "    <tr>\n",
       "      <th>0</th>\n",
       "      <td>3</td>\n",
       "      <td>1</td>\n",
       "      <td>74</td>\n",
       "      <td>2016-11-30 23:35:00</td>\n",
       "      <td>2016-12-01 00:55:09</td>\n",
       "      <td>47.01</td>\n",
       "      <td>-122.91</td>\n",
       "      <td>1.49</td>\n",
       "      <td>-1</td>\n",
       "      <td>98501.00</td>\n",
       "      <td>0</td>\n",
       "      <td>80</td>\n",
       "    </tr>\n",
       "    <tr>\n",
       "      <th>1</th>\n",
       "      <td>3</td>\n",
       "      <td>2</td>\n",
       "      <td>73</td>\n",
       "      <td>2016-12-01 00:52:00</td>\n",
       "      <td>2016-12-01 01:04:04</td>\n",
       "      <td>47.61</td>\n",
       "      <td>-122.33</td>\n",
       "      <td>1.49</td>\n",
       "      <td>-1</td>\n",
       "      <td>98104.00</td>\n",
       "      <td>0</td>\n",
       "      <td>12</td>\n",
       "    </tr>\n",
       "    <tr>\n",
       "      <th>2</th>\n",
       "      <td>3</td>\n",
       "      <td>1</td>\n",
       "      <td>74</td>\n",
       "      <td>2016-12-01 01:08:00</td>\n",
       "      <td>2016-12-01 01:26:07</td>\n",
       "      <td>47.96</td>\n",
       "      <td>-122.20</td>\n",
       "      <td>2.30</td>\n",
       "      <td>-1</td>\n",
       "      <td>98203.00</td>\n",
       "      <td>0</td>\n",
       "      <td>18</td>\n",
       "    </tr>\n",
       "    <tr>\n",
       "      <th>3</th>\n",
       "      <td>3</td>\n",
       "      <td>1</td>\n",
       "      <td>74</td>\n",
       "      <td>2016-12-01 01:02:00</td>\n",
       "      <td>2016-12-01 01:24:00</td>\n",
       "      <td>47.56</td>\n",
       "      <td>-122.19</td>\n",
       "      <td>2.59</td>\n",
       "      <td>-1</td>\n",
       "      <td>98006.00</td>\n",
       "      <td>0</td>\n",
       "      <td>22</td>\n",
       "    </tr>\n",
       "    <tr>\n",
       "      <th>4</th>\n",
       "      <td>3</td>\n",
       "      <td>1</td>\n",
       "      <td>74</td>\n",
       "      <td>2016-12-01 01:19:00</td>\n",
       "      <td>2016-12-01 01:31:07</td>\n",
       "      <td>47.62</td>\n",
       "      <td>-122.33</td>\n",
       "      <td>1.64</td>\n",
       "      <td>-1</td>\n",
       "      <td>98101.00</td>\n",
       "      <td>0</td>\n",
       "      <td>12</td>\n",
       "    </tr>\n",
       "  </tbody>\n",
       "</table>\n",
       "</div>"
      ],
      "text/plain": [
       "   Type  Severity  TMC       StartTime(UTC)         EndTime(UTC)  LocationLat  \\\n",
       "0     3         1   74  2016-11-30 23:35:00  2016-12-01 00:55:09        47.01   \n",
       "1     3         2   73  2016-12-01 00:52:00  2016-12-01 01:04:04        47.61   \n",
       "2     3         1   74  2016-12-01 01:08:00  2016-12-01 01:26:07        47.96   \n",
       "3     3         1   74  2016-12-01 01:02:00  2016-12-01 01:24:00        47.56   \n",
       "4     3         1   74  2016-12-01 01:19:00  2016-12-01 01:31:07        47.62   \n",
       "\n",
       "   LocationLng  Distance(mi)  Side  ZipCode  IsAnomaly  Duration  \n",
       "0      -122.91          1.49    -1 98501.00          0        80  \n",
       "1      -122.33          1.49    -1 98104.00          0        12  \n",
       "2      -122.20          2.30    -1 98203.00          0        18  \n",
       "3      -122.19          2.59    -1 98006.00          0        22  \n",
       "4      -122.33          1.64    -1 98101.00          0        12  "
      ]
     },
     "execution_count": 4,
     "metadata": {},
     "output_type": "execute_result"
    }
   ],
   "source": [
    "df.head()"
   ]
  },
  {
   "cell_type": "code",
   "execution_count": 5,
   "metadata": {
    "ExecuteTime": {
     "end_time": "2020-06-06T23:33:46.307372Z",
     "start_time": "2020-06-06T23:33:46.285915Z"
    }
   },
   "outputs": [],
   "source": [
    "df_prune = df.drop(['Type', 'TMC', 'Distance(mi)', 'EndTime(UTC)', 'Side', 'IsAnomaly', 'ZipCode'], axis = 1)"
   ]
  },
  {
   "cell_type": "code",
   "execution_count": 6,
   "metadata": {
    "ExecuteTime": {
     "end_time": "2020-06-06T23:33:46.347362Z",
     "start_time": "2020-06-06T23:33:46.308347Z"
    }
   },
   "outputs": [
    {
     "name": "stdout",
     "output_type": "stream",
     "text": [
      "<class 'pandas.core.frame.DataFrame'>\n",
      "RangeIndex: 558781 entries, 0 to 558780\n",
      "Data columns (total 5 columns):\n",
      " #   Column          Non-Null Count   Dtype  \n",
      "---  ------          --------------   -----  \n",
      " 0   Severity        558781 non-null  int64  \n",
      " 1   StartTime(UTC)  558781 non-null  object \n",
      " 2   LocationLat     558781 non-null  float64\n",
      " 3   LocationLng     558781 non-null  float64\n",
      " 4   Duration        558781 non-null  int64  \n",
      "dtypes: float64(2), int64(2), object(1)\n",
      "memory usage: 21.3+ MB\n"
     ]
    }
   ],
   "source": [
    "df_prune.info()"
   ]
  },
  {
   "cell_type": "code",
   "execution_count": 7,
   "metadata": {
    "ExecuteTime": {
     "end_time": "2020-06-06T23:33:46.354189Z",
     "start_time": "2020-06-06T23:33:46.348337Z"
    }
   },
   "outputs": [],
   "source": [
    "def Mon(x):\n",
    "    return x.split(\" \")[0].split('-')[1]\n",
    "def Day(x):\n",
    "    return x.split(\" \")[0].split('-')[2]\n",
    "def Hour(x):\n",
    "    return x.split(\" \")[1].split(':')[0]\n",
    "def Minute(x):\n",
    "    return x.split(\" \")[1].split(':')[1]"
   ]
  },
  {
   "cell_type": "code",
   "execution_count": 8,
   "metadata": {
    "ExecuteTime": {
     "end_time": "2020-06-06T23:33:47.949410Z",
     "start_time": "2020-06-06T23:33:46.357116Z"
    }
   },
   "outputs": [],
   "source": [
    "df_prune['StartMonth'] = df_prune['StartTime(UTC)'].apply(lambda x: Mon(x)).astype(int)\n",
    "df_prune['StartDay'] = df_prune['StartTime(UTC)'].apply(lambda x: Day(x)).astype(int)\n",
    "df_prune['StartHour'] = df_prune['StartTime(UTC)'].apply(lambda x: Hour(x)).astype(int)\n",
    "df_prune['StartMinute'] = df_prune['StartTime(UTC)'].apply(lambda x: Minute(x)).astype(int)"
   ]
  },
  {
   "cell_type": "code",
   "execution_count": 10,
   "metadata": {},
   "outputs": [],
   "source": [
    "df_prune.drop('StartTime(UTC)', inplace=True, axis = 1)"
   ]
  },
  {
   "cell_type": "code",
   "execution_count": 11,
   "metadata": {},
   "outputs": [
    {
     "data": {
      "text/plain": [
       "0"
      ]
     },
     "execution_count": 11,
     "metadata": {},
     "output_type": "execute_result"
    }
   ],
   "source": [
    "df_prune.isnull().sum().sum()"
   ]
  },
  {
   "cell_type": "code",
   "execution_count": 12,
   "metadata": {},
   "outputs": [
    {
     "data": {
      "text/plain": [
       "558781"
      ]
     },
     "execution_count": 12,
     "metadata": {},
     "output_type": "execute_result"
    }
   ],
   "source": [
    "len(df_prune)"
   ]
  },
  {
   "cell_type": "code",
   "execution_count": 13,
   "metadata": {},
   "outputs": [],
   "source": [
    "df_prune.dropna(inplace=True)"
   ]
  },
  {
   "cell_type": "code",
   "execution_count": 14,
   "metadata": {
    "scrolled": true
   },
   "outputs": [
    {
     "data": {
      "text/html": [
       "<div>\n",
       "<style scoped>\n",
       "    .dataframe tbody tr th:only-of-type {\n",
       "        vertical-align: middle;\n",
       "    }\n",
       "\n",
       "    .dataframe tbody tr th {\n",
       "        vertical-align: top;\n",
       "    }\n",
       "\n",
       "    .dataframe thead th {\n",
       "        text-align: right;\n",
       "    }\n",
       "</style>\n",
       "<table border=\"1\" class=\"dataframe\">\n",
       "  <thead>\n",
       "    <tr style=\"text-align: right;\">\n",
       "      <th></th>\n",
       "      <th>Severity</th>\n",
       "      <th>LocationLat</th>\n",
       "      <th>LocationLng</th>\n",
       "      <th>Duration</th>\n",
       "      <th>StartMonth</th>\n",
       "      <th>StartDay</th>\n",
       "      <th>StartHour</th>\n",
       "      <th>StartMinute</th>\n",
       "    </tr>\n",
       "  </thead>\n",
       "  <tbody>\n",
       "    <tr>\n",
       "      <th>0</th>\n",
       "      <td>1</td>\n",
       "      <td>47.01</td>\n",
       "      <td>-122.91</td>\n",
       "      <td>80</td>\n",
       "      <td>11</td>\n",
       "      <td>30</td>\n",
       "      <td>23</td>\n",
       "      <td>35</td>\n",
       "    </tr>\n",
       "    <tr>\n",
       "      <th>1</th>\n",
       "      <td>2</td>\n",
       "      <td>47.61</td>\n",
       "      <td>-122.33</td>\n",
       "      <td>12</td>\n",
       "      <td>12</td>\n",
       "      <td>1</td>\n",
       "      <td>0</td>\n",
       "      <td>52</td>\n",
       "    </tr>\n",
       "    <tr>\n",
       "      <th>2</th>\n",
       "      <td>1</td>\n",
       "      <td>47.96</td>\n",
       "      <td>-122.20</td>\n",
       "      <td>18</td>\n",
       "      <td>12</td>\n",
       "      <td>1</td>\n",
       "      <td>1</td>\n",
       "      <td>8</td>\n",
       "    </tr>\n",
       "    <tr>\n",
       "      <th>3</th>\n",
       "      <td>1</td>\n",
       "      <td>47.56</td>\n",
       "      <td>-122.19</td>\n",
       "      <td>22</td>\n",
       "      <td>12</td>\n",
       "      <td>1</td>\n",
       "      <td>1</td>\n",
       "      <td>2</td>\n",
       "    </tr>\n",
       "    <tr>\n",
       "      <th>4</th>\n",
       "      <td>1</td>\n",
       "      <td>47.62</td>\n",
       "      <td>-122.33</td>\n",
       "      <td>12</td>\n",
       "      <td>12</td>\n",
       "      <td>1</td>\n",
       "      <td>1</td>\n",
       "      <td>19</td>\n",
       "    </tr>\n",
       "  </tbody>\n",
       "</table>\n",
       "</div>"
      ],
      "text/plain": [
       "   Severity  LocationLat  LocationLng  Duration  StartMonth  StartDay  \\\n",
       "0         1        47.01      -122.91        80          11        30   \n",
       "1         2        47.61      -122.33        12          12         1   \n",
       "2         1        47.96      -122.20        18          12         1   \n",
       "3         1        47.56      -122.19        22          12         1   \n",
       "4         1        47.62      -122.33        12          12         1   \n",
       "\n",
       "   StartHour  StartMinute  \n",
       "0         23           35  \n",
       "1          0           52  \n",
       "2          1            8  \n",
       "3          1            2  \n",
       "4          1           19  "
      ]
     },
     "execution_count": 14,
     "metadata": {},
     "output_type": "execute_result"
    }
   ],
   "source": [
    "df_prune.head()"
   ]
  },
  {
   "cell_type": "code",
   "execution_count": 79,
   "metadata": {},
   "outputs": [],
   "source": [
    "def RSquare(df, col):\n",
    "    X, y = df.drop(col,axis=1), df[col]\n",
    "\n",
    "    X, X_test, y, y_test = train_test_split(X, y, test_size=.2, random_state=10) #hold out 20% of the data for final testing\n",
    "\n",
    "    #this helps with the way kf will generate indices below\n",
    "    X, y = np.array(X), np.array(y)\n",
    "    \n",
    "    kf = KFold(n_splits=5, shuffle=True, random_state = 50)\n",
    "    cv_lm_r2s, cv_lm_reg_r2s, cv_lm_poly_r2s, cv_lasso_r2s = [], [], [], [] #collect the validation results for both models\n",
    "\n",
    "    for train_ind, val_ind in kf.split(X,y):\n",
    "\n",
    "        X_train, y_train = X[train_ind], y[train_ind]\n",
    "        X_val, y_val = X[val_ind], y[val_ind] \n",
    "\n",
    "        #simple linear regression\n",
    "        lm = LinearRegression()\n",
    "        lm_reg = Ridge(alpha=1)\n",
    "        lm_poly = LinearRegression()\n",
    "\n",
    "        lm.fit(X_train, y_train)\n",
    "        cv_lm_r2s.append(lm.score(X_val, y_val))\n",
    "#         cv_lm_r2s.append(lm.score(X_tra, y_tra))\n",
    "\n",
    "        #ridge with feature scaling\n",
    "        scaler = StandardScaler()\n",
    "        X_train_scaled = scaler.fit_transform(X_train)\n",
    "        X_val_scaled = scaler.transform(X_val)\n",
    "        lm_reg.fit(X_train_scaled, y_train)\n",
    "        cv_lm_reg_r2s.append(lm_reg.score(X_val_scaled, y_val))\n",
    "\n",
    "        poly = PolynomialFeatures(degree=2) \n",
    "        X_train_poly = poly.fit_transform(X_train)\n",
    "        X_val_poly = poly.fit_transform(X_val)\n",
    "        lm_poly.fit(X_train_poly, y_train)\n",
    "        cv_lm_poly_r2s.append(lm_poly.score(X_val_poly, y_val))\n",
    "        \n",
    "        #Lasso\n",
    "        std = StandardScaler()\n",
    "        std.fit(X_train)\n",
    "        \n",
    "        X_tr = std.transform(X_train)\n",
    "        X_te = std.transform(X_test)\n",
    "        \n",
    "        X_val_lasso = std.transform(X_val)\n",
    "        \n",
    "        alphavec = 10**np.linspace(-10,10,1000)\n",
    "\n",
    "        lasso_model = LassoCV(alphas = alphavec, cv=5)\n",
    "        lasso_model.fit(X_tr, y_train)\n",
    "        cv_lasso_r2s.append(lasso_model.score(X_val_lasso, y_val))\n",
    "        \n",
    "        test_set_pred = lasso_model.predict(X_te)\n",
    "        \n",
    "        column = df.drop(col,axis=1)\n",
    "        to_print = list(zip(column.columns, lasso_model.coef_))\n",
    "        pp = pprint.PrettyPrinter(indent = 1)\n",
    "    \n",
    "        rms = sqrt(mean_squared_error(y_test, test_set_pred))\n",
    "        \n",
    "    print('Simple regression scores: ', cv_lm_r2s, '\\n')\n",
    "    print('Ridge scores: ', cv_lm_reg_r2s, '\\n')\n",
    "    print('Poly scores: ', cv_lm_poly_r2s, '\\n')\n",
    "    print('Lasso scores: ', cv_lasso_r2s, '\\n')\n",
    "\n",
    "    print(f'Simple mean cv r^2: {np.mean(cv_lm_r2s):.3f} +- {np.std(cv_lm_r2s):.3f}')\n",
    "    print(f'Ridge mean cv r^2: {np.mean(cv_lm_reg_r2s):.3f} +- {np.std(cv_lm_reg_r2s):.3f}')\n",
    "    print(f'Poly mean cv r^2: {np.mean(cv_lm_poly_r2s):.3f} +- {np.std(cv_lm_poly_r2s):.3f}', '\\n')\n",
    "    \n",
    "    print('lasso_model.alpha_:', lasso_model.alpha_)\n",
    "    print(f'Lasso cv r^2: {r2_score(y_test, test_set_pred):.3f} +- {np.std(cv_lasso_r2s):.3f}', '\\n')\n",
    "    \n",
    "    print(f'MAE: {mae(y_test, test_set_pred)}', '\\n')\n",
    "    print('RMSE:', rms, '\\n')\n",
    "    mse = mean_squared_error(y_test, test_set_pred)\n",
    "    print('MSE:', mse, '\\n')\n",
    "    \n",
    "    print('Lasso Coef:')\n",
    "    pp.pprint (to_print)"
   ]
  },
  {
   "cell_type": "code",
   "execution_count": 80,
   "metadata": {},
   "outputs": [],
   "source": [
    "# 'Mean absolute error'\n",
    "def mae(y_true, y_pred):\n",
    "    return np.mean(np.abs(y_pred - y_true)) "
   ]
  },
  {
   "cell_type": "code",
   "execution_count": 81,
   "metadata": {},
   "outputs": [
    {
     "name": "stdout",
     "output_type": "stream",
     "text": [
      "Simple regression scores:  [0.011881216794002003, 0.004016228473652683, 0.004540670989232609, 0.004073900792589735, 0.0037630548765654743] \n",
      "\n",
      "Ridge scores:  [0.011881215191225536, 0.004016227830644703, 0.004540670337045083, 0.004073901386682954, 0.0037630564024189184] \n",
      "\n",
      "Poly scores:  [0.015686675319934063, 0.0059662711641566, 0.0065521151489673635, 0.005829463405861657, 0.005238228678359769] \n",
      "\n",
      "Lasso scores:  [0.011881151099229825, 0.004016228473637806, 0.004540658962475241, 0.0040739112961623025, 0.0037630548766027783] \n",
      "\n",
      "Simple mean cv r^2: 0.006 +- 0.003\n",
      "Ridge mean cv r^2: 0.006 +- 0.003\n",
      "Poly mean cv r^2: 0.008 +- 0.004 \n",
      "\n",
      "lasso_model.alpha_: 3.4716868189265595e-10\n",
      "Lasso cv r^2: 0.012 +- 0.003 \n",
      "\n",
      "MAE: 22.717330375012974 \n",
      "\n",
      "RMSE: 78.04654722431233 \n",
      "\n",
      "Lasso Coef:\n",
      "[('Severity', 3.5229681599873177),\n",
      " ('LocationLat', -0.5285480617093276),\n",
      " ('LocationLng', -3.349335807896384),\n",
      " ('StartMonth', 2.6614630826944343),\n",
      " ('StartDay', 0.5567129958486456),\n",
      " ('StartHour', 6.542225141820619),\n",
      " ('StartMinute', -0.20335069778952833)]\n"
     ]
    }
   ],
   "source": [
    "RSquare(df_prune, 'Duration')"
   ]
  },
  {
   "cell_type": "markdown",
   "metadata": {},
   "source": [
    "## Split dataset"
   ]
  },
  {
   "cell_type": "code",
   "execution_count": 50,
   "metadata": {},
   "outputs": [],
   "source": [
    "X, y = df_prune.drop('Duration',axis=1), df_prune['Duration']\n",
    "# X_train, X_test, y_train, y_test = train_test_split(\n",
    "#     X, y, test_size=0.1, random_state=13)"
   ]
  },
  {
   "cell_type": "code",
   "execution_count": 51,
   "metadata": {},
   "outputs": [],
   "source": [
    "# X_train, X_validate, X_test = np.split(X.sample(frac=1), [int(.6*len(df)), int(.8*len(df))])\n",
    "# y_train, y_validate, y_test = np.split(y.sample(frac=1), [int(.6*len(df)), int(.8*len(df))])"
   ]
  },
  {
   "cell_type": "code",
   "execution_count": 52,
   "metadata": {},
   "outputs": [],
   "source": [
    "def train_validate_test_split(df, train_percent=.6, validate_percent=.2, seed=None):\n",
    "    np.random.seed(seed)\n",
    "    perm = np.random.permutation(df.index)\n",
    "    m = len(df.index)\n",
    "    train_end = int(train_percent * m)\n",
    "    validate_end = int(validate_percent * m) + train_end\n",
    "    train = df.iloc[perm[:train_end]]\n",
    "    validate = df.iloc[perm[train_end:validate_end]]\n",
    "    test = df.iloc[perm[validate_end:]]\n",
    "    return train, validate, test"
   ]
  },
  {
   "cell_type": "code",
   "execution_count": 53,
   "metadata": {},
   "outputs": [],
   "source": [
    "train, validate, test = train_validate_test_split(df_prune)\n",
    "X_train, y_train = train.drop('Duration',axis=1), train['Duration']\n",
    "X_validate, y_validate = validate.drop('Duration',axis=1), validate['Duration']\n",
    "X_test, y_test = test.drop('Duration',axis=1), test['Duration']"
   ]
  },
  {
   "cell_type": "markdown",
   "metadata": {},
   "source": [
    "## Gradient Boosting"
   ]
  },
  {
   "cell_type": "code",
   "execution_count": 40,
   "metadata": {},
   "outputs": [],
   "source": [
    "params = {'n_estimators': 1000,\n",
    "          'max_depth': 5,\n",
    "          'min_samples_split': 10,\n",
    "          'learning_rate': 0.01,\n",
    "          'loss': 'ls'}"
   ]
  },
  {
   "cell_type": "code",
   "execution_count": 41,
   "metadata": {},
   "outputs": [
    {
     "name": "stdout",
     "output_type": "stream",
     "text": [
      "The mean squared error (MSE) on test set: 7233.9365\n",
      "The R^2 on test set: 0.3987\n"
     ]
    }
   ],
   "source": [
    "reg = ensemble.GradientBoostingRegressor(**params)\n",
    "reg.fit(X_train, y_train)\n",
    "\n",
    "mse = mean_squared_error(y_validate, reg.predict(X_validate))\n",
    "r2 = r2_score(y_validate, reg.predict(X_validate))\n",
    "print(\"The mean squared error (MSE) on test set: {:.4f}\".format(mse))\n",
    "print(\"The R^2 on test set: {:.4f}\".format(r2))"
   ]
  },
  {
   "cell_type": "code",
   "execution_count": 42,
   "metadata": {},
   "outputs": [
    {
     "data": {
      "image/png": "[encoded data removed]",
      "text/plain": [
       "<Figure size 432x432 with 1 Axes>"
      ]
     },
     "metadata": {
      "needs_background": "light"
     },
     "output_type": "display_data"
    }
   ],
   "source": [
    "test_score = np.zeros((params['n_estimators'],), dtype=np.float64)\n",
    "for i, y_pred in enumerate(reg.staged_predict(X_validate)):\n",
    "    test_score[i] = reg.loss_(y_validate, y_pred)\n",
    "\n",
    "fig = plt.figure(figsize=(6, 6))\n",
    "plt.subplot(1, 1, 1)\n",
    "plt.title('Deviance')\n",
    "plt.plot(np.arange(params['n_estimators']) + 1, reg.train_score_, 'b-',\n",
    "         label='Training Set Deviance')\n",
    "plt.plot(np.arange(params['n_estimators']) + 1, test_score, 'r-',\n",
    "         label='Validation Set Deviance')\n",
    "plt.legend(loc='upper right')\n",
    "plt.xlabel('Boosting Iterations')\n",
    "plt.ylabel('Deviance')\n",
    "fig.tight_layout()\n",
    "plt.show()"
   ]
  },
  {
   "cell_type": "code",
   "execution_count": 54,
   "metadata": {},
   "outputs": [],
   "source": [
    "from sklearn.experimental import enable_hist_gradient_boosting  # noqa\n",
    "from sklearn.ensemble import HistGradientBoostingRegressor"
   ]
  },
  {
   "cell_type": "code",
   "execution_count": null,
   "metadata": {},
   "outputs": [],
   "source": []
  },
  {
   "cell_type": "code",
   "execution_count": 55,
   "metadata": {},
   "outputs": [
    {
     "data": {
      "text/plain": [
       "0.11650155397946815"
      ]
     },
     "execution_count": 55,
     "metadata": {},
     "output_type": "execute_result"
    }
   ],
   "source": [
    "est = HistGradientBoostingRegressor().fit(X_train, y_train)\n",
    "est.score(X_validate, y_validate)"
   ]
  },
  {
   "cell_type": "code",
   "execution_count": 45,
   "metadata": {},
   "outputs": [
    {
     "data": {
      "text/html": [
       "<div>\n",
       "<style scoped>\n",
       "    .dataframe tbody tr th:only-of-type {\n",
       "        vertical-align: middle;\n",
       "    }\n",
       "\n",
       "    .dataframe tbody tr th {\n",
       "        vertical-align: top;\n",
       "    }\n",
       "\n",
       "    .dataframe thead th {\n",
       "        text-align: right;\n",
       "    }\n",
       "</style>\n",
       "<table border=\"1\" class=\"dataframe\">\n",
       "  <thead>\n",
       "    <tr style=\"text-align: right;\">\n",
       "      <th></th>\n",
       "      <th>Severity</th>\n",
       "      <th>LocationLat</th>\n",
       "      <th>LocationLng</th>\n",
       "      <th>StartMonth</th>\n",
       "      <th>StartDay</th>\n",
       "      <th>StartHour</th>\n",
       "      <th>StartMinute</th>\n",
       "    </tr>\n",
       "  </thead>\n",
       "  <tbody>\n",
       "    <tr>\n",
       "      <th>235631</th>\n",
       "      <td>2</td>\n",
       "      <td>47.16</td>\n",
       "      <td>-122.30</td>\n",
       "      <td>4</td>\n",
       "      <td>5</td>\n",
       "      <td>18</td>\n",
       "      <td>36</td>\n",
       "    </tr>\n",
       "    <tr>\n",
       "      <th>18299</th>\n",
       "      <td>3</td>\n",
       "      <td>47.61</td>\n",
       "      <td>-122.33</td>\n",
       "      <td>1</td>\n",
       "      <td>14</td>\n",
       "      <td>2</td>\n",
       "      <td>17</td>\n",
       "    </tr>\n",
       "    <tr>\n",
       "      <th>64876</th>\n",
       "      <td>1</td>\n",
       "      <td>47.49</td>\n",
       "      <td>-122.19</td>\n",
       "      <td>2</td>\n",
       "      <td>9</td>\n",
       "      <td>1</td>\n",
       "      <td>55</td>\n",
       "    </tr>\n",
       "    <tr>\n",
       "      <th>370076</th>\n",
       "      <td>1</td>\n",
       "      <td>45.67</td>\n",
       "      <td>-122.58</td>\n",
       "      <td>8</td>\n",
       "      <td>26</td>\n",
       "      <td>20</td>\n",
       "      <td>54</td>\n",
       "    </tr>\n",
       "    <tr>\n",
       "      <th>84955</th>\n",
       "      <td>1</td>\n",
       "      <td>47.27</td>\n",
       "      <td>-122.32</td>\n",
       "      <td>4</td>\n",
       "      <td>13</td>\n",
       "      <td>3</td>\n",
       "      <td>4</td>\n",
       "    </tr>\n",
       "    <tr>\n",
       "      <th>...</th>\n",
       "      <td>...</td>\n",
       "      <td>...</td>\n",
       "      <td>...</td>\n",
       "      <td>...</td>\n",
       "      <td>...</td>\n",
       "      <td>...</td>\n",
       "      <td>...</td>\n",
       "    </tr>\n",
       "    <tr>\n",
       "      <th>57719</th>\n",
       "      <td>2</td>\n",
       "      <td>46.93</td>\n",
       "      <td>-122.99</td>\n",
       "      <td>9</td>\n",
       "      <td>8</td>\n",
       "      <td>5</td>\n",
       "      <td>16</td>\n",
       "    </tr>\n",
       "    <tr>\n",
       "      <th>554349</th>\n",
       "      <td>3</td>\n",
       "      <td>46.37</td>\n",
       "      <td>-120.32</td>\n",
       "      <td>8</td>\n",
       "      <td>22</td>\n",
       "      <td>2</td>\n",
       "      <td>8</td>\n",
       "    </tr>\n",
       "    <tr>\n",
       "      <th>243134</th>\n",
       "      <td>3</td>\n",
       "      <td>47.03</td>\n",
       "      <td>-122.89</td>\n",
       "      <td>4</td>\n",
       "      <td>21</td>\n",
       "      <td>22</td>\n",
       "      <td>52</td>\n",
       "    </tr>\n",
       "    <tr>\n",
       "      <th>169610</th>\n",
       "      <td>3</td>\n",
       "      <td>47.30</td>\n",
       "      <td>-122.23</td>\n",
       "      <td>9</td>\n",
       "      <td>16</td>\n",
       "      <td>23</td>\n",
       "      <td>27</td>\n",
       "    </tr>\n",
       "    <tr>\n",
       "      <th>236740</th>\n",
       "      <td>1</td>\n",
       "      <td>46.94</td>\n",
       "      <td>-120.23</td>\n",
       "      <td>4</td>\n",
       "      <td>9</td>\n",
       "      <td>0</td>\n",
       "      <td>42</td>\n",
       "    </tr>\n",
       "  </tbody>\n",
       "</table>\n",
       "<p>111756 rows × 7 columns</p>\n",
       "</div>"
      ],
      "text/plain": [
       "        Severity  LocationLat  LocationLng  StartMonth  StartDay  StartHour  \\\n",
       "235631         2        47.16      -122.30           4         5         18   \n",
       "18299          3        47.61      -122.33           1        14          2   \n",
       "64876          1        47.49      -122.19           2         9          1   \n",
       "370076         1        45.67      -122.58           8        26         20   \n",
       "84955          1        47.27      -122.32           4        13          3   \n",
       "...          ...          ...          ...         ...       ...        ...   \n",
       "57719          2        46.93      -122.99           9         8          5   \n",
       "554349         3        46.37      -120.32           8        22          2   \n",
       "243134         3        47.03      -122.89           4        21         22   \n",
       "169610         3        47.30      -122.23           9        16         23   \n",
       "236740         1        46.94      -120.23           4         9          0   \n",
       "\n",
       "        StartMinute  \n",
       "235631           36  \n",
       "18299            17  \n",
       "64876            55  \n",
       "370076           54  \n",
       "84955             4  \n",
       "...             ...  \n",
       "57719            16  \n",
       "554349            8  \n",
       "243134           52  \n",
       "169610           27  \n",
       "236740           42  \n",
       "\n",
       "[111756 rows x 7 columns]"
      ]
     },
     "execution_count": 45,
     "metadata": {},
     "output_type": "execute_result"
    }
   ],
   "source": [
    "X_validate"
   ]
  },
  {
   "cell_type": "code",
   "execution_count": 46,
   "metadata": {},
   "outputs": [
    {
     "data": {
      "text/plain": [
       "array([51.63584419])"
      ]
     },
     "execution_count": 46,
     "metadata": {},
     "output_type": "execute_result"
    }
   ],
   "source": [
    "est.predict([[3, 47.70, -122.60, 5, 30, 20, 43]])"
   ]
  },
  {
   "cell_type": "code",
   "execution_count": 47,
   "metadata": {},
   "outputs": [
    {
     "name": "stdout",
     "output_type": "stream",
     "text": [
      "The mean squared error (MSE) on test set: 5993.4604\n"
     ]
    }
   ],
   "source": [
    "mse = mean_squared_error(y_validate, est.predict(X_validate))\n",
    "print(\"The mean squared error (MSE) on test set: {:.4f}\".format(mse))"
   ]
  },
  {
   "cell_type": "code",
   "execution_count": 48,
   "metadata": {},
   "outputs": [
    {
     "name": "stdout",
     "output_type": "stream",
     "text": [
      "RMSE: 77.4174421888909 \n",
      "\n"
     ]
    }
   ],
   "source": [
    "rms = sqrt(mse)\n",
    "print('RMSE:', rms, '\\n')"
   ]
  },
  {
   "cell_type": "markdown",
   "metadata": {},
   "source": [
    "## Supervised Deep Neural Networks"
   ]
  },
  {
   "cell_type": "code",
   "execution_count": 113,
   "metadata": {},
   "outputs": [],
   "source": [
    "from sklearn.preprocessing import StandardScaler  # doctest: +SKIP\n",
    "scaler = StandardScaler()  # doctest: +SKIP\n",
    "# Don't cheat - fit only on training data\n",
    "scaler.fit(X_train)  # doctest: +SKIP\n",
    "X_train = scaler.transform(X_train)  # doctest: +SKIP\n",
    "# apply same transformation to test data\n",
    "X_test = scaler.transform(X_test)  # doctest: +SKIP"
   ]
  },
  {
   "cell_type": "code",
   "execution_count": 115,
   "metadata": {},
   "outputs": [],
   "source": [
    "from sklearn.neural_network import MLPRegressor"
   ]
  },
  {
   "cell_type": "code",
   "execution_count": 116,
   "metadata": {},
   "outputs": [
    {
     "name": "stdout",
     "output_type": "stream",
     "text": [
      "Iteration 1, loss = 6834.10477709\n",
      "Validation score: 0.005963\n",
      "Iteration 2, loss = 6626.90556155\n",
      "Validation score: 0.008381\n",
      "Iteration 3, loss = 6616.61288644\n",
      "Validation score: 0.009270\n",
      "Iteration 4, loss = 6610.80275983\n",
      "Validation score: 0.010055\n",
      "Iteration 5, loss = 6606.90301941\n",
      "Validation score: 0.010191\n",
      "Iteration 6, loss = 6603.57041181\n",
      "Validation score: 0.011024\n",
      "Iteration 7, loss = 6600.66164238\n",
      "Validation score: 0.011243\n",
      "Iteration 8, loss = 6597.99350315\n",
      "Validation score: 0.011808\n",
      "Iteration 9, loss = 6596.22365669\n",
      "Validation score: 0.011959\n",
      "Iteration 10, loss = 6594.23899922\n",
      "Validation score: 0.012104\n",
      "Iteration 11, loss = 6593.31462819\n",
      "Validation score: 0.012403\n",
      "Iteration 12, loss = 6591.96962101\n",
      "Validation score: 0.012507\n",
      "Iteration 13, loss = 6590.60762138\n",
      "Validation score: 0.012700\n",
      "Iteration 14, loss = 6589.56225751\n",
      "Validation score: 0.013007\n",
      "Iteration 15, loss = 6588.51495103\n",
      "Validation score: 0.012997\n",
      "Iteration 16, loss = 6587.67083599\n",
      "Validation score: 0.013257\n",
      "Iteration 17, loss = 6586.53919603\n",
      "Validation score: 0.013424\n",
      "Iteration 18, loss = 6585.49304628\n",
      "Validation score: 0.013418\n",
      "Iteration 19, loss = 6584.59913449\n",
      "Validation score: 0.013818\n",
      "Iteration 20, loss = 6583.64890935\n",
      "Validation score: 0.014047\n",
      "Iteration 21, loss = 6582.73494269\n",
      "Validation score: 0.014084\n",
      "Iteration 22, loss = 6581.81271546\n",
      "Validation score: 0.014155\n",
      "Iteration 23, loss = 6581.00305169\n",
      "Validation score: 0.014100\n",
      "Iteration 24, loss = 6580.06900925\n",
      "Validation score: 0.014615\n",
      "Iteration 25, loss = 6579.06822394\n",
      "Validation score: 0.014628\n",
      "Iteration 26, loss = 6578.63024581\n",
      "Validation score: 0.014606\n",
      "Iteration 27, loss = 6577.97435727\n",
      "Validation score: 0.014948\n",
      "Iteration 28, loss = 6577.39223360\n",
      "Validation score: 0.014887\n",
      "Iteration 29, loss = 6576.65780880\n",
      "Validation score: 0.015303\n",
      "Iteration 30, loss = 6576.12319060\n",
      "Validation score: 0.015244\n",
      "Iteration 31, loss = 6575.33099195\n",
      "Validation score: 0.014968\n",
      "Iteration 32, loss = 6574.51307280\n",
      "Validation score: 0.015208\n",
      "Iteration 33, loss = 6574.48489233\n",
      "Validation score: 0.015626\n",
      "Iteration 34, loss = 6573.65277650\n",
      "Validation score: 0.015557\n",
      "Iteration 35, loss = 6572.86687370\n",
      "Validation score: 0.015740\n",
      "Iteration 36, loss = 6572.62401276\n",
      "Validation score: 0.015797\n",
      "Iteration 37, loss = 6572.20820610\n",
      "Validation score: 0.015086\n",
      "Iteration 38, loss = 6571.57054391\n",
      "Validation score: 0.015810\n",
      "Iteration 39, loss = 6571.15845296\n",
      "Validation score: 0.016034\n",
      "Iteration 40, loss = 6571.00072233\n",
      "Validation score: 0.015351\n",
      "Iteration 41, loss = 6570.40997082\n",
      "Validation score: 0.016195\n",
      "Iteration 42, loss = 6570.22328222\n",
      "Validation score: 0.016052\n",
      "Iteration 43, loss = 6569.64497683\n",
      "Validation score: 0.016109\n",
      "Iteration 44, loss = 6569.11542342\n",
      "Validation score: 0.016491\n",
      "Iteration 45, loss = 6568.90911946\n",
      "Validation score: 0.016492\n",
      "Iteration 46, loss = 6568.35745514\n",
      "Validation score: 0.016248\n",
      "Iteration 47, loss = 6567.95270384\n",
      "Validation score: 0.016659\n",
      "Iteration 48, loss = 6567.60004488\n",
      "Validation score: 0.016421\n",
      "Iteration 49, loss = 6567.59880215\n",
      "Validation score: 0.016861\n",
      "Iteration 50, loss = 6567.02155858\n",
      "Validation score: 0.016625\n",
      "Iteration 51, loss = 6566.72981878\n",
      "Validation score: 0.017009\n",
      "Iteration 52, loss = 6566.42403325\n",
      "Validation score: 0.017102\n",
      "Iteration 53, loss = 6565.95298431\n",
      "Validation score: 0.016669\n",
      "Iteration 54, loss = 6565.31955914\n",
      "Validation score: 0.017221\n",
      "Iteration 55, loss = 6565.24409007\n",
      "Validation score: 0.017071\n",
      "Iteration 56, loss = 6564.42758632\n",
      "Validation score: 0.017356\n",
      "Iteration 57, loss = 6564.20350060\n",
      "Validation score: 0.017360\n",
      "Iteration 58, loss = 6564.08863750\n",
      "Validation score: 0.017070\n",
      "Iteration 59, loss = 6563.87797071\n",
      "Validation score: 0.017542\n",
      "Iteration 60, loss = 6563.25455860\n",
      "Validation score: 0.017519\n",
      "Iteration 61, loss = 6563.01233682\n",
      "Validation score: 0.017786\n",
      "Iteration 62, loss = 6562.28464550\n",
      "Validation score: 0.017735\n",
      "Iteration 63, loss = 6562.45780484\n",
      "Validation score: 0.017794\n",
      "Iteration 64, loss = 6561.65358020\n",
      "Validation score: 0.017696\n",
      "Iteration 65, loss = 6561.31218805\n",
      "Validation score: 0.018050\n",
      "Iteration 66, loss = 6560.84482531\n",
      "Validation score: 0.017793\n",
      "Iteration 67, loss = 6560.83841796\n",
      "Validation score: 0.017983\n",
      "Iteration 68, loss = 6560.77319783\n",
      "Validation score: 0.017790\n",
      "Iteration 69, loss = 6559.75175210\n",
      "Validation score: 0.018146\n",
      "Iteration 70, loss = 6559.98739332\n",
      "Validation score: 0.018182\n",
      "Iteration 71, loss = 6559.39591783\n",
      "Validation score: 0.018306\n",
      "Iteration 72, loss = 6559.25338940\n",
      "Validation score: 0.018214\n",
      "Iteration 73, loss = 6558.79364317\n",
      "Validation score: 0.018584\n",
      "Iteration 74, loss = 6557.99880589\n",
      "Validation score: 0.018473\n",
      "Iteration 75, loss = 6558.05460470\n",
      "Validation score: 0.018657\n",
      "Iteration 76, loss = 6557.57725153\n",
      "Validation score: 0.018589\n",
      "Iteration 77, loss = 6556.88479558\n",
      "Validation score: 0.018707\n",
      "Iteration 78, loss = 6556.94105260\n",
      "Validation score: 0.018733\n",
      "Iteration 79, loss = 6556.37342633\n",
      "Validation score: 0.018954\n",
      "Iteration 80, loss = 6556.16108245\n",
      "Validation score: 0.018854\n",
      "Iteration 81, loss = 6555.47648125\n",
      "Validation score: 0.019103\n",
      "Iteration 82, loss = 6555.26159356\n",
      "Validation score: 0.019142\n",
      "Iteration 83, loss = 6554.80742674\n",
      "Validation score: 0.019030\n",
      "Iteration 84, loss = 6553.97720676\n",
      "Validation score: 0.019446\n",
      "Iteration 85, loss = 6553.38990254\n",
      "Validation score: 0.019307\n",
      "Iteration 86, loss = 6552.77344504\n",
      "Validation score: 0.019450\n",
      "Iteration 87, loss = 6552.52871185\n",
      "Validation score: 0.019426\n",
      "Iteration 88, loss = 6552.10010635\n",
      "Validation score: 0.019785\n",
      "Iteration 89, loss = 6551.27845459\n",
      "Validation score: 0.019752\n",
      "Iteration 90, loss = 6551.07378735\n",
      "Validation score: 0.019936\n",
      "Iteration 91, loss = 6550.56722089\n",
      "Validation score: 0.020056\n",
      "Iteration 92, loss = 6550.30387747\n",
      "Validation score: 0.020095\n",
      "Iteration 93, loss = 6549.85730453\n",
      "Validation score: 0.019261\n",
      "Iteration 94, loss = 6549.28322662\n",
      "Validation score: 0.020114\n",
      "Iteration 95, loss = 6549.23946232\n",
      "Validation score: 0.020219\n",
      "Iteration 96, loss = 6548.26788347\n",
      "Validation score: 0.020406\n",
      "Iteration 97, loss = 6547.95288909\n",
      "Validation score: 0.020467\n",
      "Iteration 98, loss = 6547.72878617\n",
      "Validation score: 0.020567\n",
      "Iteration 99, loss = 6547.00811753\n",
      "Validation score: 0.020716\n",
      "Iteration 100, loss = 6547.13887784\n",
      "Validation score: 0.020748\n",
      "Iteration 101, loss = 6546.58218737\n",
      "Validation score: 0.020856\n",
      "Iteration 102, loss = 6545.79350048\n",
      "Validation score: 0.020283\n",
      "Iteration 103, loss = 6545.83523220\n",
      "Validation score: 0.021092\n",
      "Iteration 104, loss = 6544.88931206\n",
      "Validation score: 0.021159\n",
      "Iteration 105, loss = 6544.99906189\n",
      "Validation score: 0.021090\n",
      "Iteration 106, loss = 6544.34394713\n",
      "Validation score: 0.021412\n",
      "Iteration 107, loss = 6543.99150584\n",
      "Validation score: 0.021265\n",
      "Iteration 108, loss = 6543.52233258\n",
      "Validation score: 0.021628\n",
      "Iteration 109, loss = 6543.38088623\n",
      "Validation score: 0.021010\n",
      "Iteration 110, loss = 6542.82782310\n",
      "Validation score: 0.021631\n",
      "Iteration 111, loss = 6542.66012479\n",
      "Validation score: 0.021661\n",
      "Iteration 112, loss = 6541.75692624\n",
      "Validation score: 0.021795\n",
      "Iteration 113, loss = 6541.80152432\n",
      "Validation score: 0.021852\n",
      "Iteration 114, loss = 6540.99089790\n",
      "Validation score: 0.022102\n",
      "Iteration 115, loss = 6540.65034518\n",
      "Validation score: 0.022138\n",
      "Iteration 116, loss = 6539.89673336\n",
      "Validation score: 0.021206\n",
      "Iteration 117, loss = 6540.19063127\n",
      "Validation score: 0.022370\n",
      "Iteration 118, loss = 6539.50210232\n",
      "Validation score: 0.022341\n",
      "Iteration 119, loss = 6538.76178790\n",
      "Validation score: 0.022032\n",
      "Iteration 120, loss = 6539.01408357\n",
      "Validation score: 0.022498\n",
      "Iteration 121, loss = 6538.11953934\n",
      "Validation score: 0.022635\n",
      "Iteration 122, loss = 6538.16927944\n",
      "Validation score: 0.022716\n",
      "Iteration 123, loss = 6537.43703102\n",
      "Validation score: 0.022511\n",
      "Iteration 124, loss = 6537.11511584\n",
      "Validation score: 0.022112\n",
      "Iteration 125, loss = 6536.73890904\n",
      "Validation score: 0.022888\n",
      "Iteration 126, loss = 6536.46992812\n",
      "Validation score: 0.021311\n",
      "Iteration 127, loss = 6535.57293093\n",
      "Validation score: 0.023191\n",
      "Iteration 128, loss = 6535.01126688\n",
      "Validation score: 0.023032\n",
      "Iteration 129, loss = 6534.52805511\n",
      "Validation score: 0.023185\n",
      "Iteration 130, loss = 6534.03503266\n",
      "Validation score: 0.023284\n",
      "Iteration 131, loss = 6533.59573118\n",
      "Validation score: 0.023501\n",
      "Iteration 132, loss = 6532.92550730\n",
      "Validation score: 0.023570\n"
     ]
    },
    {
     "name": "stdout",
     "output_type": "stream",
     "text": [
      "Iteration 133, loss = 6532.21152257\n",
      "Validation score: 0.023859\n",
      "Iteration 134, loss = 6532.31558227\n",
      "Validation score: 0.023731\n",
      "Iteration 135, loss = 6531.81312927\n",
      "Validation score: 0.023320\n",
      "Iteration 136, loss = 6531.05576716\n",
      "Validation score: 0.022048\n",
      "Iteration 137, loss = 6530.85785226\n",
      "Validation score: 0.023859\n",
      "Iteration 138, loss = 6530.73459016\n",
      "Validation score: 0.023797\n",
      "Iteration 139, loss = 6530.33479239\n",
      "Validation score: 0.023075\n",
      "Iteration 140, loss = 6530.11530241\n",
      "Validation score: 0.024255\n",
      "Iteration 141, loss = 6529.29923162\n",
      "Validation score: 0.024420\n",
      "Iteration 142, loss = 6529.00717628\n",
      "Validation score: 0.024353\n",
      "Iteration 143, loss = 6528.23330953\n",
      "Validation score: 0.024484\n",
      "Iteration 144, loss = 6528.41253503\n",
      "Validation score: 0.024602\n",
      "Iteration 145, loss = 6527.94806809\n",
      "Validation score: 0.024701\n",
      "Iteration 146, loss = 6527.31620783\n",
      "Validation score: 0.024826\n",
      "Iteration 147, loss = 6527.06872040\n",
      "Validation score: 0.024947\n",
      "Iteration 148, loss = 6526.66903207\n",
      "Validation score: 0.024931\n",
      "Iteration 149, loss = 6526.09080994\n",
      "Validation score: 0.024906\n",
      "Iteration 150, loss = 6526.19358629\n",
      "Validation score: 0.024811\n",
      "Iteration 151, loss = 6525.73518220\n",
      "Validation score: 0.025278\n",
      "Iteration 152, loss = 6524.73535054\n",
      "Validation score: 0.025152\n",
      "Iteration 153, loss = 6525.12881315\n",
      "Validation score: 0.024902\n",
      "Iteration 154, loss = 6524.51875532\n",
      "Validation score: 0.025516\n",
      "Iteration 155, loss = 6524.11467640\n",
      "Validation score: 0.025479\n",
      "Iteration 156, loss = 6523.21694308\n",
      "Validation score: 0.025624\n",
      "Iteration 157, loss = 6523.24390123\n",
      "Validation score: 0.025813\n",
      "Iteration 158, loss = 6522.83994999\n",
      "Validation score: 0.025849\n",
      "Iteration 159, loss = 6522.56304765\n",
      "Validation score: 0.025699\n",
      "Iteration 160, loss = 6521.84834914\n",
      "Validation score: 0.025683\n",
      "Iteration 161, loss = 6522.10057399\n",
      "Validation score: 0.025958\n",
      "Iteration 162, loss = 6521.29044596\n",
      "Validation score: 0.025694\n",
      "Iteration 163, loss = 6520.81708341\n",
      "Validation score: 0.026098\n",
      "Iteration 164, loss = 6520.73565021\n",
      "Validation score: 0.026210\n",
      "Iteration 165, loss = 6520.68234177\n",
      "Validation score: 0.026298\n",
      "Iteration 166, loss = 6519.98924600\n",
      "Validation score: 0.026283\n",
      "Iteration 167, loss = 6519.54498403\n",
      "Validation score: 0.026255\n",
      "Iteration 168, loss = 6518.88776740\n",
      "Validation score: 0.026557\n",
      "Iteration 169, loss = 6519.13586100\n",
      "Validation score: 0.026269\n",
      "Iteration 170, loss = 6518.41408323\n",
      "Validation score: 0.026510\n",
      "Iteration 171, loss = 6518.21534976\n",
      "Validation score: 0.026814\n",
      "Iteration 172, loss = 6517.52271442\n",
      "Validation score: 0.026392\n",
      "Iteration 173, loss = 6517.80095344\n",
      "Validation score: 0.026784\n",
      "Iteration 174, loss = 6516.72463835\n",
      "Validation score: 0.026961\n",
      "Iteration 175, loss = 6516.70121744\n",
      "Validation score: 0.027101\n",
      "Iteration 176, loss = 6516.42711799\n",
      "Validation score: 0.027048\n",
      "Iteration 177, loss = 6515.71241945\n",
      "Validation score: 0.026911\n",
      "Iteration 178, loss = 6515.68529594\n",
      "Validation score: 0.027079\n",
      "Iteration 179, loss = 6515.04670359\n",
      "Validation score: 0.027262\n",
      "Iteration 180, loss = 6514.29161072\n",
      "Validation score: 0.027176\n",
      "Iteration 181, loss = 6514.67648467\n",
      "Validation score: 0.026789\n",
      "Iteration 182, loss = 6513.98292335\n",
      "Validation score: 0.025907\n",
      "Iteration 183, loss = 6513.28409327\n",
      "Validation score: 0.027542\n",
      "Iteration 184, loss = 6513.34256785\n",
      "Validation score: 0.027772\n",
      "Iteration 185, loss = 6511.69727275\n",
      "Validation score: 0.027569\n",
      "Iteration 186, loss = 6512.73227040\n",
      "Validation score: 0.027807\n",
      "Iteration 187, loss = 6512.09460820\n",
      "Validation score: 0.027959\n",
      "Iteration 188, loss = 6511.89648724\n",
      "Validation score: 0.028125\n",
      "Iteration 189, loss = 6511.03319531\n",
      "Validation score: 0.028331\n",
      "Iteration 190, loss = 6510.88125692\n",
      "Validation score: 0.027634\n",
      "Iteration 191, loss = 6510.66919747\n",
      "Validation score: 0.028401\n",
      "Iteration 192, loss = 6510.11704056\n",
      "Validation score: 0.028207\n",
      "Iteration 193, loss = 6509.57634286\n",
      "Validation score: 0.028136\n",
      "Iteration 194, loss = 6509.93394854\n",
      "Validation score: 0.028714\n",
      "Iteration 195, loss = 6508.53102747\n",
      "Validation score: 0.028667\n",
      "Iteration 196, loss = 6509.36020645\n",
      "Validation score: 0.028590\n",
      "Iteration 197, loss = 6508.87488049\n",
      "Validation score: 0.028890\n",
      "Iteration 198, loss = 6507.64290467\n",
      "Validation score: 0.028556\n",
      "Iteration 199, loss = 6508.15123833\n",
      "Validation score: 0.028391\n",
      "Iteration 200, loss = 6507.39248539\n",
      "Validation score: 0.028750\n",
      "Iteration 201, loss = 6507.39828279\n",
      "Validation score: 0.028630\n",
      "Iteration 202, loss = 6506.65228093\n",
      "Validation score: 0.028877\n",
      "Iteration 203, loss = 6506.94745235\n",
      "Validation score: 0.029135\n",
      "Iteration 204, loss = 6506.47993305\n",
      "Validation score: 0.029110\n",
      "Iteration 205, loss = 6506.06406835\n",
      "Validation score: 0.028844\n",
      "Iteration 206, loss = 6505.14785992\n",
      "Validation score: 0.029327\n",
      "Iteration 207, loss = 6505.32466135\n",
      "Validation score: 0.029320\n",
      "Iteration 208, loss = 6504.51702709\n",
      "Validation score: 0.029479\n",
      "Iteration 209, loss = 6504.69490680\n",
      "Validation score: 0.029398\n",
      "Iteration 210, loss = 6504.46929268\n",
      "Validation score: 0.028520\n",
      "Iteration 211, loss = 6504.10806949\n",
      "Validation score: 0.029361\n",
      "Iteration 212, loss = 6503.33691223\n",
      "Validation score: 0.029532\n",
      "Iteration 213, loss = 6503.70877520\n",
      "Validation score: 0.029650\n",
      "Iteration 214, loss = 6502.75292342\n",
      "Validation score: 0.029519\n",
      "Iteration 215, loss = 6503.06309206\n",
      "Validation score: 0.028985\n",
      "Iteration 216, loss = 6502.70237353\n",
      "Validation score: 0.029945\n",
      "Iteration 217, loss = 6501.72284196\n",
      "Validation score: 0.029949\n",
      "Iteration 218, loss = 6501.75366703\n",
      "Validation score: 0.029108\n",
      "Iteration 219, loss = 6502.36036677\n",
      "Validation score: 0.030167\n",
      "Iteration 220, loss = 6501.29284049\n",
      "Validation score: 0.030189\n",
      "Iteration 221, loss = 6501.12326241\n",
      "Validation score: 0.029614\n",
      "Iteration 222, loss = 6500.44232430\n",
      "Validation score: 0.029246\n",
      "Iteration 223, loss = 6500.68924164\n",
      "Validation score: 0.030345\n",
      "Iteration 224, loss = 6499.85202956\n",
      "Validation score: 0.030058\n",
      "Iteration 225, loss = 6500.23578061\n",
      "Validation score: 0.030277\n",
      "Iteration 226, loss = 6499.73404029\n",
      "Validation score: 0.030157\n",
      "Iteration 227, loss = 6499.37026674\n",
      "Validation score: 0.030531\n",
      "Iteration 228, loss = 6498.81999195\n",
      "Validation score: 0.030166\n",
      "Iteration 229, loss = 6498.40428841\n",
      "Validation score: 0.030652\n",
      "Iteration 230, loss = 6498.20859298\n",
      "Validation score: 0.030753\n",
      "Iteration 231, loss = 6497.45378294\n",
      "Validation score: 0.030826\n",
      "Iteration 232, loss = 6497.72441015\n",
      "Validation score: 0.030865\n",
      "Iteration 233, loss = 6497.49672714\n",
      "Validation score: 0.030797\n",
      "Iteration 234, loss = 6496.90761809\n",
      "Validation score: 0.030973\n",
      "Iteration 235, loss = 6496.75954126\n",
      "Validation score: 0.030944\n",
      "Iteration 236, loss = 6496.59760261\n",
      "Validation score: 0.031225\n",
      "Iteration 237, loss = 6496.29412594\n",
      "Validation score: 0.031048\n",
      "Iteration 238, loss = 6495.72238403\n",
      "Validation score: 0.030363\n",
      "Iteration 239, loss = 6495.41901810\n",
      "Validation score: 0.031080\n",
      "Iteration 240, loss = 6495.04830323\n",
      "Validation score: 0.031237\n",
      "Iteration 241, loss = 6495.49823873\n",
      "Validation score: 0.030926\n",
      "Iteration 242, loss = 6494.74065336\n",
      "Validation score: 0.031378\n",
      "Iteration 243, loss = 6494.54544198\n",
      "Validation score: 0.031765\n",
      "Iteration 244, loss = 6493.56624630\n",
      "Validation score: 0.031222\n",
      "Iteration 245, loss = 6494.04921610\n",
      "Validation score: 0.031684\n",
      "Iteration 246, loss = 6493.50621515\n",
      "Validation score: 0.030677\n",
      "Iteration 247, loss = 6493.24591701\n",
      "Validation score: 0.029264\n",
      "Iteration 248, loss = 6493.25775653\n",
      "Validation score: 0.031984\n",
      "Iteration 249, loss = 6492.67840133\n",
      "Validation score: 0.031018\n",
      "Iteration 250, loss = 6492.53275369\n",
      "Validation score: 0.032242\n",
      "Iteration 251, loss = 6492.16211732\n",
      "Validation score: 0.031007\n",
      "Iteration 252, loss = 6491.52469151\n",
      "Validation score: 0.031739\n",
      "Iteration 253, loss = 6491.50414821\n",
      "Validation score: 0.030587\n",
      "Iteration 254, loss = 6491.46281212\n",
      "Validation score: 0.031603\n",
      "Iteration 255, loss = 6491.07187183\n",
      "Validation score: 0.031917\n",
      "Iteration 256, loss = 6490.79759502\n",
      "Validation score: 0.032444\n",
      "Iteration 257, loss = 6490.96605920\n",
      "Validation score: 0.032604\n",
      "Iteration 258, loss = 6490.44735830\n",
      "Validation score: 0.032563\n",
      "Iteration 259, loss = 6489.48897960\n",
      "Validation score: 0.032087\n",
      "Iteration 260, loss = 6489.95957124\n",
      "Validation score: 0.031456\n",
      "Iteration 261, loss = 6489.19717939\n",
      "Validation score: 0.030944\n",
      "Iteration 262, loss = 6489.13477466\n",
      "Validation score: 0.032640\n",
      "Iteration 263, loss = 6488.78341079\n",
      "Validation score: 0.032403\n"
     ]
    },
    {
     "name": "stdout",
     "output_type": "stream",
     "text": [
      "Iteration 264, loss = 6488.08884679\n",
      "Validation score: 0.032793\n",
      "Iteration 265, loss = 6488.40854982\n",
      "Validation score: 0.033008\n",
      "Iteration 266, loss = 6487.88459475\n",
      "Validation score: 0.033020\n",
      "Iteration 267, loss = 6487.89433610\n",
      "Validation score: 0.032808\n",
      "Iteration 268, loss = 6487.85835852\n",
      "Validation score: 0.033372\n",
      "Iteration 269, loss = 6487.10902538\n",
      "Validation score: 0.033223\n",
      "Iteration 270, loss = 6486.87010130\n",
      "Validation score: 0.033267\n",
      "Iteration 271, loss = 6486.77051268\n",
      "Validation score: 0.033435\n",
      "Iteration 272, loss = 6486.53294622\n",
      "Validation score: 0.033538\n",
      "Iteration 273, loss = 6485.87786353\n",
      "Validation score: 0.033281\n",
      "Iteration 274, loss = 6485.84305991\n",
      "Validation score: 0.032891\n",
      "Iteration 275, loss = 6485.94376912\n",
      "Validation score: 0.033580\n",
      "Iteration 276, loss = 6485.41798822\n",
      "Validation score: 0.033714\n",
      "Iteration 277, loss = 6484.77552399\n",
      "Validation score: 0.033527\n",
      "Iteration 278, loss = 6485.45197989\n",
      "Validation score: 0.033650\n",
      "Iteration 279, loss = 6484.65544688\n",
      "Validation score: 0.033777\n",
      "Iteration 280, loss = 6483.88298770\n",
      "Validation score: 0.033589\n",
      "Iteration 281, loss = 6484.30691878\n",
      "Validation score: 0.033432\n",
      "Iteration 282, loss = 6483.67469688\n",
      "Validation score: 0.033881\n",
      "Iteration 283, loss = 6483.56588180\n",
      "Validation score: 0.034275\n",
      "Iteration 284, loss = 6483.57831925\n",
      "Validation score: 0.033419\n",
      "Iteration 285, loss = 6482.85397652\n",
      "Validation score: 0.034074\n",
      "Iteration 286, loss = 6483.00265401\n",
      "Validation score: 0.034242\n",
      "Iteration 287, loss = 6482.63006885\n",
      "Validation score: 0.034351\n",
      "Iteration 288, loss = 6482.51022629\n",
      "Validation score: 0.034418\n",
      "Iteration 289, loss = 6481.92451728\n",
      "Validation score: 0.034185\n",
      "Iteration 290, loss = 6481.99016246\n",
      "Validation score: 0.034325\n",
      "Iteration 291, loss = 6480.44699718\n",
      "Validation score: 0.034379\n",
      "Iteration 292, loss = 6480.27226354\n",
      "Validation score: 0.034073\n",
      "Iteration 293, loss = 6480.81579700\n",
      "Validation score: 0.032509\n",
      "Iteration 294, loss = 6480.13871074\n",
      "Validation score: 0.033757\n",
      "Validation score did not improve more than tol=0.000100 for 10 consecutive epochs. Stopping.\n"
     ]
    },
    {
     "data": {
      "text/plain": [
       "0.01913458534248902"
      ]
     },
     "execution_count": 116,
     "metadata": {},
     "output_type": "execute_result"
    }
   ],
   "source": [
    "regr = MLPRegressor(random_state=1, max_iter=500, early_stopping=True, verbose=True).fit(X_train, y_train)\n",
    "regr.score(X_test, y_test)"
   ]
  },
  {
   "cell_type": "markdown",
   "metadata": {},
   "source": [
    "## Keras"
   ]
  },
  {
   "cell_type": "code",
   "execution_count": 14,
   "metadata": {
    "scrolled": true
   },
   "outputs": [
    {
     "name": "stderr",
     "output_type": "stream",
     "text": [
      "Using TensorFlow backend.\n"
     ]
    }
   ],
   "source": [
    "from keras.callbacks import ModelCheckpoint\n",
    "from keras.models import Sequential\n",
    "from keras.layers import Dense, Activation, Flatten"
   ]
  },
  {
   "cell_type": "code",
   "execution_count": 21,
   "metadata": {},
   "outputs": [],
   "source": [
    "import tensorflow as tf"
   ]
  },
  {
   "cell_type": "code",
   "execution_count": 24,
   "metadata": {},
   "outputs": [
    {
     "name": "stdout",
     "output_type": "stream",
     "text": [
      "Visible devices cannot be modified after being initialized\n"
     ]
    }
   ],
   "source": [
    "gpus = tf.config.experimental.list_physical_devices('GPU')\n",
    "if gpus:\n",
    "  # Restrict TensorFlow to only use the first GPU\n",
    "  try:\n",
    "    tf.config.experimental.set_visible_devices(gpus[0], 'GPU')\n",
    "    logical_gpus = tf.config.experimental.list_logical_devices('GPU')\n",
    "    print(len(gpus), \"Physical GPUs,\", len(logical_gpus), \"Logical GPU\")\n",
    "  except RuntimeError as e:\n",
    "    # Visible devices must be set before GPUs have been initialized\n",
    "    print(e)"
   ]
  },
  {
   "cell_type": "code",
   "execution_count": 20,
   "metadata": {},
   "outputs": [],
   "source": [
    "if 'session' in locals() and session is not None:\n",
    "    print('Close interactive session')\n",
    "    session.close()"
   ]
  },
  {
   "cell_type": "code",
   "execution_count": 15,
   "metadata": {},
   "outputs": [
    {
     "name": "stderr",
     "output_type": "stream",
     "text": [
      "F:\\Anaconda\\lib\\site-packages\\pandas\\core\\frame.py:3997: SettingWithCopyWarning: \n",
      "A value is trying to be set on a copy of a slice from a DataFrame\n",
      "\n",
      "See the caveats in the documentation: https://pandas.pydata.org/pandas-docs/stable/user_guide/indexing.html#returning-a-view-versus-a-copy\n",
      "  errors=errors,\n"
     ]
    }
   ],
   "source": [
    "train, test = train_test_split(df_prune, test_size = 0.2)\n",
    "target = train.Duration\n",
    "train.drop(['Duration'],axis = 1 , inplace = True)"
   ]
  },
  {
   "cell_type": "code",
   "execution_count": 16,
   "metadata": {},
   "outputs": [],
   "source": [
    "# X, y = df_prune.drop('Duration',axis=1), df_prune['Duration']\n",
    "# train, test = train_test_split(X, test_size = 0.2)"
   ]
  },
  {
   "cell_type": "markdown",
   "metadata": {},
   "source": [
    "##### Do not run the line below, it's too GPU intensive to run on local machine"
   ]
  },
  {
   "cell_type": "code",
   "execution_count": null,
   "metadata": {},
   "outputs": [],
   "source": [
    "NN_model = Sequential()\n",
    "\n",
    "# The Input Layer :\n",
    "NN_model.add(Dense(128, kernel_initializer='normal',input_dim = train.shape[1], activation='relu'))\n",
    "\n",
    "# The Hidden Layers :\n",
    "NN_model.add(Dense(256, kernel_initializer='normal',activation='relu'))\n",
    "NN_model.add(Dense(256, kernel_initializer='normal',activation='relu'))\n",
    "NN_model.add(Dense(256, kernel_initializer='normal',activation='relu'))\n",
    "\n",
    "# The Output Layer :\n",
    "NN_model.add(Dense(1, kernel_initializer='normal',activation='linear'))\n",
    "\n",
    "# Compile the network :\n",
    "NN_model.compile(loss='mean_absolute_error', optimizer='adam', metrics=['mean_absolute_error'])\n",
    "NN_model.summary()"
   ]
  },
  {
   "cell_type": "code",
   "execution_count": 18,
   "metadata": {},
   "outputs": [],
   "source": [
    "checkpoint_name = 'Weights-{epoch:03d}--{val_loss:.5f}.hdf5' \n",
    "checkpoint = ModelCheckpoint(checkpoint_name, monitor='val_loss', verbose = 1, save_best_only = True, mode ='auto')\n",
    "callbacks_list = [checkpoint]"
   ]
  },
  {
   "cell_type": "code",
   "execution_count": null,
   "metadata": {},
   "outputs": [],
   "source": [
    "NN_model.fit(train, target, epochs=50, batch_size=10, validation_split = 0.2, callbacks=callbacks_list)"
   ]
  },
  {
   "cell_type": "code",
   "execution_count": null,
   "metadata": {},
   "outputs": [],
   "source": [
    "# Weights-488--18.80487.hdf5"
   ]
  },
  {
   "cell_type": "code",
   "execution_count": null,
   "metadata": {},
   "outputs": [],
   "source": [
    "wights_file = './models/Weights-488--18.80487.hdf5'\n",
    "NN_model.load_weights(wights_file) # load it\n",
    "NN_model.compile(loss='mean_absolute_error', optimizer='adam', metrics=['mean_absolute_error'])"
   ]
  },
  {
   "cell_type": "markdown",
   "metadata": {},
   "source": [
    "Epoch 00499: val_loss did not improve from 18.80487\n",
    "Epoch 500/500\n",
    "357619/357619 [==============================] - 10s 29us/step - loss: 18.3375 - mean_absolute_error: 18.3375 - val_loss: 18.8967 - val_mean_absolute_error: 18.8967"
   ]
  },
  {
   "cell_type": "markdown",
   "metadata": {},
   "source": [
    "r2_score(test.Duration, predictions)\n",
    "\n",
    "0.0007101090759975559"
   ]
  },
  {
   "cell_type": "markdown",
   "metadata": {},
   "source": [
    "# Conclusion"
   ]
  },
  {
   "cell_type": "markdown",
   "metadata": {},
   "source": [
    "##### Best Model is Gradient Boosting"
   ]
  },
  {
   "cell_type": "code",
   "execution_count": 18,
   "metadata": {},
   "outputs": [],
   "source": [
    "import pickle"
   ]
  },
  {
   "cell_type": "code",
   "execution_count": 28,
   "metadata": {},
   "outputs": [],
   "source": [
    "pickle.dump(est, open(\"./models/GB_Duration.pickle.dat\", \"wb\"))"
   ]
  },
  {
   "cell_type": "code",
   "execution_count": 19,
   "metadata": {},
   "outputs": [],
   "source": [
    "# load model from file\n",
    "loaded_model = pickle.load(open(\"./models/GB_Duration.pickle.dat\", \"rb\"))"
   ]
  },
  {
   "cell_type": "code",
   "execution_count": 20,
   "metadata": {},
   "outputs": [],
   "source": [
    "chk_anomaly = pd.DataFrame(loaded_model.predict(X_test))"
   ]
  },
  {
   "cell_type": "code",
   "execution_count": 24,
   "metadata": {},
   "outputs": [
    {
     "data": {
      "text/plain": [
       "55879"
      ]
     },
     "execution_count": 24,
     "metadata": {},
     "output_type": "execute_result"
    }
   ],
   "source": [
    "len(chk_anomaly)"
   ]
  },
  {
   "cell_type": "code",
   "execution_count": 23,
   "metadata": {},
   "outputs": [
    {
     "data": {
      "text/html": [
       "<div>\n",
       "<style scoped>\n",
       "    .dataframe tbody tr th:only-of-type {\n",
       "        vertical-align: middle;\n",
       "    }\n",
       "\n",
       "    .dataframe tbody tr th {\n",
       "        vertical-align: top;\n",
       "    }\n",
       "\n",
       "    .dataframe thead th {\n",
       "        text-align: right;\n",
       "    }\n",
       "</style>\n",
       "<table border=\"1\" class=\"dataframe\">\n",
       "  <thead>\n",
       "    <tr style=\"text-align: right;\">\n",
       "      <th></th>\n",
       "      <th>0</th>\n",
       "    </tr>\n",
       "  </thead>\n",
       "  <tbody>\n",
       "    <tr>\n",
       "      <th>4</th>\n",
       "      <td>142.54</td>\n",
       "    </tr>\n",
       "    <tr>\n",
       "      <th>109</th>\n",
       "      <td>171.13</td>\n",
       "    </tr>\n",
       "    <tr>\n",
       "      <th>376</th>\n",
       "      <td>125.20</td>\n",
       "    </tr>\n",
       "    <tr>\n",
       "      <th>417</th>\n",
       "      <td>124.53</td>\n",
       "    </tr>\n",
       "    <tr>\n",
       "      <th>421</th>\n",
       "      <td>164.82</td>\n",
       "    </tr>\n",
       "    <tr>\n",
       "      <th>...</th>\n",
       "      <td>...</td>\n",
       "    </tr>\n",
       "    <tr>\n",
       "      <th>55307</th>\n",
       "      <td>142.12</td>\n",
       "    </tr>\n",
       "    <tr>\n",
       "      <th>55487</th>\n",
       "      <td>136.19</td>\n",
       "    </tr>\n",
       "    <tr>\n",
       "      <th>55543</th>\n",
       "      <td>174.27</td>\n",
       "    </tr>\n",
       "    <tr>\n",
       "      <th>55605</th>\n",
       "      <td>167.92</td>\n",
       "    </tr>\n",
       "    <tr>\n",
       "      <th>55804</th>\n",
       "      <td>123.25</td>\n",
       "    </tr>\n",
       "  </tbody>\n",
       "</table>\n",
       "<p>740 rows × 1 columns</p>\n",
       "</div>"
      ],
      "text/plain": [
       "           0\n",
       "4     142.54\n",
       "109   171.13\n",
       "376   125.20\n",
       "417   124.53\n",
       "421   164.82\n",
       "...      ...\n",
       "55307 142.12\n",
       "55487 136.19\n",
       "55543 174.27\n",
       "55605 167.92\n",
       "55804 123.25\n",
       "\n",
       "[740 rows x 1 columns]"
      ]
     },
     "execution_count": 23,
     "metadata": {},
     "output_type": "execute_result"
    }
   ],
   "source": [
    "chk_anomaly[chk_anomaly[0] >= 123]"
   ]
  },
  {
   "cell_type": "code",
   "execution_count": null,
   "metadata": {},
   "outputs": [],
   "source": []
  }
 ],
 "metadata": {
  "kernelspec": {
   "display_name": "Python 3",
   "language": "python",
   "name": "python3"
  },
  "language_info": {
   "codemirror_mode": {
    "name": "ipython",
    "version": 3
   },
   "file_extension": ".py",
   "mimetype": "text/x-python",
   "name": "python",
   "nbconvert_exporter": "python",
   "pygments_lexer": "ipython3",
   "version": "3.7.7"
  },
  "toc": {
   "base_numbering": 1,
   "nav_menu": {},
   "number_sections": true,
   "sideBar": true,
   "skip_h1_title": false,
   "title_cell": "Table of Contents",
   "title_sidebar": "Contents",
   "toc_cell": false,
   "toc_position": {},
   "toc_section_display": true,
   "toc_window_display": true
  }
 },
 "nbformat": 4,
 "nbformat_minor": 4
}
